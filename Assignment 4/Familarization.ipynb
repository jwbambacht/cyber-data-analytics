{
 "cells": [
  {
   "cell_type": "code",
   "execution_count": null,
   "metadata": {},
   "outputs": [],
   "source": [
    "import pandas as pd\n",
    "import numpy as np\n",
    "import random\n",
    "import numpy as np\n",
    "import matplotlib.pyplot as plt\n",
    "from scipy import spatial\n",
    "import math\n",
    "from sklearn.metrics import jaccard_score"
   ]
  },
  {
   "cell_type": "code",
   "execution_count": null,
   "metadata": {},
   "outputs": [],
   "source": [
    "# Load the benign, malicious and modified malicious data sets after a training of 50 epochs\n",
    "data_benign_r1 = pd.read_csv('data/run1/benign.dat', header=None, sep=',')\n",
    "print(\"Benign data loaded\")\n",
    "data_mal_r1 = pd.read_csv('data/run1/malicious.dat', header=None, sep=',')\n",
    "print(\"Malicious data loaded\")\n",
    "data_mal_mod_r1 = pd.read_csv('data/run1/malicious_modified.dat', header=None, sep=',')\n",
    "print(\"Malicious modified data loaded\")"
   ]
  },
  {
   "cell_type": "code",
   "execution_count": 57,
   "metadata": {},
   "outputs": [
    {
     "name": "stdout",
     "output_type": "stream",
     "text": [
      "Benign data loaded\n",
      "Malicious data loaded\n",
      "Malicious modified data loaded\n"
     ]
    }
   ],
   "source": [
    "# Load the benign, malicious and modified malicious data sets after training 50 epochs twice, including loaded model weights\n",
    "data_benign_r3 = pd.read_csv('data/run3/benign.dat', header=None, sep=',')\n",
    "print(\"Benign data loaded\")\n",
    "data_mal_r3 = pd.read_csv('data/run3/malicious.dat', header=None, sep=',')\n",
    "print(\"Malicious data loaded\")\n",
    "data_mal_mod_r3 = pd.read_csv('data/run3/malicious_modified.dat', header=None, sep=',')\n",
    "print(\"Malicious modified data loaded\")"
   ]
  },
  {
   "cell_type": "code",
   "execution_count": 58,
   "metadata": {},
   "outputs": [
    {
     "name": "stdout",
     "output_type": "stream",
     "text": [
      "(30729, 22761)\n",
      "(30729, 22761)\n",
      "(30728, 22761)\n",
      "(30000, 22761)\n",
      "(30000, 22761)\n",
      "(30000, 22761)\n"
     ]
    }
   ],
   "source": [
    "print(data_benign_r1.shape)\n",
    "print(data_mal_r1.shape)\n",
    "print(data_mal_mod_r1.shape)\n",
    "\n",
    "print(data_benign_r3.shape)\n",
    "print(data_mal_r3.shape)\n",
    "print(data_mal_mod_r3.shape)"
   ]
  },
  {
   "cell_type": "code",
   "execution_count": 19,
   "metadata": {},
   "outputs": [
    {
     "name": "stderr",
     "output_type": "stream",
     "text": [
      "/Users/jbambacht/.local/lib/python3.7/site-packages/scipy/spatial/distance.py:714: RuntimeWarning: invalid value encountered in double_scalars\n",
      "  dist = 1.0 - uv / np.sqrt(uu * vv)\n",
      "/Users/jbambacht/.local/lib/python3.7/site-packages/sklearn/metrics/_classification.py:1221: UndefinedMetricWarning: Jaccard is ill-defined and being set to 0.0 due to no true or predicted samples. Use `zero_division` parameter to control this behavior.\n",
      "  _warn_prf(average, modifier, msg_start, len(result))\n"
     ]
    },
    {
     "name": "stdout",
     "output_type": "stream",
     "text": [
      "Cosine similarity between malicious and modififed malicious 0.004588188668526045\n",
      "Jaccard similarity between malicious and modififed malicious 0.0025618437315835124\n"
     ]
    }
   ],
   "source": [
    "# Compare Benign to Malicious data for run 1\n",
    "cosine_similarities = []\n",
    "jacard_similarities = []\n",
    "for i in range(len(data_benign_r1.columns)):\n",
    "    cos_sim = 1 - spatial.distance.cosine(data_benign_r1[i], data_mal_r1[i])\n",
    "    jac_score = jaccard_score(data_benign_r1[i], data_mal_r1[i])\n",
    "    if math.isnan(cos_sim):\n",
    "        cosine_similarities.append(0)\n",
    "    else:\n",
    "        cosine_similarities.append(cos_sim)\n",
    "        \n",
    "    if math.isnan(jac_score):\n",
    "        jacard_similarities.append(0)\n",
    "    else:\n",
    "        jacard_similarities.append(jac_score)\n",
    "print(\"Cosine similarity between benign and malicious \" + str(np.mean(cosine_similarities)))\n",
    "print(\"Jaccard similarity between benign and malicious \" + str(np.mean(jacard_similarities)))\n"
   ]
  },
  {
   "cell_type": "code",
   "execution_count": 50,
   "metadata": {},
   "outputs": [
    {
     "name": "stderr",
     "output_type": "stream",
     "text": [
      "/Users/jbambacht/.local/lib/python3.7/site-packages/scipy/spatial/distance.py:714: RuntimeWarning: invalid value encountered in double_scalars\n",
      "  dist = 1.0 - uv / np.sqrt(uu * vv)\n"
     ]
    },
    {
     "name": "stdout",
     "output_type": "stream",
     "text": [
      "Cosine similarity between malicious and modififed malicious 0.005601622184094457\n",
      "Jaccard similarity between malicious and modififed malicious 0.003287644425983657\n"
     ]
    }
   ],
   "source": [
    "# Compare Malicious and modified Malicious data for run 1\n",
    "cosine_similarities = []\n",
    "jacard_similarities = []\n",
    "for i in range(len(data_mal_r1.columns)):\n",
    "    cos_sim = 1 - spatial.distance.cosine(data_mal_r1[i][:-1], data_mal_mod_r1[i])\n",
    "    jac_score = jaccard_score(data_mal_r1[i][:-1], data_mal_mod_r1[i])\n",
    "    if math.isnan(cos_sim):\n",
    "        cosine_similarities.append(0)\n",
    "    else:\n",
    "        cosine_similarities.append(cos_sim)\n",
    "        \n",
    "    if math.isnan(jac_score):\n",
    "        jacard_similarities.append(0)\n",
    "    else:\n",
    "        jacard_similarities.append(jac_score)\n",
    "print(\"Cosine similarity between malicious and modififed malicious \" + str(np.mean(cosine_similarities)))\n",
    "print(\"Jaccard similarity between malicious and modififed malicious \" + str(np.mean(jacard_similarities)))\n",
    "\n"
   ]
  },
  {
   "cell_type": "code",
   "execution_count": 51,
   "metadata": {},
   "outputs": [
    {
     "data": {
      "image/png": "[encoded data removed]",
      "text/plain": [
       "<Figure size 432x288 with 1 Axes>"
      ]
     },
     "metadata": {
      "needs_background": "light"
     },
     "output_type": "display_data"
    }
   ],
   "source": [
    "import familiarization as fm\n",
    "# Compute the summation of each column/feature\n",
    "sum_column_benign = data_benign_r1.sum(axis = 0, skipna = True)\n",
    "sum_column_mal = data_mal_r1.sum(axis = 0, skipna = True)\n",
    "\n",
    "# Difference between benign and malicious\n",
    "diff_benign_mal = abs(sum_column_benign - sum_column_mal)\n",
    "diff_benign_mal = diff_benign_mal.sort_values(ascending=False)\n",
    "\n",
    "# Define limit for plot\n",
    "limit_top_x = 15\n",
    "\n",
    "# Create dataframe for plotting\n",
    "plot_df = pd.DataFrame()\n",
    "plot_df_mal = pd.DataFrame()\n",
    "columns = []\n",
    "for i in range(0, limit_top_x):\n",
    "    cur_feature_name = diff_benign_mal.index[i]\n",
    "    columns.append(cur_feature_name)\n",
    "    plot_df[cur_feature_name] = data_benign_r1[cur_feature_name] \n",
    "    plot_df_mal[cur_feature_name] = data_mal_r1[cur_feature_name] \n",
    "\n",
    "# Plot the data\n",
    "fm.bar_plot(plot_df, plot_df_mal, columns, \"Benign\", \"Malicious\")"
   ]
  },
  {
   "cell_type": "code",
   "execution_count": 52,
   "metadata": {},
   "outputs": [
    {
     "data": {
      "text/html": [
       "<div>\n",
       "<style scoped>\n",
       "    .dataframe tbody tr th:only-of-type {\n",
       "        vertical-align: middle;\n",
       "    }\n",
       "\n",
       "    .dataframe tbody tr th {\n",
       "        vertical-align: top;\n",
       "    }\n",
       "\n",
       "    .dataframe thead th {\n",
       "        text-align: right;\n",
       "    }\n",
       "</style>\n",
       "<table border=\"1\" class=\"dataframe\">\n",
       "  <thead>\n",
       "    <tr style=\"text-align: right;\">\n",
       "      <th></th>\n",
       "      <th>difference</th>\n",
       "      <th>percentage</th>\n",
       "    </tr>\n",
       "  </thead>\n",
       "  <tbody>\n",
       "    <tr>\n",
       "      <th>0</th>\n",
       "      <td>0.0</td>\n",
       "      <td>0.834014</td>\n",
       "    </tr>\n",
       "    <tr>\n",
       "      <th>10</th>\n",
       "      <td>1.0</td>\n",
       "      <td>NaN</td>\n",
       "    </tr>\n",
       "    <tr>\n",
       "      <th>36</th>\n",
       "      <td>2.0</td>\n",
       "      <td>NaN</td>\n",
       "    </tr>\n",
       "    <tr>\n",
       "      <th>232</th>\n",
       "      <td>3.0</td>\n",
       "      <td>NaN</td>\n",
       "    </tr>\n",
       "    <tr>\n",
       "      <th>231</th>\n",
       "      <td>4.0</td>\n",
       "      <td>NaN</td>\n",
       "    </tr>\n",
       "    <tr>\n",
       "      <th>414</th>\n",
       "      <td>42.0</td>\n",
       "      <td>NaN</td>\n",
       "    </tr>\n",
       "    <tr>\n",
       "      <th>513</th>\n",
       "      <td>46.0</td>\n",
       "      <td>0.000176</td>\n",
       "    </tr>\n",
       "    <tr>\n",
       "      <th>184</th>\n",
       "      <td>47.0</td>\n",
       "      <td>NaN</td>\n",
       "    </tr>\n",
       "    <tr>\n",
       "      <th>8</th>\n",
       "      <td>50.0</td>\n",
       "      <td>NaN</td>\n",
       "    </tr>\n",
       "    <tr>\n",
       "      <th>1</th>\n",
       "      <td>51.0</td>\n",
       "      <td>0.002153</td>\n",
       "    </tr>\n",
       "  </tbody>\n",
       "</table>\n",
       "</div>"
      ],
      "text/plain": [
       "     difference  percentage\n",
       "0           0.0    0.834014\n",
       "10          1.0         NaN\n",
       "36          2.0         NaN\n",
       "232         3.0         NaN\n",
       "231         4.0         NaN\n",
       "414        42.0         NaN\n",
       "513        46.0    0.000176\n",
       "184        47.0         NaN\n",
       "8          50.0         NaN\n",
       "1          51.0    0.002153"
      ]
     },
     "execution_count": 52,
     "metadata": {},
     "output_type": "execute_result"
    }
   ],
   "source": [
    "# Difference between benign and malicious\n",
    "total = diff_benign_mal.shape[0]\n",
    "df = pd.DataFrame()\n",
    "df['difference'] = diff_benign_mal.value_counts().index\n",
    "df['percentage'] = diff_benign_mal.value_counts() / total\n",
    "df = df.sort_values('difference')\n",
    "df = df.head(10)\n",
    "\n",
    "df"
   ]
  },
  {
   "cell_type": "code",
   "execution_count": null,
   "metadata": {},
   "outputs": [],
   "source": [
    "print(\"Comparing the k most features with less than k changes for the benign and malicious data set, shows us that \" +  str(round(df['percentage'].sum() * 100, 3)) + \"% of data only differ at most 10 values\")"
   ]
  },
  {
   "cell_type": "code",
   "execution_count": null,
   "metadata": {},
   "outputs": [],
   "source": [
    "# Sum values of each column\n",
    "sum_column_mal = data_mal_r1.sum(axis = 0, skipna = True)\n",
    "sum_column_mod = data_mal_mod_r1.sum(axis = 0, skipna = True)\n",
    "\n",
    "# Difference between  malicious and modified malicious\n",
    "diff_mod_mal = abs(sum_column_mod - sum_column_mal)\n",
    "diff_mod_mal = diff_mod_mal.sort_values(ascending=False)\n",
    "\n",
    "# Create dataframe for plotting\n",
    "plot_df_mal = pd.DataFrame()\n",
    "plot_df_mod = pd.DataFrame()\n",
    "columns = []\n",
    "for i in range(0, limit_top_x):\n",
    "    cur_feature_name = diff_mod_mal.index[i]\n",
    "    columns.append(cur_feature_name)\n",
    "    plot_df_mal[cur_feature_name] = data_mal_r1[cur_feature_name] \n",
    "    plot_df_mod[cur_feature_name] = data_mal_mod_r1[cur_feature_name] \n",
    "\n",
    "# Plot the data\n",
    "fm.bar_plot(plot_df_mal, plot_df_mod, columns, \"Malicious\", \"Malicious modified\")"
   ]
  },
  {
   "cell_type": "code",
   "execution_count": null,
   "metadata": {},
   "outputs": [],
   "source": [
    "total = diff_benign_mal.shape[0]\n",
    "df = pd.DataFrame()\n",
    "df['difference'] = diff_mod_mal.value_counts().index\n",
    "df['percentage'] = diff_mod_mal.value_counts() / total\n",
    "df = df.sort_values('difference')\n",
    "df = df.head(10)\n",
    "df"
   ]
  },
  {
   "cell_type": "code",
   "execution_count": null,
   "metadata": {},
   "outputs": [],
   "source": [
    "print(\"Comparing the k most features with less than k changes for the malicious and modified malicious data set, shows us that \" +  str(round(df['percentage'].sum() * 100, 3)) + \"% of data only differ at most 10 values\")"
   ]
  },
  {
   "cell_type": "code",
   "execution_count": null,
   "metadata": {},
   "outputs": [],
   "source": []
  },
  {
   "cell_type": "code",
   "execution_count": null,
   "metadata": {},
   "outputs": [],
   "source": []
  },
  {
   "cell_type": "code",
   "execution_count": null,
   "metadata": {},
   "outputs": [],
   "source": []
  },
  {
   "cell_type": "code",
   "execution_count": 59,
   "metadata": {},
   "outputs": [
    {
     "name": "stderr",
     "output_type": "stream",
     "text": [
      "/Users/jbambacht/.local/lib/python3.7/site-packages/scipy/spatial/distance.py:714: RuntimeWarning: invalid value encountered in double_scalars\n",
      "  dist = 1.0 - uv / np.sqrt(uu * vv)\n",
      "/Users/jbambacht/.local/lib/python3.7/site-packages/sklearn/metrics/_classification.py:1221: UndefinedMetricWarning: Jaccard is ill-defined and being set to 0.0 due to no true or predicted samples. Use `zero_division` parameter to control this behavior.\n",
      "  _warn_prf(average, modifier, msg_start, len(result))\n"
     ]
    },
    {
     "name": "stdout",
     "output_type": "stream",
     "text": [
      "Cosine similarity between benign and malicious 0.0045059890374956725\n",
      "Jaccard similarity between benign and malicious 0.0025237724705769165\n"
     ]
    }
   ],
   "source": [
    "# Compare Benign to Malicious data for run 3\n",
    "cosine_similarities = []\n",
    "jacard_similarities = []\n",
    "for i in range(len(data_benign_r3.columns)):\n",
    "    cos_sim = 1 - spatial.distance.cosine(data_benign_r3[i], data_mal_r3[i])\n",
    "    jac_score = jaccard_score(data_benign_r3[i], data_mal_r3[i])\n",
    "    if math.isnan(cos_sim):\n",
    "        cosine_similarities.append(0)\n",
    "    else:\n",
    "        cosine_similarities.append(cos_sim)\n",
    "        \n",
    "    if math.isnan(jac_score):\n",
    "        jacard_similarities.append(0)\n",
    "    else:\n",
    "        jacard_similarities.append(jac_score)\n",
    "print(\"Cosine similarity between benign and malicious \" + str(np.mean(cosine_similarities)))\n",
    "print(\"Jaccard similarity between benign and malicious \" + str(np.mean(jacard_similarities)))\n"
   ]
  },
  {
   "cell_type": "code",
   "execution_count": 60,
   "metadata": {},
   "outputs": [
    {
     "name": "stdout",
     "output_type": "stream",
     "text": [
      "Cosine similarity between malicious and modififed malicious 0.1544811385229936\n",
      "Jaccard similarity between malicious and modififed malicious 0.15194242772704086\n"
     ]
    }
   ],
   "source": [
    "# Compare Malicious and modified Malicious data for run 3\n",
    "cosine_similarities = []\n",
    "jacard_similarities = []\n",
    "for i in range(len(data_mal_r3.columns)):\n",
    "    cos_sim = 1 - spatial.distance.cosine(data_mal_r3[i], data_mal_mod_r3[i])\n",
    "    jac_score = jaccard_score(data_mal_r3[i], data_mal_mod_r3[i])\n",
    "    if math.isnan(cos_sim):\n",
    "        cosine_similarities.append(0)\n",
    "    else:\n",
    "        cosine_similarities.append(cos_sim)\n",
    "        \n",
    "    if math.isnan(jac_score):\n",
    "        jacard_similarities.append(0)\n",
    "    else:\n",
    "        jacard_similarities.append(jac_score)\n",
    "print(\"Cosine similarity between malicious and modififed malicious \" + str(np.mean(cosine_similarities)))\n",
    "print(\"Jaccard similarity between malicious and modififed malicious \" + str(np.mean(jacard_similarities)))\n",
    "\n",
    "\n"
   ]
  },
  {
   "cell_type": "code",
   "execution_count": 61,
   "metadata": {},
   "outputs": [
    {
     "data": {
      "image/png": "[encoded data removed]",
      "text/plain": [
       "<Figure size 432x288 with 1 Axes>"
      ]
     },
     "metadata": {
      "needs_background": "light"
     },
     "output_type": "display_data"
    }
   ],
   "source": [
    "import familiarization as fm\n",
    "# Compute the summation of each column/feature\n",
    "sum_column_benign = data_benign_r3.sum(axis = 0, skipna = True)\n",
    "sum_column_mal = data_mal_r3.sum(axis = 0, skipna = True)\n",
    "\n",
    "# Difference between benign and malicious\n",
    "diff_benign_mal = abs(sum_column_benign - sum_column_mal)\n",
    "diff_benign_mal = diff_benign_mal.sort_values(ascending=False)\n",
    "\n",
    "# Define limit for plot\n",
    "limit_top_x = 15\n",
    "\n",
    "# Create dataframe for plotting\n",
    "plot_df = pd.DataFrame()\n",
    "plot_df_mal = pd.DataFrame()\n",
    "columns = []\n",
    "for i in range(0, limit_top_x):\n",
    "    cur_feature_name = diff_benign_mal.index[i]\n",
    "    columns.append(cur_feature_name)\n",
    "    plot_df[cur_feature_name] = data_benign_r3[cur_feature_name] \n",
    "    plot_df_mal[cur_feature_name] = data_mal_r3[cur_feature_name] \n",
    "\n",
    "# Plot the data\n",
    "fm.bar_plot(plot_df, plot_df_mal, columns, \"Benign\", \"Malicious\")"
   ]
  },
  {
   "cell_type": "code",
   "execution_count": 62,
   "metadata": {},
   "outputs": [
    {
     "data": {
      "text/html": [
       "<div>\n",
       "<style scoped>\n",
       "    .dataframe tbody tr th:only-of-type {\n",
       "        vertical-align: middle;\n",
       "    }\n",
       "\n",
       "    .dataframe tbody tr th {\n",
       "        vertical-align: top;\n",
       "    }\n",
       "\n",
       "    .dataframe thead th {\n",
       "        text-align: right;\n",
       "    }\n",
       "</style>\n",
       "<table border=\"1\" class=\"dataframe\">\n",
       "  <thead>\n",
       "    <tr style=\"text-align: right;\">\n",
       "      <th></th>\n",
       "      <th>difference</th>\n",
       "      <th>percentage</th>\n",
       "    </tr>\n",
       "  </thead>\n",
       "  <tbody>\n",
       "    <tr>\n",
       "      <th>0</th>\n",
       "      <td>0.0</td>\n",
       "      <td>0.836606</td>\n",
       "    </tr>\n",
       "    <tr>\n",
       "      <th>1</th>\n",
       "      <td>50.0</td>\n",
       "      <td>NaN</td>\n",
       "    </tr>\n",
       "    <tr>\n",
       "      <th>2</th>\n",
       "      <td>100.0</td>\n",
       "      <td>NaN</td>\n",
       "    </tr>\n",
       "    <tr>\n",
       "      <th>3</th>\n",
       "      <td>150.0</td>\n",
       "      <td>NaN</td>\n",
       "    </tr>\n",
       "    <tr>\n",
       "      <th>4</th>\n",
       "      <td>200.0</td>\n",
       "      <td>NaN</td>\n",
       "    </tr>\n",
       "    <tr>\n",
       "      <th>5</th>\n",
       "      <td>250.0</td>\n",
       "      <td>NaN</td>\n",
       "    </tr>\n",
       "    <tr>\n",
       "      <th>6</th>\n",
       "      <td>300.0</td>\n",
       "      <td>NaN</td>\n",
       "    </tr>\n",
       "    <tr>\n",
       "      <th>7</th>\n",
       "      <td>350.0</td>\n",
       "      <td>NaN</td>\n",
       "    </tr>\n",
       "    <tr>\n",
       "      <th>8</th>\n",
       "      <td>400.0</td>\n",
       "      <td>NaN</td>\n",
       "    </tr>\n",
       "    <tr>\n",
       "      <th>9</th>\n",
       "      <td>450.0</td>\n",
       "      <td>NaN</td>\n",
       "    </tr>\n",
       "  </tbody>\n",
       "</table>\n",
       "</div>"
      ],
      "text/plain": [
       "   difference  percentage\n",
       "0         0.0    0.836606\n",
       "1        50.0         NaN\n",
       "2       100.0         NaN\n",
       "3       150.0         NaN\n",
       "4       200.0         NaN\n",
       "5       250.0         NaN\n",
       "6       300.0         NaN\n",
       "7       350.0         NaN\n",
       "8       400.0         NaN\n",
       "9       450.0         NaN"
      ]
     },
     "execution_count": 62,
     "metadata": {},
     "output_type": "execute_result"
    }
   ],
   "source": [
    "# Difference between benign and malicious\n",
    "total = diff_benign_mal.shape[0]\n",
    "df = pd.DataFrame()\n",
    "df['difference'] = diff_benign_mal.value_counts().index\n",
    "df['percentage'] = diff_benign_mal.value_counts() / total\n",
    "df = df.sort_values('difference')\n",
    "df = df.head(10)\n",
    "\n",
    "df"
   ]
  },
  {
   "cell_type": "code",
   "execution_count": 63,
   "metadata": {},
   "outputs": [
    {
     "name": "stdout",
     "output_type": "stream",
     "text": [
      "Comparing the k most features with less than k changes for the benign and malicious data set, shows us that 83.661% of data only differ at most 10 values\n"
     ]
    }
   ],
   "source": [
    "print(\"Comparing the k most features with less than k changes for the benign and malicious data set, shows us that \" +  str(round(df['percentage'].sum() * 100, 3)) + \"% of data only differ at most 10 values\")"
   ]
  },
  {
   "cell_type": "code",
   "execution_count": null,
   "metadata": {},
   "outputs": [],
   "source": []
  }
 ],
 "metadata": {
  "kernelspec": {
   "display_name": "Python 3",
   "language": "python",
   "name": "python3"
  },
  "language_info": {
   "codemirror_mode": {
    "name": "ipython",
    "version": 3
   },
   "file_extension": ".py",
   "mimetype": "text/x-python",
   "name": "python",
   "nbconvert_exporter": "python",
   "pygments_lexer": "ipython3",
   "version": "3.7.3"
  }
 },
 "nbformat": 4,
 "nbformat_minor": 4
}
