{
 "cells": [
  {
   "cell_type": "code",
   "execution_count": 1,
   "metadata": {},
   "outputs": [
    {
     "name": "stdout",
     "output_type": "stream",
     "text": [
      "First data set loaded\n",
      "Second data set loaded\n",
      "Third data set loaded\n",
      "Fourth data set loaded\n",
      "Fifth data set loaded\n"
     ]
    }
   ],
   "source": [
    "import pandas as pd\n",
    "import numpy as np\n",
    "import random\n",
    "import numpy as np\n",
    "import matplotlib.pyplot as plt\n",
    "\n",
    "# Load the different data sets (1000 samples)\n",
    "data_benign = pd.read_csv('data/benign_def_before.dat',\n",
    "            header=None, sep=',')\n",
    "print(\"First data set loaded\")\n",
    "data_mal = pd.read_csv('data/benign_def_Mal_before.dat',\n",
    "            header=None, sep=',')\n",
    "print(\"Second data set loaded\")\n",
    "data_mal_modified = pd.read_csv('data/benign_def_mal_after.dat',\n",
    "            header=None, sep=',')\n",
    "print(\"Third data set loaded\")\n",
    "\n",
    "data_mal_trained = pd.read_csv('data/benign_trained_mal_before.dat',\n",
    "            header=None, sep=',')\n",
    "print(\"Fourth data set loaded\")\n",
    "\n",
    "data_mal_modified_trained = pd.read_csv('data/benign_trained_mal_after.dat',\n",
    "            header=None, sep=',')\n",
    "print(\"Fifth data set loaded\")\n"
   ]
  },
  {
   "cell_type": "code",
   "execution_count": 2,
   "metadata": {},
   "outputs": [
    {
     "name": "stderr",
     "output_type": "stream",
     "text": [
      "/Users/lennartoverdevest/miniconda3/lib/python3.7/site-packages/scipy/spatial/distance.py:720: RuntimeWarning: invalid value encountered in double_scalars\n",
      "  dist = 1.0 - uv / np.sqrt(uu * vv)\n",
      "/Users/lennartoverdevest/miniconda3/lib/python3.7/site-packages/sklearn/metrics/_classification.py:1272: UndefinedMetricWarning: Jaccard is ill-defined and being set to 0.0 due to no true or predicted samples. Use `zero_division` parameter to control this behavior.\n",
      "  _warn_prf(average, modifier, msg_start, len(result))\n"
     ]
    },
    {
     "name": "stdout",
     "output_type": "stream",
     "text": [
      "Cosine similarity between malicious and modififed malicious 0.7495427955126407\n",
      "Jaccard similarity between malicious and modififed malicious 0.6117414799846292\n",
      "Cosine similarity between malicious and modififed malicious (trained) 0.7225115740639904\n",
      "Jaccard similarity between malicious and modififed malicious (trained) 0.5787709806573053\n"
     ]
    }
   ],
   "source": [
    "from scipy import spatial\n",
    "import math\n",
    "from sklearn.metrics import jaccard_score\n",
    "\n",
    "cosine_similarities = []\n",
    "jacard_similarities = []\n",
    "for i in range(0, len(data_mal)):\n",
    "    cos_sim = 1 - spatial.distance.cosine(data_mal_modified[i], data_mal[i])\n",
    "    jac_score = jaccard_score(data_mal_modified[i], data_mal[i])\n",
    "    if math.isnan(cos_sim):\n",
    "        cosine_similarities.append(0)\n",
    "    else:\n",
    "        cosine_similarities.append(cos_sim)\n",
    "        \n",
    "    if math.isnan(jac_score):\n",
    "        jacard_similarities.append(0)\n",
    "    else:\n",
    "        jacard_similarities.append(jac_score)\n",
    "print(\"Cosine similarity between malicious and modififed malicious \" + str(np.mean(cosine_similarities)))\n",
    "print(\"Jaccard similarity between malicious and modififed malicious \" + str(np.mean(jacard_similarities)))\n",
    "\n",
    "\n",
    "cosine_similarities = []\n",
    "jacard_similarities = []\n",
    "\n",
    "for i in range(0, len(data_mal)):\n",
    "    cos_sim = 1 - spatial.distance.cosine(data_mal_trained[i], data_mal_modified_trained[i])\n",
    "    jac_score = jaccard_score(data_mal_trained[i], data_mal_modified_trained[i])\n",
    "\n",
    "    if math.isnan(cos_sim):\n",
    "        cosine_similarities.append(0)\n",
    "    else:\n",
    "        cosine_similarities.append(cos_sim)\n",
    "    if math.isnan(jac_score):\n",
    "        jacard_similarities.append(0)\n",
    "    else:\n",
    "        jacard_similarities.append(jac_score)\n",
    "print(\"Cosine similarity between malicious and modififed malicious (trained) \" + str(np.mean(cosine_similarities)))\n",
    "print(\"Jaccard similarity between malicious and modififed malicious (trained) \" + str(np.mean(jacard_similarities)))\n"
   ]
  },
  {
   "cell_type": "code",
   "execution_count": 3,
   "metadata": {},
   "outputs": [
    {
     "data": {
      "image/png": "[encoded data removed]",
      "text/plain": [
       "<Figure size 432x288 with 1 Axes>"
      ]
     },
     "metadata": {
      "needs_background": "light"
     },
     "output_type": "display_data"
    }
   ],
   "source": [
    "import familiarization as fm\n",
    "# Compute the summation of each column/feature\n",
    "sum_column_benign = data_benign.sum(axis = 0, skipna = True)\n",
    "sum_column_mal = data_mal.sum(axis = 0, skipna = True)\n",
    "\n",
    "# Difference between benign and malicious\n",
    "diff_benign_mal = abs(sum_column_benign - sum_column_mal)\n",
    "diff_benign_mal = diff_benign_mal.sort_values(ascending=False)\n",
    "\n",
    "# Define limit for plot\n",
    "limit_top_x = 15\n",
    "\n",
    "# Create dataframe for plotting\n",
    "plot_df = pd.DataFrame()\n",
    "plot_df_mal = pd.DataFrame()\n",
    "columns = []\n",
    "for i in range(0, limit_top_x):\n",
    "    cur_feature_name = diff_benign_mal.index[i]\n",
    "    columns.append(cur_feature_name)\n",
    "    plot_df[cur_feature_name] = data_benign[cur_feature_name] \n",
    "    plot_df_mal[cur_feature_name] = data_mal[cur_feature_name] \n",
    "\n",
    "# Plot the data\n",
    "fm.bar_plot(plot_df, plot_df_mal, columns, \"Benign\", \"Malicious\")"
   ]
  },
  {
   "cell_type": "code",
   "execution_count": 4,
   "metadata": {},
   "outputs": [
    {
     "data": {
      "text/html": [
       "<div>\n",
       "<style scoped>\n",
       "    .dataframe tbody tr th:only-of-type {\n",
       "        vertical-align: middle;\n",
       "    }\n",
       "\n",
       "    .dataframe tbody tr th {\n",
       "        vertical-align: top;\n",
       "    }\n",
       "\n",
       "    .dataframe thead th {\n",
       "        text-align: right;\n",
       "    }\n",
       "</style>\n",
       "<table border=\"1\" class=\"dataframe\">\n",
       "  <thead>\n",
       "    <tr style=\"text-align: right;\">\n",
       "      <th></th>\n",
       "      <th>difference</th>\n",
       "      <th>percentage</th>\n",
       "    </tr>\n",
       "  </thead>\n",
       "  <tbody>\n",
       "    <tr>\n",
       "      <th>0</th>\n",
       "      <td>0.0</td>\n",
       "      <td>0.765125</td>\n",
       "    </tr>\n",
       "    <tr>\n",
       "      <th>1</th>\n",
       "      <td>1.0</td>\n",
       "      <td>0.139888</td>\n",
       "    </tr>\n",
       "    <tr>\n",
       "      <th>2</th>\n",
       "      <td>2.0</td>\n",
       "      <td>0.025043</td>\n",
       "    </tr>\n",
       "    <tr>\n",
       "      <th>3</th>\n",
       "      <td>3.0</td>\n",
       "      <td>0.013312</td>\n",
       "    </tr>\n",
       "    <tr>\n",
       "      <th>4</th>\n",
       "      <td>4.0</td>\n",
       "      <td>0.007513</td>\n",
       "    </tr>\n",
       "    <tr>\n",
       "      <th>5</th>\n",
       "      <td>5.0</td>\n",
       "      <td>0.004789</td>\n",
       "    </tr>\n",
       "    <tr>\n",
       "      <th>8</th>\n",
       "      <td>6.0</td>\n",
       "      <td>0.002768</td>\n",
       "    </tr>\n",
       "    <tr>\n",
       "      <th>6</th>\n",
       "      <td>7.0</td>\n",
       "      <td>0.002372</td>\n",
       "    </tr>\n",
       "    <tr>\n",
       "      <th>7</th>\n",
       "      <td>8.0</td>\n",
       "      <td>0.002812</td>\n",
       "    </tr>\n",
       "    <tr>\n",
       "      <th>9</th>\n",
       "      <td>9.0</td>\n",
       "      <td>0.002329</td>\n",
       "    </tr>\n",
       "  </tbody>\n",
       "</table>\n",
       "</div>"
      ],
      "text/plain": [
       "   difference  percentage\n",
       "0         0.0    0.765125\n",
       "1         1.0    0.139888\n",
       "2         2.0    0.025043\n",
       "3         3.0    0.013312\n",
       "4         4.0    0.007513\n",
       "5         5.0    0.004789\n",
       "8         6.0    0.002768\n",
       "6         7.0    0.002372\n",
       "7         8.0    0.002812\n",
       "9         9.0    0.002329"
      ]
     },
     "execution_count": 4,
     "metadata": {},
     "output_type": "execute_result"
    }
   ],
   "source": [
    "# Difference between benign and malicious\n",
    "total = diff_benign_mal.shape[0]\n",
    "df = pd.DataFrame()\n",
    "df['difference'] = diff_benign_mal.value_counts().index\n",
    "df['percentage'] = diff_benign_mal.value_counts() / total\n",
    "df = df.sort_values('difference')\n",
    "df = df.head(10)\n",
    "\n",
    "df"
   ]
  },
  {
   "cell_type": "code",
   "execution_count": 5,
   "metadata": {},
   "outputs": [
    {
     "name": "stdout",
     "output_type": "stream",
     "text": [
      "Comparing the k most features with less than k changes for the benign and malicious data set, shows us that 96.595% of data only differ at most 10 values\n"
     ]
    }
   ],
   "source": [
    "print(\"Comparing the k most features with less than k changes for the benign and malicious data set, shows us that \" +  str(round(df['percentage'].sum() * 100, 3)) + \"% of data only differ at most 10 values\")"
   ]
  },
  {
   "cell_type": "code",
   "execution_count": 6,
   "metadata": {},
   "outputs": [
    {
     "data": {
      "image/png": "[encoded data removed]",
      "text/plain": [
       "<Figure size 432x288 with 1 Axes>"
      ]
     },
     "metadata": {
      "needs_background": "light"
     },
     "output_type": "display_data"
    }
   ],
   "source": [
    "# Sum values of each column\n",
    "sum_column_mal = data_mal.sum(axis = 0, skipna = True)\n",
    "sum_column_mod = data_mal_modified.sum(axis = 0, skipna = True)\n",
    "\n",
    "# Difference between  malicious and modified malicious\n",
    "diff_mod_mal = abs(sum_column_mod - sum_column_mal)\n",
    "diff_mod_mal = diff_mod_mal.sort_values(ascending=False)\n",
    "\n",
    "# Create dataframe for plotting\n",
    "plot_df_mal = pd.DataFrame()\n",
    "plot_df_mod = pd.DataFrame()\n",
    "columns = []\n",
    "for i in range(0, limit_top_x):\n",
    "    cur_feature_name = diff_mod_mal.index[i]\n",
    "    columns.append(cur_feature_name)\n",
    "    plot_df_mal[cur_feature_name] = data_mal[cur_feature_name] \n",
    "    plot_df_mod[cur_feature_name] = data_mal_modified[cur_feature_name] \n",
    "\n",
    "# Plot the data\n",
    "fm.bar_plot(plot_df_mal, plot_df_mod, columns, \"Malicious\", \"Malicious modified\")"
   ]
  },
  {
   "cell_type": "code",
   "execution_count": 7,
   "metadata": {},
   "outputs": [
    {
     "data": {
      "text/html": [
       "<div>\n",
       "<style scoped>\n",
       "    .dataframe tbody tr th:only-of-type {\n",
       "        vertical-align: middle;\n",
       "    }\n",
       "\n",
       "    .dataframe tbody tr th {\n",
       "        vertical-align: top;\n",
       "    }\n",
       "\n",
       "    .dataframe thead th {\n",
       "        text-align: right;\n",
       "    }\n",
       "</style>\n",
       "<table border=\"1\" class=\"dataframe\">\n",
       "  <thead>\n",
       "    <tr style=\"text-align: right;\">\n",
       "      <th></th>\n",
       "      <th>difference</th>\n",
       "      <th>percentage</th>\n",
       "    </tr>\n",
       "  </thead>\n",
       "  <tbody>\n",
       "    <tr>\n",
       "      <th>1</th>\n",
       "      <td>0.0</td>\n",
       "      <td>0.118932</td>\n",
       "    </tr>\n",
       "    <tr>\n",
       "      <th>3</th>\n",
       "      <td>1.0</td>\n",
       "      <td>0.120733</td>\n",
       "    </tr>\n",
       "    <tr>\n",
       "      <th>0</th>\n",
       "      <td>2.0</td>\n",
       "      <td>0.180221</td>\n",
       "    </tr>\n",
       "    <tr>\n",
       "      <th>2</th>\n",
       "      <td>3.0</td>\n",
       "      <td>0.324195</td>\n",
       "    </tr>\n",
       "    <tr>\n",
       "      <th>4</th>\n",
       "      <td>4.0</td>\n",
       "      <td>0.063003</td>\n",
       "    </tr>\n",
       "    <tr>\n",
       "      <th>5</th>\n",
       "      <td>5.0</td>\n",
       "      <td>0.028602</td>\n",
       "    </tr>\n",
       "    <tr>\n",
       "      <th>7</th>\n",
       "      <td>6.0</td>\n",
       "      <td>0.007293</td>\n",
       "    </tr>\n",
       "    <tr>\n",
       "      <th>9</th>\n",
       "      <td>7.0</td>\n",
       "      <td>0.004745</td>\n",
       "    </tr>\n",
       "    <tr>\n",
       "      <th>13</th>\n",
       "      <td>8.0</td>\n",
       "      <td>0.007030</td>\n",
       "    </tr>\n",
       "    <tr>\n",
       "      <th>18</th>\n",
       "      <td>9.0</td>\n",
       "      <td>0.005843</td>\n",
       "    </tr>\n",
       "  </tbody>\n",
       "</table>\n",
       "</div>"
      ],
      "text/plain": [
       "    difference  percentage\n",
       "1          0.0    0.118932\n",
       "3          1.0    0.120733\n",
       "0          2.0    0.180221\n",
       "2          3.0    0.324195\n",
       "4          4.0    0.063003\n",
       "5          5.0    0.028602\n",
       "7          6.0    0.007293\n",
       "9          7.0    0.004745\n",
       "13         8.0    0.007030\n",
       "18         9.0    0.005843"
      ]
     },
     "execution_count": 7,
     "metadata": {},
     "output_type": "execute_result"
    }
   ],
   "source": [
    "total = diff_benign_mal.shape[0]\n",
    "df = pd.DataFrame()\n",
    "df['difference'] = diff_mod_mal.value_counts().index\n",
    "df['percentage'] = diff_mod_mal.value_counts() / total\n",
    "df = df.sort_values('difference')\n",
    "df = df.head(10)\n",
    "df"
   ]
  },
  {
   "cell_type": "code",
   "execution_count": 8,
   "metadata": {},
   "outputs": [
    {
     "name": "stdout",
     "output_type": "stream",
     "text": [
      "Comparing the k most features with less than k changes for the malicious and modified malicious data set, shows us that 86.059% of data only differ at most 10 values\n"
     ]
    }
   ],
   "source": [
    "print(\"Comparing the k most features with less than k changes for the malicious and modified malicious data set, shows us that \" +  str(round(df['percentage'].sum() * 100, 3)) + \"% of data only differ at most 10 values\")"
   ]
  },
  {
   "cell_type": "code",
   "execution_count": 9,
   "metadata": {},
   "outputs": [
    {
     "data": {
      "image/png": "[encoded data removed]",
      "text/plain": [
       "<Figure size 432x288 with 1 Axes>"
      ]
     },
     "metadata": {
      "needs_background": "light"
     },
     "output_type": "display_data"
    }
   ],
   "source": [
    "# Sum values of each column\n",
    "sum_column_mal_trained = data_mal_trained.sum(axis = 0, skipna = True)\n",
    "sum_column_mod_trained = data_mal_modified_trained.sum(axis = 0, skipna = True)\n",
    "\n",
    "# Difference between malicious and modified malicious with trained network\n",
    "diff_mod_mal_trained = abs(sum_column_mal_trained - sum_column_mod_trained)\n",
    "diff_mod_mal_trained = diff_mod_mal_trained.sort_values(ascending=False)\n",
    "\n",
    "# Create dataframe for plotting\n",
    "plot_df_mal_trained = pd.DataFrame()\n",
    "plot_df_mod_trained = pd.DataFrame()\n",
    "columns = []\n",
    "for i in range(0, limit_top_x):\n",
    "    cur_feature_name = diff_mod_mal_trained.index[i]\n",
    "    columns.append(cur_feature_name)\n",
    "    plot_df_mal_trained[cur_feature_name] = data_mal_trained[cur_feature_name] \n",
    "    plot_df_mod_trained[cur_feature_name] = data_mal_modified_trained[cur_feature_name] \n",
    "\n",
    "# Plot the data\n",
    "fm.bar_plot(plot_df_mal, plot_df_mod, columns, \"Malicious\", \"Malicious (trained) modified\")"
   ]
  },
  {
   "cell_type": "code",
   "execution_count": 10,
   "metadata": {},
   "outputs": [
    {
     "data": {
      "text/html": [
       "<div>\n",
       "<style scoped>\n",
       "    .dataframe tbody tr th:only-of-type {\n",
       "        vertical-align: middle;\n",
       "    }\n",
       "\n",
       "    .dataframe tbody tr th {\n",
       "        vertical-align: top;\n",
       "    }\n",
       "\n",
       "    .dataframe thead th {\n",
       "        text-align: right;\n",
       "    }\n",
       "</style>\n",
       "<table border=\"1\" class=\"dataframe\">\n",
       "  <thead>\n",
       "    <tr style=\"text-align: right;\">\n",
       "      <th></th>\n",
       "      <th>difference</th>\n",
       "      <th>percentage</th>\n",
       "    </tr>\n",
       "  </thead>\n",
       "  <tbody>\n",
       "    <tr>\n",
       "      <th>1</th>\n",
       "      <td>0.0</td>\n",
       "      <td>0.106322</td>\n",
       "    </tr>\n",
       "    <tr>\n",
       "      <th>3</th>\n",
       "      <td>1.0</td>\n",
       "      <td>0.152981</td>\n",
       "    </tr>\n",
       "    <tr>\n",
       "      <th>0</th>\n",
       "      <td>2.0</td>\n",
       "      <td>0.197619</td>\n",
       "    </tr>\n",
       "    <tr>\n",
       "      <th>2</th>\n",
       "      <td>3.0</td>\n",
       "      <td>0.327929</td>\n",
       "    </tr>\n",
       "    <tr>\n",
       "      <th>4</th>\n",
       "      <td>4.0</td>\n",
       "      <td>0.043364</td>\n",
       "    </tr>\n",
       "    <tr>\n",
       "      <th>6</th>\n",
       "      <td>5.0</td>\n",
       "      <td>0.006722</td>\n",
       "    </tr>\n",
       "    <tr>\n",
       "      <th>9</th>\n",
       "      <td>6.0</td>\n",
       "      <td>0.005580</td>\n",
       "    </tr>\n",
       "    <tr>\n",
       "      <th>13</th>\n",
       "      <td>7.0</td>\n",
       "      <td>0.004350</td>\n",
       "    </tr>\n",
       "    <tr>\n",
       "      <th>10</th>\n",
       "      <td>8.0</td>\n",
       "      <td>0.003998</td>\n",
       "    </tr>\n",
       "    <tr>\n",
       "      <th>12</th>\n",
       "      <td>9.0</td>\n",
       "      <td>0.003822</td>\n",
       "    </tr>\n",
       "  </tbody>\n",
       "</table>\n",
       "</div>"
      ],
      "text/plain": [
       "    difference  percentage\n",
       "1          0.0    0.106322\n",
       "3          1.0    0.152981\n",
       "0          2.0    0.197619\n",
       "2          3.0    0.327929\n",
       "4          4.0    0.043364\n",
       "6          5.0    0.006722\n",
       "9          6.0    0.005580\n",
       "13         7.0    0.004350\n",
       "10         8.0    0.003998\n",
       "12         9.0    0.003822"
      ]
     },
     "execution_count": 10,
     "metadata": {},
     "output_type": "execute_result"
    }
   ],
   "source": [
    "total = diff_mod_mal_trained.shape[0]\n",
    "df = pd.DataFrame()\n",
    "df['difference'] = diff_mod_mal_trained.value_counts().index\n",
    "df['percentage'] = diff_mod_mal_trained.value_counts() / total\n",
    "df = df.sort_values('difference')\n",
    "df = df.head(10)\n",
    "df"
   ]
  },
  {
   "cell_type": "code",
   "execution_count": 11,
   "metadata": {},
   "outputs": [
    {
     "name": "stdout",
     "output_type": "stream",
     "text": [
      "Comparing the k most features with less than k changes for the malicious and modified malicious after 10 epoches of training, shows us that 85.269% of data only differ at most 10 values\n"
     ]
    }
   ],
   "source": [
    "print(\"Comparing the k most features with less than k changes for the malicious and modified malicious after 10 epoches of training, shows us that \" +  str(round(df['percentage'].sum() * 100, 3)) + \"% of data only differ at most 10 values\")"
   ]
  },
  {
   "cell_type": "code",
   "execution_count": null,
   "metadata": {},
   "outputs": [],
   "source": []
  }
 ],
 "metadata": {
  "kernelspec": {
   "display_name": "Python 3",
   "language": "python",
   "name": "python3"
  },
  "language_info": {
   "codemirror_mode": {
    "name": "ipython",
    "version": 3
   },
   "file_extension": ".py",
   "mimetype": "text/x-python",
   "name": "python",
   "nbconvert_exporter": "python",
   "pygments_lexer": "ipython3",
   "version": "3.7.3"
  }
 },
 "nbformat": 4,
 "nbformat_minor": 4
}
