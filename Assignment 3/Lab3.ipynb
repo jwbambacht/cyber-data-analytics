{
 "cells": [
  {
   "cell_type": "markdown",
   "metadata": {},
   "source": [
    "# CS4035 - Cyber Data Analytics\n",
    "## Lab 3 "
   ]
  },
  {
   "cell_type": "markdown",
   "metadata": {},
   "source": [
    "### Submit on brightspace (zip file with the name Group_xx.zip)\n",
    "(i) This jupyter file completed with code, plots, figures and report for each question. Additional plots and figures can be created for explanation before the end of each main question. Lab 3 contains 7 main questions, including the bonus. Write the code or explanation below each sub question. For the explantions, include what you would normally include in the report for this lab assignment, for example data pre-processing, hypothesis tested, approach, results, etc.\n",
    "(ii) A PDF or a Word report for the assignment. Create a report from the plots, figures, tables and the write-up that you provide in this jupyter file. The report will be used as a proof for page limit. \n",
    "(iii) The libraries needed to run this file. \n",
    "\n",
    "Your peers should be able to use the readme section for instructions and be able to run this file. "
   ]
  },
  {
   "cell_type": "markdown",
   "metadata": {},
   "source": [
    "## Group Number :"
   ]
  },
  {
   "cell_type": "markdown",
   "metadata": {},
   "source": [
    "## Student 1 \n",
    "### Name : Joost Bambacht\n",
    "### ID : 4025016"
   ]
  },
  {
   "cell_type": "markdown",
   "metadata": {},
   "source": [
    "## Student 2\n",
    "### Name : Lennart Overdevest\n",
    "### ID : 4374436"
   ]
  },
  {
   "cell_type": "markdown",
   "metadata": {},
   "source": [
    "## Readme - Provide instructions - libraries used, location of the data file, etc. Keep it short. Remember your peers will not debug your code and should be able to reproduce the exact output you provide."
   ]
  },
  {
   "cell_type": "markdown",
   "metadata": {},
   "source": [
    "1. pip3 install -r requirements.txt\n",
    "2. Download the following datasets and place in folder 'data':\n",
    "[Scenario 9](https://mcfp.felk.cvut.cz/publicDatasets/CTU-Malware-Capture-Botnet-50/detailed-bidirectional-flow-labels/capture20110817.binetflow)\n",
    "[Scenario 10](https://mcfp.felk.cvut.cz/publicDatasets/CTU-Malware-Capture-Botnet-51/detailed-bidirectional-flow-labels/capture20110818.binetflow)\n",
    "[Scenario 11](https://mcfp.felk.cvut.cz/publicDatasets/CTU-Malware-Capture-Botnet-52/detailed-bidirectional-flow-labels/capture20110818-2.binetflow)\n",
    "[Scenario 12](https://mcfp.felk.cvut.cz/publicDatasets/CTU-Malware-Capture-Botnet-53/detailed-bidirectional-flow-labels/capture20110819.binetflow)"
   ]
  },
  {
   "cell_type": "markdown",
   "metadata": {},
   "source": [
    "## 1. Familiarization and discretization task – 1 A4"
   ]
  },
  {
   "cell_type": "markdown",
   "metadata": {},
   "source": [
    "### 1a. Plot visualizations - Select and visualize two features for modeling the behavior of the infected host."
   ]
  },
  {
   "cell_type": "code",
   "execution_count": 1,
   "metadata": {},
   "outputs": [
    {
     "name": "stderr",
     "output_type": "stream",
     "text": [
      "/Users/lennartoverdevest/miniconda3/lib/python3.7/site-packages/sklearn/utils/deprecation.py:144: FutureWarning: The sklearn.metrics.classification module is  deprecated in version 0.22 and will be removed in version 0.24. The corresponding classes / functions should instead be imported from sklearn.metrics. Anything that cannot be imported from sklearn.metrics is now part of the private API.\n",
      "  warnings.warn(message, FutureWarning)\n"
     ]
    },
    {
     "name": "stdout",
     "output_type": "stream",
     "text": [
      "Infected hosts\n",
      " Duration: 90.82559153096321\n",
      " Average Packets 30.315330224161276\n",
      " Average Bytes 27129.65718557244\n",
      " Source Bytes 27121.20417105461\n",
      " Protocols: \n",
      " ICMP    0.996474\n",
      "UDP     0.002755\n",
      "TCP     0.000771\n",
      "Name: Protocol, dtype: float64\n",
      "\n",
      "\n",
      "Non-Infected hosts\n",
      " Duration: 46.585669888622455\n",
      " Average Packets 35.74916387959866\n",
      " Average Bytes 27199.363854357292\n",
      " Source Bytes 1660.3409478134663\n",
      " Protocols: \n",
      " UDP     0.617152\n",
      "TCP     0.337162\n",
      "ICMP    0.044993\n",
      "ARP     0.000694\n",
      "Name: Protocol, dtype: float64\n",
      "\n",
      "Figure 1: Difference in distribution for infected and non-infected hosts\n"
     ]
    },
    {
     "data": {
      "text/plain": [
       "<Figure size 1000x600 with 1 Axes>"
      ]
     },
     "metadata": {},
     "output_type": "display_data"
    }
   ],
   "source": [
    "%reset -f\n",
    "%load_ext autoreload\n",
    "%autoreload 2\n",
    "\n",
    "import pandas as pd\n",
    "import seaborn as sns\n",
    "import matplotlib.pyplot as plt\n",
    "import numpy as np\n",
    "import familiarization as fam\n",
    "\n",
    "import warnings\n",
    "warnings.filterwarnings('ignore')\n",
    "\n",
    "# Read, process and divide data\n",
    "data = fam.load_data(\"data/capture20110818.binetflow.csv\")\n",
    "pdata = fam.pre_process(data)\n",
    "infected_hosts = pdata.loc[pdata[\"Infected\"] == 1]\n",
    "non_infected_hosts = pdata.loc[pdata[\"Infected\"] == 0]\n",
    "\n",
    "# Compare statistics for infected and non-infected hosts\n",
    "## Average Duration\n",
    "duration_infected = np.mean(infected_hosts[\"Duration\"])\n",
    "duration_non_infected = np.mean(non_infected_hosts[\"Duration\"])\n",
    "\n",
    "## Protocol\n",
    "protocols_infected = infected_hosts.Protocol.value_counts(normalize=True)\n",
    "protocols_non_infected = non_infected_hosts.Protocol.value_counts(normalize=True)\n",
    "\n",
    "## Average TotalPackets\n",
    "packets_infected = np.mean(infected_hosts.TotalPackets)\n",
    "packets_non_infected = np.mean(non_infected_hosts.TotalPackets)\n",
    "\n",
    "## Average TotalBytes\n",
    "bytes_infected = np.mean(infected_hosts.TotalBytes)\n",
    "bytes_non_infected = np.mean(non_infected_hosts.TotalBytes)\n",
    "\n",
    "## Average SourceBytes\n",
    "source_bytes_infected = np.mean(infected_hosts.SourceBytes)\n",
    "source_bytes_non_infected = np.mean(non_infected_hosts.SourceBytes)\n",
    "\n",
    "print(\"Infected hosts\")\n",
    "print(\" Duration:\", duration_infected)\n",
    "print(\" Average Packets\",packets_infected)\n",
    "print(\" Average Bytes\",bytes_infected)\n",
    "print(\" Source Bytes\",source_bytes_infected)\n",
    "print(\" Protocols: \\n\",protocols_infected)\n",
    "\n",
    "print(\"\\n\")\n",
    "print(\"Non-Infected hosts\")\n",
    "print(\" Duration:\", duration_non_infected)\n",
    "print(\" Average Packets\",packets_non_infected)\n",
    "print(\" Average Bytes\",bytes_non_infected)\n",
    "print(\" Source Bytes\",source_bytes_non_infected)\n",
    "print(\" Protocols: \\n\",protocols_non_infected)\n",
    "\n",
    "# Visualize protocols used to show difference between infected and non-infected hosts\n",
    "protocol_grouped = pdata.groupby('Infected')['Protocol'].value_counts(normalize=True)\n",
    "protocol_grouped = protocol_grouped.mul(100)\n",
    "protocol_grouped = protocol_grouped.rename('percent').reset_index()\n",
    "\n",
    "print()\n",
    "print(\"Figure 1: Difference in distribution for infected and non-infected hosts\")\n",
    "fig, ax = plt.subplots(figsize=(10,6))\n",
    "ax = sns.barplot(x='Protocol',y='percent',hue='Infected',data=protocol_grouped)\n",
    "ax.set_title(\"Protocols used for infected and non-infected hosts\",size=16)\n",
    "ax.set_ylabel(\"Percentage\",size=14)\n",
    "ax.set_xlabel(\"Protocols\",size=14)\n",
    "plt.show()"
   ]
  },
  {
   "cell_type": "markdown",
   "metadata": {},
   "source": [
    "### 1b. Discretize selected features"
   ]
  },
  {
   "cell_type": "code",
   "execution_count": 2,
   "metadata": {
    "scrolled": false
   },
   "outputs": [
    {
     "name": "stdout",
     "output_type": "stream",
     "text": [
      "Figure 4: Discretized Protocol and Duration features for an infected and non-infected host\n"
     ]
    },
    {
     "data": {
      "image/png": "[encoded data removed]",
      "text/plain": [
       "<Figure size 1584x360 with 2 Axes>"
      ]
     },
     "metadata": {
      "needs_background": "light"
     },
     "output_type": "display_data"
    },
    {
     "name": "stdout",
     "output_type": "stream",
     "text": [
      "Figure 5: Discretized Protocol and Duration features for all infected and non-infected hosts\n"
     ]
    },
    {
     "data": {
      "image/png": "[encoded data removed]",
      "text/plain": [
       "<Figure size 1584x360 with 2 Axes>"
      ]
     },
     "metadata": {
      "needs_background": "light"
     },
     "output_type": "display_data"
    }
   ],
   "source": [
    "# Encode protocol names\n",
    "pdata[\"Protocol\"] = fam.encode_feature(pdata[\"Protocol\"])\n",
    "\n",
    "# Select all infected and non-infected hosts\n",
    "infected_hosts = pdata.loc[pdata[\"Infected\"] == 1]\n",
    "non_infected_hosts = pdata.loc[pdata[\"Infected\"] == 0]\n",
    "\n",
    "# Select infected host with most entries in dataset\n",
    "infected_host = pdata.loc[pdata[\"SourceAddress\"] == fam.select_infected_host(pdata)]\n",
    "non_infected_host = pdata.loc[pdata[\"SourceAddress\"] == fam.select_non_infected_host(pdata)]\n",
    "\n",
    "# Apply Elbow method to find optimal number of bins\n",
    "features = [\"Protocol\",\"Duration\"]\n",
    "# for feature in features:\n",
    "#     print(\"Figure \"+str(features.index(feature)+2)+\": Optimal number of bins for feature \"+feature+\" of infected host \"+fam.select_infected_host(pdata))\n",
    "#     fam.elbow(infected_host,feature)\n",
    "\n",
    "# Optimal number of bins for Protocol and Duration feature\n",
    "nbins = [3,4]\n",
    "\n",
    "# Descretization of one infected/non-infected host\n",
    "discretized_infected = pd.DataFrame()\n",
    "discretized_non_infected = pd.DataFrame()\n",
    "\n",
    "for feature, nbin in zip(features,nbins):\n",
    "    discretized_infected[feature], binsedges_infected = fam.discretize_feature(infected_host, feature, nbin, \"kmeans\")\n",
    "    discretized_non_infected[feature], binsedges_non_infected = fam.discretize_feature(non_infected_host, feature, nbin, \"kmeans\")\n",
    "\n",
    "discretized_infected[\"Protocol-Duration\"] = discretized_infected.apply(lambda row : fam.concatenate_columns(row[\"Protocol\"], row[\"Duration\"]), axis=1)\n",
    "discretized_non_infected[\"Protocol-Duration\"] = discretized_non_infected.apply(lambda row : fam.concatenate_columns(row[\"Protocol\"], row[\"Duration\"]), axis=1)\n",
    "\n",
    "print(\"Figure 4: Discretized Protocol and Duration features for an infected and non-infected host\")\n",
    "fig, (ax1, ax2) = plt.subplots(ncols=2,figsize=(22,5))\n",
    "sns.countplot(x=\"Protocol-Duration\", data=discretized_infected, color=\"y\", ax=ax1)\n",
    "sns.countplot(x=\"Protocol-Duration\", data=discretized_non_infected, color=\"m\", ax=ax2)\n",
    "ax1.set_title(\"Discretized Infected Host: Protocol-Duration\", size=16)\n",
    "ax2.set_title(\"Discretized Non-Infected Host: Protocol-Duration\", size=16)\n",
    "plt.show()\n",
    "\n",
    "# Discretization of all hosts\n",
    "discretized_infected_all = pd.DataFrame()\n",
    "discretized_non_infected_all = pd.DataFrame()\n",
    "\n",
    "for feature, nbin in zip(features,nbins):\n",
    "    discretized_infected_all[feature], binsedges_infected = fam.discretize_feature(infected_hosts, feature, nbin, \"kmeans\")\n",
    "    discretized_non_infected_all[feature], binsedges_non_infected = fam.discretize_feature(non_infected_hosts, feature, nbin, \"kmeans\")\n",
    "\n",
    "discretized_infected_all[\"Protocol-Duration\"] = discretized_infected_all.apply(lambda row : fam.concatenate_columns(row[\"Protocol\"], row[\"Duration\"]), axis=1)\n",
    "discretized_non_infected_all[\"Protocol-Duration\"] = discretized_non_infected_all.apply(lambda row : fam.concatenate_columns(row[\"Protocol\"], row[\"Duration\"]), axis=1)\n",
    "\n",
    "print(\"Figure 5: Discretized Protocol and Duration features for all infected and non-infected hosts\")\n",
    "fig, (ax1, ax2) = plt.subplots(ncols=2,figsize=(22,5))\n",
    "sns.countplot(x=\"Protocol-Duration\", data=discretized_infected_all, color=\"y\", ax=ax1)\n",
    "sns.countplot(x=\"Protocol-Duration\", data=discretized_non_infected_all, color=\"m\", ax=ax2)\n",
    "ax1.set_title(\"All discretized Infected Host: Protocol-Duration\", size=16)\n",
    "ax2.set_title(\"All discretized Non-Infected Host: Protocol-Duration\", size=16)\n",
    "plt.show()"
   ]
  },
  {
   "cell_type": "markdown",
   "metadata": {},
   "source": [
    "### 1b. Answers and explanation"
   ]
  },
  {
   "cell_type": "markdown",
   "metadata": {},
   "source": [
    "Stream data is a continous flow of data that builds up rapidly. To be able to process and quickly judge the individual flows, discretization can be applied. Discretization breaks the very high number of degrees of freedom for each feature into small groups/categories/bins such that is easier to understand and process the data. Another advantage of discretization is that not every model is able to work with continuous data. For each feature the values are split into a number of bins (N). Bins can be filled according to multiple methods: uniform, quantile and kmeans. Some data is more suitable for one method than the other, e.g. kmeans is good applicable if the data consists of several clusters and uniform (equal-width bins) if the data is equally distributed.\n",
    "\n",
    "After processing the data the first thing to find out is which features are most suitable for discretization. Looking at the numbers we quickly see that the duration, sourcebytes, and protocols (see Figure 1) are quite different between the infected and non-infected flows. After further investigation we find that the protocol and duration feature looks most promising. For the infected hosts almost all flow uses the ICMP protocol, while the non-infected hosts mostly use UDP and TCP. The duration of a flow for infected hosts is almost twice as long as for non-infected hosts. There is not really a suitable plot method to visualize the difference for the duration feature.\n",
    "\n",
    "To find out the optimal number of bins to use for descretization we can apply the Elbow method [1]. We select an infected and non-infected host to discretize the features. Before we can apply this method, the protocol feature must be encoded in numerical values. After applying the Elbow method we obtain that the protocol feature is optimal with 3 bins and the duration feature with 4 bins (see Figure 2,3). We can now descritize both features with the obtained bin sizes. Afterwards, we can concatenate both discrete values for both features to obtain a single discrete value (see Figure 4). We see that for the infected host almost all values are '00' and for the non-infected host '10' and '20' are most popular. In Figure 5 we have applied the same discretization on all hosts in the dataset. The results are almost the same, although the non-infected flows also include some other discrete values.\n",
    "\n",
    "We can thus clearly see the effect on discretization, which can easily and quite fast be implemented to be used for infection detection. For every incoming flow both features can be discretized and concatenated to be able to make a judgement on the infection status. However, this does not directly mean that if the discretized features results in a value of '00' the host is infected. Discretization should be combined with more features or more separate discretized features to be able to make a judgement with a higher success rate.\n",
    "\n",
    "[1] Learning Behavioral Fingerprints From Netflows Using Timed Automata. Gaetano Pellegrino, Qin Lin, Christian Hammerschmidt and Sicco Verwer"
   ]
  },
  {
   "cell_type": "markdown",
   "metadata": {},
   "source": [
    "## 2. Frequent task – 1/2 A4 (Individual) - Lennart"
   ]
  },
  {
   "cell_type": "markdown",
   "metadata": {},
   "source": [
    "### 2a. Use the SPACE SAVING algorithm"
   ]
  },
  {
   "cell_type": "code",
   "execution_count": null,
   "metadata": {},
   "outputs": [],
   "source": [
    "# Discretize all data using the features found in task 1\n",
    "features = [\"Protocol\",\"Duration\"]\n",
    "nbins = [3,4]\n",
    "\n",
    "discretized_all = pd.DataFrame()\n",
    "# Discretize the Protocol and Duration feature\n",
    "for feature, nbin in zip(features,nbins):\n",
    "    discretized_all[feature], binsedges_infected = fam.discretize_feature(pdata, feature, nbin, \"kmeans\")\n",
    "# Concatenate the columns\n",
    "discretized_all[\"Protocol-Duration\"] = discretized_all.apply(lambda row : fam.concatenate_columns(row[\"Protocol\"], row[\"Duration\"]), axis=1)\n"
   ]
  },
  {
   "cell_type": "code",
   "execution_count": 64,
   "metadata": {},
   "outputs": [
    {
     "name": "stdout",
     "output_type": "stream",
     "text": [
      "{'773': 2496, '737': 2058, '377': 2360, '777': 3475, '774': 433, '477': 408, '337': 361, '333': 1151, '747': 338, '733': 343, '444': 252, '077': 271, '007': 263, '000': 421, '730': 259, '300': 261, '070': 232, '700': 232, '307': 231}\n",
      "['773', '737', '377', '777', '774', '477', '337', '333', '747', '733', '444', '077', '007', '000', '730', '300', '070', '700', '307']\n",
      "{'777': 3475, '773': 2496, '377': 2360, '737': 2058, '333': 1151, '774': 433, '000': 421, '477': 408, '337': 361, '733': 343, '747': 338, '077': 271, '007': 263, '300': 261, '730': 259, '444': 252, '070': 232, '700': 232, '307': 231}\n",
      "['20', '20', '20']\n",
      "['20', '20', '10']\n",
      "['10', '20', '20']\n",
      "['20', '10', '20']\n",
      "['10', '10', '10']\n",
      "['20', '20', '11']\n",
      "['00', '00', '00']\n",
      "['11', '20', '20']\n",
      "['10', '10', '20']\n",
      "['20', '10', '10']\n",
      "['20', '11', '20']\n",
      "['00', '20', '20']\n",
      "['00', '00', '20']\n",
      "['10', '00', '00']\n",
      "['20', '10', '00']\n",
      "['11', '11', '11']\n",
      "['00', '20', '00']\n",
      "['20', '00', '00']\n",
      "['10', '00', '20']\n"
     ]
    }
   ],
   "source": [
    "discretized_non_infected_all['single_encode'] = fam.encode_feature(discretized_non_infected_all[\"Protocol-Duration\"])\n",
    "ngram_input = ''\n",
    "for i in discretized_non_infected_all['single_encode']:\n",
    "    ngram_input += str(i)\n",
    "\n",
    "n_gram_length = 3\n",
    "k = 20\n",
    "c_list = {}\n",
    "T = []\n",
    "for i in range(0, len(ngram_input) - n_gram_length+1):\n",
    "    # Pick current ngram\n",
    "    cur_ngram = ngram_input[i: i+n_gram_length]\n",
    "#     print(cur_ngram)\n",
    "    if cur_ngram in T:\n",
    "        # Check if the ngram is contained in the list T, if so, increment counter\n",
    "        c_list[cur_ngram] += 1\n",
    "    elif len(T) < k - 1:\n",
    "        # Check if length of T is smaller than k-1, if so, add the ngram to list\n",
    "        # And set the counter for that ngram to 1\n",
    "        T.append(cur_ngram)\n",
    "        c_list[cur_ngram] = 1\n",
    "    else:\n",
    "        # Get the key containing the min value in the counter dictionary\n",
    "        min_value_key = min(c_list, key=c_list.get)\n",
    "        # Get the min value in the counter dictionary\n",
    "        min_value = c_list[min_value_key]\n",
    "\n",
    "        # Check if the current ngram is already contained in the counter dictionary to avoid undefined errors\n",
    "        c_list[cur_ngram] = min_value + 1\n",
    "\n",
    "        # Update T and keep the counter dictionary fixed size\n",
    "        # if min_value_key in T:\n",
    "        T.remove(min_value_key)\n",
    "        c_list.pop(min_value_key)\n",
    "        T.append(cur_ngram)\n",
    "print(c_list)\n",
    "print(T)\n",
    "\n",
    "sorted_counter = {k: v for k, v in sorted(c_list.items(), key=lambda item: item[1], reverse=True)}\n",
    "print(sorted_counter)\n",
    "for i in sorted_counter:\n",
    "    cur_res = [int(i[0]), int(i[1]), int(i[2])]\n",
    "    print(list(le.inverse_transform(cur_res)))"
   ]
  },
  {
   "cell_type": "code",
   "execution_count": 116,
   "metadata": {
    "scrolled": true
   },
   "outputs": [
    {
     "name": "stdout",
     "output_type": "stream",
     "text": [
      "\u001b[1mFrequencies n-grams all data\u001b[0m\n",
      "N-grams frequencies  k = 10\n",
      "{'00,00,00': 80316, '00,01,00': 7975, '00,00,01': 7954, '01,00,00': 7949, '20,20,20': 3977, '20,00,00': 3517, '00,00,20': 3517, '00,20,20': 3517, '20,20,10': 3517}\n",
      "N-grams frequencies  k = 15\n",
      "{'00,00,00': 80207, '00,01,00': 7807, '00,00,01': 7779, '01,00,00': 7774, '20,20,20': 3476, '20,20,10': 2899, '10,20,20': 2703, '20,10,20': 2389, '10,10,10': 1566, '00,00,20': 1128, '00,20,20': 1128, '20,10,00': 1128, '20,00,00': 1128, '00,20,00': 1127}\n",
      "N-grams frequencies  k = 20\n",
      "{'00,00,00': 80186, '00,01,00': 7786, '00,00,01': 7759, '01,00,00': 7754, '20,20,20': 3475, '20,20,10': 2899, '10,20,20': 2703, '20,10,20': 2388, '10,10,10': 1565, '01,00,01': 818, '00,01,01': 791, '01,01,00': 790, '20,10,10': 509, '10,10,20': 503, '00,00,20': 463, '00,20,20': 463, '20,10,00': 463, '10,00,00': 462, '20,00,00': 462}\n",
      "N-grams frequencies  k = 25\n",
      "{'00,00,00': 80177, '00,01,00': 7777, '00,00,01': 7750, '01,00,00': 7745, '20,20,20': 3475, '20,20,10': 2899, '10,20,20': 2703, '20,10,20': 2388, '10,10,10': 1564, '01,00,01': 809, '00,01,01': 782, '01,01,00': 781, '20,10,10': 475, '10,10,20': 464, '00,00,20': 308, '00,20,20': 285, '20,00,00': 270, '00,20,00': 255, '20,10,00': 241, '10,00,00': 240, '10,00,20': 214, '00,20,10': 213, '00,00,10': 212, '00,10,00': 212}\n"
     ]
    }
   ],
   "source": [
    "import spacesaving as sp\n",
    " \n",
    "k = [10, 15, 20, 25]\n",
    "data = [discretized_all, discretized_non_infected_all, discretized_infected_all]\n",
    "print('\\033[1m' + \"Frequencies n-grams all data\" + '\\033[0m')\n",
    "\n",
    "for c in k:\n",
    "    print(\"N-grams frequencies \" + \" k = \" + str(c))\n",
    "    print(sp.SpaceSaving(data[0], c))"
   ]
  },
  {
   "cell_type": "code",
   "execution_count": 118,
   "metadata": {},
   "outputs": [
    {
     "name": "stdout",
     "output_type": "stream",
     "text": [
      "\u001b[1mFrequencies n-grams non-infected hosts\u001b[0m\n",
      "Dataset:  k = 10\n",
      "{'20,20,20': 3478, '20,20,10': 2496, '10,20,20': 2362, '20,10,20': 2061, '10,10,10': 1204, '00,00,00': 1158, '00,00,20': 1029, '00,20,20': 1029, '20,00,00': 1028}\n",
      "Dataset:  k = 15\n",
      "{'20,20,20': 3476, '20,20,10': 2496, '10,20,20': 2360, '20,10,20': 2059, '10,10,10': 1153, '00,00,00': 625, '00,20,20': 470, '00,00,20': 469, '10,00,00': 469, '20,10,00': 466, '10,10,20': 456, '20,10,10': 454, '00,20,00': 446, '20,00,00': 446}\n",
      "Dataset:  k = 20\n",
      "{'20,20,20': 3475, '20,20,10': 2496, '10,20,20': 2360, '20,10,20': 2058, '10,10,10': 1151, '20,20,11': 433, '00,00,00': 421, '11,20,20': 408, '10,10,20': 361, '20,10,10': 343, '20,11,20': 338, '00,20,20': 271, '00,00,20': 263, '10,00,00': 261, '20,10,00': 259, '11,11,11': 252, '00,20,00': 232, '20,00,00': 232, '10,00,20': 231}\n",
      "Dataset:  k = 25\n",
      "{'20,20,20': 3475, '20,20,10': 2496, '10,20,20': 2360, '20,10,20': 2058, '10,10,10': 1150, '20,20,11': 433, '11,20,20': 407, '00,00,00': 371, '10,10,20': 360, '20,10,10': 342, '20,11,20': 338, '11,11,11': 248, '00,20,20': 209, '00,00,20': 177, '10,00,00': 169, '20,10,00': 168, '20,00,00': 141, '20,20,00': 138, '10,20,10': 135, '00,20,00': 135, '00,00,10': 134, '10,10,00': 134, '10,00,20': 134, '00,10,00': 133}\n"
     ]
    }
   ],
   "source": [
    "print('\\033[1m' + \"Frequencies n-grams non-infected hosts\" + '\\033[0m')\n",
    "for c in k:\n",
    "    print(\"Dataset: \"+ \" k = \" + str(c))\n",
    "    print(sp.SpaceSaving(data[1], c))"
   ]
  },
  {
   "cell_type": "code",
   "execution_count": null,
   "metadata": {},
   "outputs": [],
   "source": [
    "print('\\033[1m' + \"Frequencies n-grams infected hosts\" + '\\033[0m')\n",
    "for c in k:\n",
    "    print(\"Dataset: \"+ \" k = \" + str(c))\n",
    "    print(sp.SpaceSaving(data[2], c))"
   ]
  },
  {
   "cell_type": "markdown",
   "metadata": {},
   "source": [
    "### 2b. Analysis and answers to the questions"
   ]
  },
  {
   "cell_type": "markdown",
   "metadata": {},
   "source": [
    "ToDo: Explain results"
   ]
  },
  {
   "cell_type": "markdown",
   "metadata": {},
   "source": [
    "## 3. Sketching task – 1/2 A4 (Individual) - Joost"
   ]
  },
  {
   "cell_type": "markdown",
   "metadata": {},
   "source": [
    "### 3a. COUNT-MIN sketch\n"
   ]
  },
  {
   "cell_type": "code",
   "execution_count": null,
   "metadata": {},
   "outputs": [],
   "source": []
  },
  {
   "cell_type": "markdown",
   "metadata": {},
   "source": [
    "### 3b. Analysis and answers to the questions"
   ]
  },
  {
   "cell_type": "code",
   "execution_count": null,
   "metadata": {},
   "outputs": [],
   "source": []
  },
  {
   "cell_type": "markdown",
   "metadata": {},
   "source": [
    "## 4. Min-wise locality sensitive hashing task – 1/2 A4 (Individual) - Lennart"
   ]
  },
  {
   "cell_type": "markdown",
   "metadata": {},
   "source": [
    "### 4a. Implementation"
   ]
  },
  {
   "cell_type": "code",
   "execution_count": null,
   "metadata": {},
   "outputs": [],
   "source": []
  },
  {
   "cell_type": "markdown",
   "metadata": {},
   "source": [
    "### 4b. Analysis and answers to the questions"
   ]
  },
  {
   "cell_type": "code",
   "execution_count": null,
   "metadata": {},
   "outputs": [],
   "source": []
  },
  {
   "cell_type": "markdown",
   "metadata": {},
   "source": [
    "## 5. Random hyperplane locality sensitive hashing task – 1/2 A4 (Individual) - Joost"
   ]
  },
  {
   "cell_type": "markdown",
   "metadata": {},
   "source": [
    "### 5a. Implementation - locality sensitive hashing"
   ]
  },
  {
   "cell_type": "code",
   "execution_count": null,
   "metadata": {},
   "outputs": [],
   "source": []
  },
  {
   "cell_type": "markdown",
   "metadata": {},
   "source": [
    "### 5b. Analysis and answers to the questions. Also provide relevant plots."
   ]
  },
  {
   "cell_type": "code",
   "execution_count": null,
   "metadata": {},
   "outputs": [],
   "source": []
  },
  {
   "cell_type": "markdown",
   "metadata": {},
   "source": [
    "## 6.Botnet profiling task – 1/2 A4"
   ]
  },
  {
   "cell_type": "markdown",
   "metadata": {},
   "source": [
    "### 6a. Learn a sequential model"
   ]
  },
  {
   "cell_type": "code",
   "execution_count": null,
   "metadata": {},
   "outputs": [],
   "source": []
  },
  {
   "cell_type": "markdown",
   "metadata": {},
   "source": [
    "### 6b. Analysis and answers to the questions."
   ]
  },
  {
   "cell_type": "code",
   "execution_count": null,
   "metadata": {},
   "outputs": [],
   "source": []
  },
  {
   "cell_type": "markdown",
   "metadata": {},
   "source": [
    "## 7.Botnet fingerprinting task – 1/2 A4"
   ]
  },
  {
   "cell_type": "markdown",
   "metadata": {},
   "source": [
    "### 7a. Fingerprinting\n"
   ]
  },
  {
   "cell_type": "code",
   "execution_count": null,
   "metadata": {},
   "outputs": [],
   "source": []
  },
  {
   "cell_type": "markdown",
   "metadata": {},
   "source": [
    "### 7b. Analysis and answers to the questions."
   ]
  },
  {
   "cell_type": "code",
   "execution_count": null,
   "metadata": {},
   "outputs": [],
   "source": []
  },
  {
   "cell_type": "markdown",
   "metadata": {},
   "source": [
    "## 8. Bonus Task 1/2 A4"
   ]
  },
  {
   "cell_type": "markdown",
   "metadata": {},
   "source": [
    "### 8a. Provide implementation and analysis."
   ]
  },
  {
   "cell_type": "code",
   "execution_count": null,
   "metadata": {},
   "outputs": [],
   "source": []
  }
 ],
 "metadata": {
  "kernelspec": {
   "display_name": "Python 3",
   "language": "python",
   "name": "python3"
  },
  "language_info": {
   "codemirror_mode": {
    "name": "ipython",
    "version": 3
   },
   "file_extension": ".py",
   "mimetype": "text/x-python",
   "name": "python",
   "nbconvert_exporter": "python",
   "pygments_lexer": "ipython3",
   "version": "3.7.3"
  }
 },
 "nbformat": 4,
 "nbformat_minor": 2
}
