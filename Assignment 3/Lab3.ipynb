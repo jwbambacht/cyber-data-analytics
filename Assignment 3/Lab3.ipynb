{
 "cells": [
  {
   "cell_type": "markdown",
   "metadata": {},
   "source": [
    "# CS4035 - Cyber Data Analytics\n",
    "## Lab 3 "
   ]
  },
  {
   "cell_type": "markdown",
   "metadata": {},
   "source": [
    "### Submit on brightspace (zip file with the name Group_xx.zip)\n",
    "(i) This jupyter file completed with code, plots, figures and report for each question. Additional plots and figures can be created for explanation before the end of each main question. Lab 3 contains 7 main questions, including the bonus. Write the code or explanation below each sub question. For the explantions, include what you would normally include in the report for this lab assignment, for example data pre-processing, hypothesis tested, approach, results, etc.\n",
    "(ii) A PDF or a Word report for the assignment. Create a report from the plots, figures, tables and the write-up that you provide in this jupyter file. The report will be used as a proof for page limit. \n",
    "(iii) The libraries needed to run this file. \n",
    "\n",
    "Your peers should be able to use the readme section for instructions and be able to run this file. "
   ]
  },
  {
   "cell_type": "markdown",
   "metadata": {},
   "source": [
    "## Group Number :"
   ]
  },
  {
   "cell_type": "markdown",
   "metadata": {},
   "source": [
    "## Student 1 \n",
    "### Name : Joost Bambacht\n",
    "### ID : 4025016"
   ]
  },
  {
   "cell_type": "markdown",
   "metadata": {},
   "source": [
    "## Student 2\n",
    "### Name : Lennart Overdevest\n",
    "### ID : 4374436"
   ]
  },
  {
   "cell_type": "markdown",
   "metadata": {},
   "source": [
    "## Readme - Provide instructions - libraries used, location of the data file, etc. Keep it short. Remember your peers will not debug your code and should be able to reproduce the exact output you provide."
   ]
  },
  {
   "cell_type": "markdown",
   "metadata": {},
   "source": [
    "1. pip3 install -r requirements.txt\n",
    "2. Download the following datasets and place in folder 'data':\n",
    "[Scenario 9](https://mcfp.felk.cvut.cz/publicDatasets/CTU-Malware-Capture-Botnet-50/detailed-bidirectional-flow-labels/capture20110817.binetflow)\n",
    "[Scenario 10](https://mcfp.felk.cvut.cz/publicDatasets/CTU-Malware-Capture-Botnet-51/detailed-bidirectional-flow-labels/capture20110818.binetflow)\n",
    "[Scenario 11](https://mcfp.felk.cvut.cz/publicDatasets/CTU-Malware-Capture-Botnet-52/detailed-bidirectional-flow-labels/capture20110818-2.binetflow)\n",
    "[Scenario 12](https://mcfp.felk.cvut.cz/publicDatasets/CTU-Malware-Capture-Botnet-53/detailed-bidirectional-flow-labels/capture20110819.binetflow)"
   ]
  },
  {
   "cell_type": "markdown",
   "metadata": {},
   "source": [
    "## 1. Familiarization and discretization task – 1 A4"
   ]
  },
  {
   "cell_type": "markdown",
   "metadata": {},
   "source": [
    "### 1a. Plot visualizations - Select and visualize two features for modeling the behavior of the infected host."
   ]
  },
  {
   "cell_type": "code",
   "execution_count": 2,
   "metadata": {},
   "outputs": [
    {
     "name": "stdout",
     "output_type": "stream",
     "text": [
      "The autoreload extension is already loaded. To reload it, use:\n",
      "  %reload_ext autoreload\n",
      "Infected hosts\n",
      " Duration: 90.82559153096324\n",
      " Average Packets 30.315330224161276\n",
      " Average Bytes 27129.65718557244\n",
      " Source Bytes 27121.20417105461\n",
      " Protocols: \n",
      " ICMP    0.996474\n",
      "UDP     0.002755\n",
      "TCP     0.000771\n",
      "Name: Protocol, dtype: float64\n",
      "\n",
      "\n",
      "Non-Infected hosts\n",
      " Duration: 46.58566988862245\n",
      " Average Packets 35.74916387959866\n",
      " Average Bytes 27199.363854357292\n",
      " Source Bytes 1660.3409478134663\n",
      " Protocols: \n",
      " UDP     0.617152\n",
      "TCP     0.337162\n",
      "ICMP    0.044993\n",
      "ARP     0.000694\n",
      "Name: Protocol, dtype: float64\n",
      "\n",
      "Figure 1: Difference in distribution for infected and non-infected hosts\n"
     ]
    },
    {
     "data": {
      "image/png": "[encoded data removed]",
      "text/plain": [
       "<Figure size 720x432 with 1 Axes>"
      ]
     },
     "metadata": {},
     "output_type": "display_data"
    }
   ],
   "source": [
    "%reset -f\n",
    "%load_ext autoreload\n",
    "%autoreload 2\n",
    "\n",
    "import pandas as pd\n",
    "import seaborn as sns\n",
    "import matplotlib.pyplot as plt\n",
    "import numpy as np\n",
    "import familiarization as fam\n",
    "\n",
    "import warnings\n",
    "warnings.filterwarnings('ignore')\n",
    "\n",
    "# Read, process and divide data\n",
    "data = fam.load_data(\"data/capture20110818.binetflow\")\n",
    "pdata = fam.pre_process(data)\n",
    "infected_hosts = pdata.loc[pdata[\"Infected\"] == 1]\n",
    "non_infected_hosts = pdata.loc[pdata[\"Infected\"] == 0]\n",
    "\n",
    "# Compare statistics for infected and non-infected hosts\n",
    "## Average Duration\n",
    "duration_infected = np.mean(infected_hosts[\"Duration\"])\n",
    "duration_non_infected = np.mean(non_infected_hosts[\"Duration\"])\n",
    "\n",
    "## Protocol\n",
    "protocols_infected = infected_hosts.Protocol.value_counts(normalize=True)\n",
    "protocols_non_infected = non_infected_hosts.Protocol.value_counts(normalize=True)\n",
    "\n",
    "## Average TotalPackets\n",
    "packets_infected = np.mean(infected_hosts.TotalPackets)\n",
    "packets_non_infected = np.mean(non_infected_hosts.TotalPackets)\n",
    "\n",
    "## Average TotalBytes\n",
    "bytes_infected = np.mean(infected_hosts.TotalBytes)\n",
    "bytes_non_infected = np.mean(non_infected_hosts.TotalBytes)\n",
    "\n",
    "## Average SourceBytes\n",
    "source_bytes_infected = np.mean(infected_hosts.SourceBytes)\n",
    "source_bytes_non_infected = np.mean(non_infected_hosts.SourceBytes)\n",
    "\n",
    "print(\"Infected hosts\")\n",
    "print(\" Duration:\", duration_infected)\n",
    "print(\" Average Packets\",packets_infected)\n",
    "print(\" Average Bytes\",bytes_infected)\n",
    "print(\" Source Bytes\",source_bytes_infected)\n",
    "print(\" Protocols: \\n\",protocols_infected)\n",
    "\n",
    "print(\"\\n\")\n",
    "print(\"Non-Infected hosts\")\n",
    "print(\" Duration:\", duration_non_infected)\n",
    "print(\" Average Packets\",packets_non_infected)\n",
    "print(\" Average Bytes\",bytes_non_infected)\n",
    "print(\" Source Bytes\",source_bytes_non_infected)\n",
    "print(\" Protocols: \\n\",protocols_non_infected)\n",
    "\n",
    "# Visualize protocols used to show difference between infected and non-infected hosts\n",
    "protocol_grouped = pdata.groupby('Infected')['Protocol'].value_counts(normalize=True)\n",
    "protocol_grouped = protocol_grouped.mul(100)\n",
    "protocol_grouped = protocol_grouped.rename('percent').reset_index()\n",
    "\n",
    "print()\n",
    "print(\"Figure 1: Difference in distribution for infected and non-infected hosts\")\n",
    "fig, ax = plt.subplots(figsize=(10,6))\n",
    "ax = sns.barplot(x='Protocol',y='percent',hue='Infected',data=protocol_grouped)\n",
    "ax.set_title(\"Protocols used for infected and non-infected hosts\",size=16)\n",
    "ax.set_ylabel(\"Percentage\",size=14)\n",
    "ax.set_xlabel(\"Protocols\",size=14)\n",
    "plt.show()"
   ]
  },
  {
   "cell_type": "markdown",
   "metadata": {},
   "source": [
    "### 1b. Discretize selected features"
   ]
  },
  {
   "cell_type": "code",
   "execution_count": 3,
   "metadata": {
    "scrolled": false
   },
   "outputs": [
    {
     "name": "stdout",
     "output_type": "stream",
     "text": [
      "Figure 2: Optimal number of bins for feature Protocol of infected host 147.32.84.205\n"
     ]
    },
    {
     "data": {
      "image/png": "[encoded data removed]",
      "text/plain": [
       "<Figure size 576x396 with 2 Axes>"
      ]
     },
     "metadata": {},
     "output_type": "display_data"
    },
    {
     "name": "stdout",
     "output_type": "stream",
     "text": [
      "Figure 3: Optimal number of bins for feature Duration of infected host 147.32.84.205\n"
     ]
    },
    {
     "data": {
      "image/png": "[encoded data removed]",
      "text/plain": [
       "<Figure size 576x396 with 2 Axes>"
      ]
     },
     "metadata": {},
     "output_type": "display_data"
    },
    {
     "name": "stdout",
     "output_type": "stream",
     "text": [
      "Figure 4: Discretized Protocol and Duration features for an infected and non-infected host\n"
     ]
    },
    {
     "data": {
      "image/png": "[encoded data removed]",
      "text/plain": [
       "<Figure size 1584x360 with 2 Axes>"
      ]
     },
     "metadata": {},
     "output_type": "display_data"
    },
    {
     "name": "stdout",
     "output_type": "stream",
     "text": [
      "Figure 5: Discretized Protocol and Duration features for all infected and non-infected hosts\n"
     ]
    },
    {
     "data": {
      "image/png": "[encoded data removed]",
      "text/plain": [
       "<Figure size 1584x360 with 2 Axes>"
      ]
     },
     "metadata": {},
     "output_type": "display_data"
    }
   ],
   "source": [
    "# Encode protocol names\n",
    "pdata[\"Protocol\"] = fam.encode_feature(pdata[\"Protocol\"])\n",
    "\n",
    "# Select all infected and non-infected hosts\n",
    "infected_hosts = pdata.loc[pdata[\"Infected\"] == 1]\n",
    "non_infected_hosts = pdata.loc[pdata[\"Infected\"] == 0]\n",
    "\n",
    "# Select infected host with most entries in dataset\n",
    "infected_host = pdata.loc[pdata[\"SourceAddress\"] == fam.select_infected_host(pdata)]\n",
    "non_infected_host = pdata.loc[pdata[\"SourceAddress\"] == fam.select_non_infected_host(pdata)]\n",
    "\n",
    "# Apply Elbow method to find optimal number of bins\n",
    "features = [\"Protocol\",\"Duration\"]\n",
    "for feature in features:\n",
    "    print(\"Figure \"+str(features.index(feature)+2)+\": Optimal number of bins for feature \"+feature+\" of infected host \"+fam.select_infected_host(pdata))\n",
    "    fam.elbow(infected_host,feature)\n",
    "\n",
    "# Optimal number of bins for Protocol and Duration feature\n",
    "nbins = [3,4]\n",
    "\n",
    "# Descretization of one infected/non-infected host\n",
    "discretized_infected = pd.DataFrame()\n",
    "discretized_non_infected = pd.DataFrame()\n",
    "\n",
    "for feature, nbin in zip(features,nbins):\n",
    "    discretized_infected[feature], binsedges_infected = fam.discretize_feature(infected_host, feature, nbin, \"kmeans\")\n",
    "    discretized_non_infected[feature], binsedges_non_infected = fam.discretize_feature(non_infected_host, feature, nbin, \"kmeans\")\n",
    "\n",
    "discretized_infected[\"Protocol-Duration\"] = discretized_infected.apply(lambda row : fam.concatenate_columns(row[\"Protocol\"], row[\"Duration\"]), axis=1)\n",
    "discretized_non_infected[\"Protocol-Duration\"] = discretized_non_infected.apply(lambda row : fam.concatenate_columns(row[\"Protocol\"], row[\"Duration\"]), axis=1)\n",
    "\n",
    "print(\"Figure 4: Discretized Protocol and Duration features for an infected and non-infected host\")\n",
    "fig, (ax1, ax2) = plt.subplots(ncols=2,figsize=(22,5))\n",
    "sns.countplot(x=\"Protocol-Duration\", data=discretized_infected, color=\"y\", ax=ax1)\n",
    "sns.countplot(x=\"Protocol-Duration\", data=discretized_non_infected, color=\"m\", ax=ax2)\n",
    "ax1.set_title(\"Discretized Infected Host: Protocol-Duration\", size=16)\n",
    "ax2.set_title(\"Discretized Non-Infected Host: Protocol-Duration\", size=16)\n",
    "plt.show()\n",
    "\n",
    "# Discretization of all hosts\n",
    "discretized_infected_all = pd.DataFrame()\n",
    "discretized_non_infected_all = pd.DataFrame()\n",
    "\n",
    "for feature, nbin in zip(features,nbins):\n",
    "    discretized_infected_all[feature], binsedges_infected = fam.discretize_feature(infected_hosts, feature, nbin, \"kmeans\")\n",
    "    discretized_non_infected_all[feature], binsedges_non_infected = fam.discretize_feature(non_infected_hosts, feature, nbin, \"kmeans\")\n",
    "\n",
    "discretized_infected_all[\"Protocol-Duration\"] = discretized_infected_all.apply(lambda row : fam.concatenate_columns(row[\"Protocol\"], row[\"Duration\"]), axis=1)\n",
    "discretized_non_infected_all[\"Protocol-Duration\"] = discretized_non_infected_all.apply(lambda row : fam.concatenate_columns(row[\"Protocol\"], row[\"Duration\"]), axis=1)\n",
    "\n",
    "print(\"Figure 5: Discretized Protocol and Duration features for all infected and non-infected hosts\")\n",
    "fig, (ax1, ax2) = plt.subplots(ncols=2,figsize=(22,5))\n",
    "sns.countplot(x=\"Protocol-Duration\", data=discretized_infected_all, color=\"y\", ax=ax1)\n",
    "sns.countplot(x=\"Protocol-Duration\", data=discretized_non_infected_all, color=\"m\", ax=ax2)\n",
    "ax1.set_title(\"All discretized Infected Host: Protocol-Duration\", size=16)\n",
    "ax2.set_title(\"All discretized Non-Infected Host: Protocol-Duration\", size=16)\n",
    "plt.show()"
   ]
  },
  {
   "cell_type": "markdown",
   "metadata": {},
   "source": [
    "### 1b. Answers and explanation"
   ]
  },
  {
   "cell_type": "markdown",
   "metadata": {},
   "source": [
    "Stream data is a continous flow of data that builds up rapidly. To be able to process and quickly judge the individual flows, discretization can be applied. Discretization breaks the very high number of degrees of freedom for each feature into small groups/categories/bins such that is easier to understand and process the data. Another advantage of discretization is that not every model is able to work with continuous data. For each feature the values are split into a number of bins (N). Bins can be filled according to multiple methods: uniform, quantile and kmeans. Some data is more suitable for one method than the other, e.g. kmeans is good applicable if the data consists of several clusters and uniform (equal-width bins) if the data is equally distributed.\n",
    "\n",
    "After processing the data the first thing to find out is which features are most suitable for discretization. Looking at the numbers we quickly see that the duration, sourcebytes, and protocols (see Figure 1) are quite different between the infected and non-infected flows. After further investigation we find that the protocol and duration feature looks most promising. For the infected hosts almost all flow uses the ICMP protocol, while the non-infected hosts mostly use UDP and TCP. The duration of a flow for infected hosts is almost twice as long as for non-infected hosts. There is not really a suitable plot method to visualize the difference for the duration feature.\n",
    "\n",
    "To find out the optimal number of bins to use for descretization we can apply the Elbow method [1]. We select an infected and non-infected host to discretize the features. Before we can apply this method, the protocol feature must be encoded in numerical values. After applying the Elbow method we obtain that the protocol feature is optimal with 3 bins and the duration feature with 4 bins (see Figure 2,3). We can now descritize both features with the obtained bin sizes. Afterwards, we can concatenate both discrete values for both features to obtain a single discrete value (see Figure 4). We see that for the infected host almost all values are '00' and for the non-infected host '10' and '20' are most popular. In Figure 5 we have applied the same discretization on all hosts in the dataset. The results are almost the same, although the non-infected flows also include some other discrete values.\n",
    "\n",
    "We can thus clearly see the effect on discretization, which can easily and quite fast be implemented to be used for infection detection. For every incoming flow both features can be discretized and concatenated to be able to make a judgement on the infection status. However, this does not directly mean that if the discretized features results in a value of '00' the host is infected. Discretization should be combined with more features or more separate discretized features to be able to make a judgement with a higher success rate.\n",
    "\n",
    "[1] Learning Behavioral Fingerprints From Netflows Using Timed Automata. Gaetano Pellegrino, Qin Lin, Christian Hammerschmidt and Sicco Verwer"
   ]
  },
  {
   "cell_type": "markdown",
   "metadata": {},
   "source": [
    "## 2. Frequent task – 1/2 A4 (Individual) - Lennart"
   ]
  },
  {
   "cell_type": "markdown",
   "metadata": {},
   "source": [
    "### 2a. Use the SPACE SAVING algorithm"
   ]
  },
  {
   "cell_type": "code",
   "execution_count": null,
   "metadata": {},
   "outputs": [],
   "source": []
  },
  {
   "cell_type": "markdown",
   "metadata": {},
   "source": [
    "### 2b. Analysis and answers to the questions"
   ]
  },
  {
   "cell_type": "code",
   "execution_count": null,
   "metadata": {},
   "outputs": [],
   "source": []
  },
  {
   "cell_type": "markdown",
   "metadata": {},
   "source": [
    "## 3. Sketching task – 1/2 A4 (Individual) - Joost"
   ]
  },
  {
   "cell_type": "markdown",
   "metadata": {},
   "source": [
    "### 3a. COUNT-MIN sketch\n"
   ]
  },
  {
   "cell_type": "code",
   "execution_count": 4,
   "metadata": {},
   "outputs": [
    {
     "name": "stdout",
     "output_type": "stream",
     "text": [
      "The autoreload extension is already loaded. To reload it, use:\n",
      "  %reload_ext autoreload\n"
     ]
    },
    {
     "name": "stderr",
     "output_type": "stream",
     "text": [
      "/usr/local/lib/python3.7/site-packages/pandas/core/indexing.py:670: SettingWithCopyWarning: \n",
      "A value is trying to be set on a copy of a slice from a DataFrame\n",
      "\n",
      "See the caveats in the documentation: https://pandas.pydata.org/pandas-docs/stable/user_guide/indexing.html#returning-a-view-versus-a-copy\n",
      "  self._setitem_with_indexer(indexer, value)\n"
     ]
    },
    {
     "name": "stdout",
     "output_type": "stream",
     "text": [
      "Figure 6: the number of false positives for different widths and depths\n"
     ]
    },
    {
     "data": {
      "image/png": "[encoded data removed]",
      "text/plain": [
       "<Figure size 720x720 with 1 Axes>"
      ]
     },
     "metadata": {},
     "output_type": "display_data"
    },
    {
     "data": {
      "text/html": [
       "<div>\n",
       "<style scoped>\n",
       "    .dataframe tbody tr th:only-of-type {\n",
       "        vertical-align: middle;\n",
       "    }\n",
       "\n",
       "    .dataframe tbody tr th {\n",
       "        vertical-align: top;\n",
       "    }\n",
       "\n",
       "    .dataframe thead th {\n",
       "        text-align: right;\n",
       "    }\n",
       "</style>\n",
       "<table border=\"1\" class=\"dataframe\">\n",
       "  <thead>\n",
       "    <tr style=\"text-align: right;\">\n",
       "      <th></th>\n",
       "      <th>Trigram</th>\n",
       "      <th>CM</th>\n",
       "      <th>Count</th>\n",
       "      <th>Extra_Frequency</th>\n",
       "    </tr>\n",
       "    <tr>\n",
       "      <th>Top</th>\n",
       "      <th></th>\n",
       "      <th></th>\n",
       "      <th></th>\n",
       "      <th></th>\n",
       "    </tr>\n",
       "  </thead>\n",
       "  <tbody>\n",
       "    <tr>\n",
       "      <th>0</th>\n",
       "      <td>000</td>\n",
       "      <td>105686</td>\n",
       "      <td>105557</td>\n",
       "      <td>100.122</td>\n",
       "    </tr>\n",
       "    <tr>\n",
       "      <th>1</th>\n",
       "      <td>222</td>\n",
       "      <td>3442</td>\n",
       "      <td>3442</td>\n",
       "      <td>100</td>\n",
       "    </tr>\n",
       "    <tr>\n",
       "      <th>2</th>\n",
       "      <td>221</td>\n",
       "      <td>2943</td>\n",
       "      <td>2943</td>\n",
       "      <td>100</td>\n",
       "    </tr>\n",
       "    <tr>\n",
       "      <th>3</th>\n",
       "      <td>122</td>\n",
       "      <td>3142</td>\n",
       "      <td>2824</td>\n",
       "      <td>111.261</td>\n",
       "    </tr>\n",
       "    <tr>\n",
       "      <th>4</th>\n",
       "      <td>212</td>\n",
       "      <td>2468</td>\n",
       "      <td>2468</td>\n",
       "      <td>100</td>\n",
       "    </tr>\n",
       "    <tr>\n",
       "      <th>5</th>\n",
       "      <td>111</td>\n",
       "      <td>1637</td>\n",
       "      <td>1637</td>\n",
       "      <td>100</td>\n",
       "    </tr>\n",
       "    <tr>\n",
       "      <th>6</th>\n",
       "      <td>211</td>\n",
       "      <td>632</td>\n",
       "      <td>542</td>\n",
       "      <td>116.605</td>\n",
       "    </tr>\n",
       "    <tr>\n",
       "      <th>7</th>\n",
       "      <td>112</td>\n",
       "      <td>531</td>\n",
       "      <td>531</td>\n",
       "      <td>100</td>\n",
       "    </tr>\n",
       "    <tr>\n",
       "      <th>8</th>\n",
       "      <td>002</td>\n",
       "      <td>416</td>\n",
       "      <td>416</td>\n",
       "      <td>100</td>\n",
       "    </tr>\n",
       "    <tr>\n",
       "      <th>9</th>\n",
       "      <td>200</td>\n",
       "      <td>3142</td>\n",
       "      <td>318</td>\n",
       "      <td>988.05</td>\n",
       "    </tr>\n",
       "  </tbody>\n",
       "</table>\n",
       "</div>"
      ],
      "text/plain": [
       "    Trigram      CM   Count Extra_Frequency\n",
       "Top                                        \n",
       "0       000  105686  105557         100.122\n",
       "1       222    3442    3442             100\n",
       "2       221    2943    2943             100\n",
       "3       122    3142    2824         111.261\n",
       "4       212    2468    2468             100\n",
       "5       111    1637    1637             100\n",
       "6       211     632     542         116.605\n",
       "7       112     531     531             100\n",
       "8       002     416     416             100\n",
       "9       200    3142     318          988.05"
      ]
     },
     "execution_count": 4,
     "metadata": {},
     "output_type": "execute_result"
    }
   ],
   "source": [
    "%reset -f\n",
    "%load_ext autoreload\n",
    "%autoreload 2\n",
    "\n",
    "import pandas as pd\n",
    "import seaborn as sns\n",
    "import matplotlib.pyplot as plt\n",
    "import matplotlib\n",
    "import numpy as np\n",
    "import sketching as sketch\n",
    "import math\n",
    "\n",
    "data = sketch.load_data(\"data/capture20110818.binetflow\")\n",
    "pdata = sketch.pre_process(data)\n",
    "\n",
    "# We first discretize the values for the features we selected in the discretization task. \n",
    "# We then make trigrams \n",
    "# Optimal number of bins for source address, based on elbow method\n",
    "nbin_source_address = 3\n",
    "\n",
    "# Discretize the protocol values (after encoding them first)\n",
    "discretized = pd.DataFrame()\n",
    "discretized[\"SourceAddress\"] = pdata['SourceAddress'].copy()\n",
    "discretized[\"Protocol\"] = sketch.encode_feature(pdata[\"Protocol\"])\n",
    "discretized[\"Protocol\"], binsedges_infected = sketch.discretize_feature(discretized, \"Protocol\", nbin_source_address, \"kmeans\")\n",
    "\n",
    "# Create 3-grams based on the descretized protocol and of its two predecessors\n",
    "discretized[\"trigram\"] = 0\n",
    "discretized.trigram.iloc[0] = str(discretized.Protocol.iloc[0])+\"\"+str(discretized.Protocol.iloc[0])+\"\"+str(discretized.Protocol.iloc[0])\n",
    "discretized.trigram.iloc[1] = str(discretized.Protocol.iloc[0])+\"\"+str(discretized.Protocol.iloc[0])+\"\"+str(discretized.Protocol.iloc[1])\n",
    "\n",
    "for i in range(2,len(discretized)):\n",
    "    discretized.trigram.iloc[i] = str(discretized.Protocol.iloc[i-2])+\"\"+str(discretized.Protocol.iloc[i-1])+\"\"+str(discretized.Protocol.iloc[i])\n",
    "\n",
    "# Define possible values for error probability (δ) and error factor (ε).\n",
    "# Higher width and depth implies a lower error.\n",
    "deltas = [0.05, 0.025, 0.01, 0.0025, 0.001]\n",
    "epsilons = [0.1, 0.05, 0.02, 0.01, 0.005]\n",
    "combinations = [(i, j) for i in deltas for j in epsilons]\n",
    "\n",
    "results = pd.DataFrame(columns=[\"Width\",\"Depth\",\"Delta\",\"Epsilon\",\"Trigram\",\"CM\",\"Count\", \"FP\"])\n",
    "\n",
    "# For each combination of delta and epsilon the sketch is computed\n",
    "for delta, epsilon in combinations:\n",
    "    # Calculate the width (possible values) and depth (hash functions)\n",
    "    width = (int) (1/epsilon)\n",
    "    depth = round((math.log(1/delta)))\n",
    "    hash_values = [[0]*width]*depth\n",
    "\n",
    "    # Compute the sketch by increasing the value for the corresponding hash function by one for each 3-gram\n",
    "    for trigram in discretized.trigram:\n",
    "        for i in range(depth):\n",
    "            hash_values[i][sketch.hash_function(trigram,i,width)] += 1\n",
    "    \n",
    "    # For each unique trigram the number of COUNT-MIN value is computed and saved for evaluation\n",
    "    for value in discretized.trigram.unique():\n",
    "        hashes = [sketch.hash_function(value,x,width) for x in range(depth)]\n",
    "        values = [0]*depth\n",
    "\n",
    "        for h in range(depth):\n",
    "            values[h] = hash_values[h][hashes[h]]\n",
    "            \n",
    "        fp = np.min(values)-len(discretized.loc[discretized[\"trigram\"] == value])\n",
    "        results = results.append({\"Width\": width, \"Depth\": depth, \"Delta\": delta,\"Epsilon\": epsilon,\"Trigram\": value,\"CM\": np.min(values),\"Count\": len(discretized.loc[discretized[\"trigram\"] == value]), \"FP\": fp}, ignore_index=True)\n",
    "        \n",
    "# Group the results for the FP count\n",
    "grouped_results = results.groupby(['Width','Depth']).agg({'FP':'sum'}).reset_index()\n",
    "\n",
    "# Plot the results for each combination of width and depth\n",
    "print(\"Figure 6: the number of false positives for different widths and depths\")\n",
    "fig,ax = plt.subplots(figsize=(10,10))\n",
    "sns.barplot(x=\"Width\",y=\"FP\",hue=\"Depth\",data=results, ci=None, ax=ax)\n",
    "ax.set_title(\"Number of False Positives for width and depth\", size=16)\n",
    "plt.show()\n",
    "\n",
    "# Choose a suitable width and depth based on the results and obtain the frequencies for the top10 3-grams\n",
    "filter_results = results.loc[(results[\"Width\"] == 100) & (results[\"Depth\"] == 4)].sort_values(by=['Count'], ascending=False)\n",
    "filter_results[\"FP\"] = filter_results[\"CM\"]-filter_results[\"Count\"]\n",
    "filter_results[\"Extra_Frequency\"] = filter_results[\"CM\"]/filter_results[\"Count\"]*100\n",
    "top_trigrams = filter_results[[\"Trigram\",\"CM\",\"Count\",\"Extra_Frequency\"]].reset_index()\n",
    "top_trigrams.index.name = \"Top\"\n",
    "top_trigrams[[\"Trigram\",\"CM\",\"Count\",\"Extra_Frequency\"]].head(10)"
   ]
  },
  {
   "cell_type": "markdown",
   "metadata": {},
   "source": [
    "### 3b. Analysis and answers to the questions"
   ]
  },
  {
   "cell_type": "markdown",
   "metadata": {},
   "source": [
    "COUNT-MIN sketches are very good applicable to continuous streams of data. They reflect an approximation of the real data in the streams in sub-linear space, in which the approximation differs because of the chosen variables of width and depth. As with discretization, it uses only a fraction of the distinct values. The width and depth (number of distinct hash functions) variables depend on the error probability (δ) and error factor (ε). The width is equal to the inverse of the error factor (1/ε) and the depth is equal the logarithm of the inverse of the error probability (log(1/δ)). The hash functions must be pair-wise independent to prevent hash collisions in the profiles. This independence is preserved using gi(x) = h1(x) + i*h2(x), described in [2]. The 3-gram profiles are built by concatenating the discretized values of the protocol feature of a row and its two predecessors. \n",
    "\n",
    "We expect that the higher the width and depth, the less false positives should appear because the probability of a collision is lower. Simply choosing a very high width and depth contradicts the use of sketching since this method aims to lower the width and depth. We therefore must find a good trade-off in false positives and width and depth.\n",
    "\n",
    "What we observe from the results is that for a width of 10 the number of false positives is enormous (see Figure 6). Increasing the width from 20 to 50 increases the accuracy significantly. For a width of at least 200 the number of false positives is almost zero, although this also increases the used memory significantly. We would like to choose a width and depth that is memory efficient with a low number of false positives. The biggest relative accuracy increase (and not too many number of FP) is obtained with a width of 100 and a depth of 4, 'only' storing 400 values. Using the chosen width and depth, we obtain the top 10 with their frequencies. We see that \"000\" is clearly the most frequent 3-gram, with a fraction of collisions in about 100K occurences. \n",
    "\n",
    "As said earlier, the COUNT-MIN sketch approximation is probablistic, which increases the accuracy by the use of a higher width and depth. The lower the width and depth, the more approximation errors arise. These approximation errors originate from collisions in the (3-gram) profiles. The more hash functions are used, the lower the probability that there exists hash collisions (overlap) with the same profile. However, this does not mean that the width and depth are independent from each other. If a lot of hash functions are used in combination with a low width, the probability of the same profiles as a result increase. \n",
    "\n",
    "[2] Less Hashing, Same Performance: Building a Better Bloom Filter. Adam Kirsch, Michael Mitzenmacher."
   ]
  },
  {
   "cell_type": "markdown",
   "metadata": {},
   "source": [
    "## 4. Min-wise locality sensitive hashing task – 1/2 A4 (Individual) - Lennart"
   ]
  },
  {
   "cell_type": "markdown",
   "metadata": {},
   "source": [
    "### 4a. Implementation"
   ]
  },
  {
   "cell_type": "code",
   "execution_count": null,
   "metadata": {},
   "outputs": [],
   "source": []
  },
  {
   "cell_type": "markdown",
   "metadata": {},
   "source": [
    "### 4b. Analysis and answers to the questions"
   ]
  },
  {
   "cell_type": "code",
   "execution_count": null,
   "metadata": {},
   "outputs": [],
   "source": []
  },
  {
   "cell_type": "markdown",
   "metadata": {},
   "source": [
    "## 5. Random hyperplane locality sensitive hashing task – 1/2 A4 (Individual) - Joost"
   ]
  },
  {
   "cell_type": "markdown",
   "metadata": {},
   "source": [
    "### 5a. Implementation - locality sensitive hashing"
   ]
  },
  {
   "cell_type": "code",
   "execution_count": 16,
   "metadata": {},
   "outputs": [
    {
     "name": "stdout",
     "output_type": "stream",
     "text": [
      "The autoreload extension is already loaded. To reload it, use:\n",
      "  %reload_ext autoreload\n",
      "Infected host bins:\n",
      "[1, 2, 2]    64.516129\n",
      "[1, 1, 2]    32.258065\n",
      "[2, 1, 2]     3.225806\n",
      "Name: bins_combined, dtype: float64 \n",
      "\n",
      "Normal host bins:\n",
      "[2, 1, 2]    81.992337\n",
      "[1, 2, 2]    16.091954\n",
      "[1, 1, 2]     1.532567\n",
      "[1, 1, 3]     0.383142\n",
      "Name: bins_combined, dtype: float64 \n",
      "\n",
      "Unknown host bins:\n",
      "[1, 2, 2]    90.909091\n",
      "[2, 1, 2]     9.090909\n",
      "Name: bins_combined, dtype: float64 \n",
      "\n",
      "Time elapsed pair-wise computations: 1.8759288787841797\n",
      "Time elapsed for profiles in same bin: 1.0869488716125488\n",
      "\n",
      "Table 5a: result of applying LSH with random hyperplanes\n"
     ]
    },
    {
     "data": {
      "text/html": [
       "<div>\n",
       "<style scoped>\n",
       "    .dataframe tbody tr th:only-of-type {\n",
       "        vertical-align: middle;\n",
       "    }\n",
       "\n",
       "    .dataframe tbody tr th {\n",
       "        vertical-align: top;\n",
       "    }\n",
       "\n",
       "    .dataframe thead th {\n",
       "        text-align: right;\n",
       "    }\n",
       "</style>\n",
       "<table border=\"1\" class=\"dataframe\">\n",
       "  <thead>\n",
       "    <tr style=\"text-align: right;\">\n",
       "      <th></th>\n",
       "      <th>SourceAddress</th>\n",
       "      <th>DestinationAddress</th>\n",
       "      <th>trigrams_counts</th>\n",
       "      <th>hash_code_0</th>\n",
       "      <th>bin_0</th>\n",
       "      <th>hash_code_1</th>\n",
       "      <th>bin_1</th>\n",
       "      <th>hash_code_2</th>\n",
       "      <th>bin_2</th>\n",
       "      <th>bins_combined</th>\n",
       "    </tr>\n",
       "  </thead>\n",
       "  <tbody>\n",
       "    <tr>\n",
       "      <th>0</th>\n",
       "      <td>147.32.1.20</td>\n",
       "      <td>147.32.85.20</td>\n",
       "      <td>[0, 0, 0, 0, 0, 0, 0, 0, 0, 0, 0, 0, 0, 0, 0, ...</td>\n",
       "      <td>00</td>\n",
       "      <td>0</td>\n",
       "      <td>00</td>\n",
       "      <td>0</td>\n",
       "      <td>00</td>\n",
       "      <td>0</td>\n",
       "      <td>[0, 0, 0]</td>\n",
       "    </tr>\n",
       "    <tr>\n",
       "      <th>1</th>\n",
       "      <td>147.32.1.20</td>\n",
       "      <td>147.32.85.7</td>\n",
       "      <td>[0, 0, 0, 0, 0, 0, 3, 0, 0, 0, 0, 0, 0, 0, 0, ...</td>\n",
       "      <td>01</td>\n",
       "      <td>1</td>\n",
       "      <td>10</td>\n",
       "      <td>2</td>\n",
       "      <td>10</td>\n",
       "      <td>2</td>\n",
       "      <td>[1, 2, 2]</td>\n",
       "    </tr>\n",
       "    <tr>\n",
       "      <th>2</th>\n",
       "      <td>147.32.1.20</td>\n",
       "      <td>147.32.85.8</td>\n",
       "      <td>[0, 0, 0, 0, 0, 0, 0, 0, 0, 0, 0, 0, 0, 0, 0, ...</td>\n",
       "      <td>00</td>\n",
       "      <td>0</td>\n",
       "      <td>00</td>\n",
       "      <td>0</td>\n",
       "      <td>00</td>\n",
       "      <td>0</td>\n",
       "      <td>[0, 0, 0]</td>\n",
       "    </tr>\n",
       "    <tr>\n",
       "      <th>3</th>\n",
       "      <td>147.32.1.20</td>\n",
       "      <td>147.32.86.135</td>\n",
       "      <td>[0, 0, 0, 0, 0, 0, 0, 0, 0, 0, 0, 0, 0, 0, 0, ...</td>\n",
       "      <td>00</td>\n",
       "      <td>0</td>\n",
       "      <td>00</td>\n",
       "      <td>0</td>\n",
       "      <td>00</td>\n",
       "      <td>0</td>\n",
       "      <td>[0, 0, 0]</td>\n",
       "    </tr>\n",
       "    <tr>\n",
       "      <th>4</th>\n",
       "      <td>147.32.1.20</td>\n",
       "      <td>147.32.86.155</td>\n",
       "      <td>[0, 0, 0, 0, 0, 0, 0, 0, 0, 0, 0, 0, 0, 0, 0, ...</td>\n",
       "      <td>00</td>\n",
       "      <td>0</td>\n",
       "      <td>00</td>\n",
       "      <td>0</td>\n",
       "      <td>00</td>\n",
       "      <td>0</td>\n",
       "      <td>[0, 0, 0]</td>\n",
       "    </tr>\n",
       "  </tbody>\n",
       "</table>\n",
       "</div>"
      ],
      "text/plain": [
       "  SourceAddress DestinationAddress  \\\n",
       "0   147.32.1.20       147.32.85.20   \n",
       "1   147.32.1.20        147.32.85.7   \n",
       "2   147.32.1.20        147.32.85.8   \n",
       "3   147.32.1.20      147.32.86.135   \n",
       "4   147.32.1.20      147.32.86.155   \n",
       "\n",
       "                                     trigrams_counts hash_code_0 bin_0  \\\n",
       "0  [0, 0, 0, 0, 0, 0, 0, 0, 0, 0, 0, 0, 0, 0, 0, ...          00     0   \n",
       "1  [0, 0, 0, 0, 0, 0, 3, 0, 0, 0, 0, 0, 0, 0, 0, ...          01     1   \n",
       "2  [0, 0, 0, 0, 0, 0, 0, 0, 0, 0, 0, 0, 0, 0, 0, ...          00     0   \n",
       "3  [0, 0, 0, 0, 0, 0, 0, 0, 0, 0, 0, 0, 0, 0, 0, ...          00     0   \n",
       "4  [0, 0, 0, 0, 0, 0, 0, 0, 0, 0, 0, 0, 0, 0, 0, ...          00     0   \n",
       "\n",
       "  hash_code_1 bin_1 hash_code_2 bin_2 bins_combined  \n",
       "0          00     0          00     0     [0, 0, 0]  \n",
       "1          10     2          10     2     [1, 2, 2]  \n",
       "2          00     0          00     0     [0, 0, 0]  \n",
       "3          00     0          00     0     [0, 0, 0]  \n",
       "4          00     0          00     0     [0, 0, 0]  "
      ]
     },
     "execution_count": 16,
     "metadata": {},
     "output_type": "execute_result"
    }
   ],
   "source": [
    "%reset -f\n",
    "%load_ext autoreload\n",
    "%autoreload 2\n",
    "\n",
    "import pandas as pd\n",
    "import seaborn as sns\n",
    "import matplotlib.pyplot as plt\n",
    "import matplotlib\n",
    "import numpy as np\n",
    "import lsh_hyperplane as lsh\n",
    "import math\n",
    "import random\n",
    "from nltk.util import ngrams\n",
    "import time\n",
    "\n",
    "pd.options.mode.chained_assignment = None\n",
    "\n",
    "data = lsh.load_data(\"data/capture20110818.binetflow\")\n",
    "pdata = lsh.pre_process(data)\n",
    "\n",
    "# We first discretize the values for the features we selected in the discretization task. \n",
    "# We then make trigrams \n",
    "# Optimal number of bins for source address, based on elbow method\n",
    "features = [\"Protocol\"]\n",
    "nbins = [3]\n",
    "\n",
    "# Descretize only one infected host (with most flows)\n",
    "discretized = pd.DataFrame()\n",
    "discretized[\"StartTime\"] = pdata[\"StartTime\"].copy()\n",
    "discretized['StartTime'] = discretized['StartTime'].str[:-7]\n",
    "discretized[\"SourceAddress\"] = pdata[\"SourceAddress\"].copy()\n",
    "discretized[\"DestinationAddress\"] = pdata[\"DestinationAddress\"].copy()\n",
    "pdata[\"Protocol\"] = lsh.encode_feature(pdata[\"Protocol\"])\n",
    "\n",
    "for feature, nbin in zip(features,nbins):\n",
    "    discretized[feature], binsedges_infected = lsh.discretize_feature(pdata, feature, nbin, \"kmeans\")\n",
    "    \n",
    "# Remove pairs with less than three occurrences (unable to form 3-gram)\n",
    "ip_pairs = discretized.groupby(['SourceAddress','DestinationAddress']).size().reset_index().rename(columns={0:'count'})\n",
    "\n",
    "# Obtain the list of unique ip pairs.\n",
    "# Define the number of projections to apply and the number of bits as the bucket number (2^k bins for k bits)\n",
    "ip_pairs = discretized.groupby([\"SourceAddress\",\"DestinationAddress\"]).size().reset_index()\n",
    "n_projections = 3\n",
    "bin_size = 2\n",
    "\n",
    "# Create a dataframe where all computations will be added\n",
    "column_names = list()\n",
    "column_names.append(\"SourceAddress\")\n",
    "column_names.append(\"DestinationAddress\")\n",
    "column_names.append(\"trigrams_counts\")\n",
    "\n",
    "for i in range(n_projections):\n",
    "    column_names.append(\"hash_code_\"+str(i))\n",
    "    column_names.append(\"bin_\"+str(i))\n",
    "    \n",
    "column_names.append(\"bins_combined\")\n",
    "ip_pairs_trigrams = pd.DataFrame(columns=column_names)\n",
    "\n",
    "# Create a set of 3-grams which exist in the dataset. \n",
    "possible_trigrams = list(set(ngrams(discretized[\"Protocol\"].astype(str),3)))\n",
    "dimension = len(possible_trigrams)\n",
    "\n",
    "# For each pair we count the 3-gram occurences and save it to the dataframe\n",
    "for pair in ip_pairs.iterrows():\n",
    "    source = pair[1].SourceAddress\n",
    "    dest = pair[1].DestinationAddress\n",
    "    counts = [0]*len(possible_trigrams)\n",
    "    \n",
    "    filtered = discretized.loc[(discretized[\"SourceAddress\"] == source) & (discretized[\"DestinationAddress\"] == dest)]\n",
    "    trigrams = list(ngrams(filtered[\"Protocol\"].astype(str),3))\n",
    "    \n",
    "    for trigram in trigrams:\n",
    "        counts[possible_trigrams.index(trigram)] += 1\n",
    "    \n",
    "    ip_pairs_trigrams = ip_pairs_trigrams.append({\"SourceAddress\": source, \"DestinationAddress\": dest, \"trigrams_counts\": counts}, ignore_index=True)\n",
    "    \n",
    "# Create random hyperplanes based on the bin size and 3-gram counts vector, and repeat for the number of projections\n",
    "random_hyperplanes = list()\n",
    "\n",
    "for i in range(n_projections):\n",
    "    hyperplanes = np.random.randn(bin_size,dimension)\n",
    "    random_hyperplanes.append(hyperplanes)\n",
    "\n",
    "# For every unique pair we calculate the bin the 3-gram counts vector hashes to.\n",
    "for pair_id in range(len(ip_pairs_trigrams)):\n",
    "    pair = ip_pairs_trigrams.iloc[pair_id]\n",
    "    \n",
    "    hashed_bins = list()\n",
    "    \n",
    "    # Repeat this for every projection\n",
    "    for i in range(n_projections):\n",
    "        hash_bin = \"\"\n",
    "            \n",
    "        #For every random hyperplane we calculate the hash and add it to the list of all hash codes\n",
    "        for hyperplane in random_hyperplanes[i]:\n",
    "            hash_bin += str(lsh.sign_function(lsh.dot_product(pair.trigrams_counts,hyperplane)))\n",
    "            \n",
    "        # Save the hash code and the bin number to the dataframe\n",
    "        ip_pairs_trigrams[\"hash_code_\"+str(i)].iloc[pair_id] = hash_bin\n",
    "        ip_pairs_trigrams[\"bin_\"+str(i)].iloc[pair_id] = int(hash_bin,2)\n",
    "        hashed_bins.append(int(hash_bin,2))\n",
    "        \n",
    "    ip_pairs_trigrams[\"bins_combined\"].iloc[pair_id] = hashed_bins\n",
    "\n",
    "# For obtaining the correct frequencies ip-pairs we neglect the ip pairs that have no trigrams, e.g. have less \n",
    "# than three flows between them. These hosts (unnecessarily) influence the results quite a lot. From these \n",
    "# removed pairs a lot of them are infected hosts, which only have a connection with other hosts once or twice.\n",
    "non_zero_indices = list()\n",
    "for i in range(len(ip_pairs_trigrams)):\n",
    "    row = ip_pairs_trigrams.iloc[i]\n",
    "    \n",
    "    if np.sum(row.trigrams_counts) > 0:\n",
    "        non_zero_indices.append(i)\n",
    "        \n",
    "res_ip_pairs = ip_pairs_trigrams.iloc[non_zero_indices]\n",
    "\n",
    "# Retrieve infected and non infected source hosts. Infected host is 1, normal host is 0, unknown host is -1\n",
    "res_ip_pairs.loc[:,'Infected'] = -1\n",
    "\n",
    "for i in range(len(res_ip_pairs)):\n",
    "    ip = res_ip_pairs.SourceAddress.iloc[i]\n",
    "    if lsh.is_infected(ip):\n",
    "        res_ip_pairs.Infected.iloc[i] = 1\n",
    "    elif lsh.is_normal(ip):\n",
    "        res_ip_pairs.Infected.iloc[i] = 0\n",
    "\n",
    "# Separate the label cases to derive statistics on bins most frequent used for each label\n",
    "infected = res_ip_pairs.loc[res_ip_pairs[\"Infected\"] == 1]\n",
    "normal = res_ip_pairs.loc[res_ip_pairs[\"Infected\"] == 0]\n",
    "unknown = res_ip_pairs.loc[res_ip_pairs[\"Infected\"] == -1]\n",
    "\n",
    "print(\"Infected host bins:\")\n",
    "print(infected.bins_combined.value_counts()/len(infected)*100, \"\\n\")\n",
    "print(\"Normal host bins:\")\n",
    "print(normal.bins_combined.value_counts()/len(normal)*100, \"\\n\")\n",
    "print(\"Unknown host bins:\")\n",
    "print(unknown.bins_combined.value_counts()/len(unknown)*100, \"\\n\")\n",
    "\n",
    "# Perform pair-wise distance computation between any pair\n",
    "start = time.time()\n",
    "distances_all = [[0 for i in range(len(res_ip_pairs))] for j in range(len(res_ip_pairs))]\n",
    "\n",
    "for i in range(0,len(res_ip_pairs)):\n",
    "    for j in range(i+1,len(res_ip_pairs)):\n",
    "        distance = lsh.euclidean_distance(res_ip_pairs.trigrams_counts.iloc[i],res_ip_pairs.trigrams_counts.iloc[j])\n",
    "        distances_all[i][j] = distance\n",
    "        distances_all[j][i] = distance\n",
    "\n",
    "end = time.time()\n",
    "print(\"Time elapsed pair-wise computations:\",end-start)\n",
    "\n",
    "# Perform distance computation between pairs that are mapped to the same bin (only applied to one projection)\n",
    "start = time.time()\n",
    "distances_bins = list()\n",
    "\n",
    "for bin_number in range(0,bin_size**2):\n",
    "    filtered = res_ip_pairs.loc[res_ip_pairs[\"bin_0\"] == bin_number]\n",
    "    distances = [[0 for i in range(len(filtered))] for j in range(len(filtered))]\n",
    "    \n",
    "    for i in range(0,len(filtered)):\n",
    "        for j in range(i+1,len(filtered)):\n",
    "            distance = lsh.euclidean_distance(filtered.trigrams_counts.iloc[i],filtered.trigrams_counts.iloc[j])\n",
    "            distances[i][j] = distance\n",
    "            distances[j][i] = distance\n",
    "\n",
    "    distances_bins.append(distances)\n",
    "\n",
    "end = time.time()\n",
    "\n",
    "print(\"Time elapsed for profiles in same bin:\",end-start)\n",
    "\n",
    "print(\"\\nTable 5a: result of applying LSH with random hyperplanes\")\n",
    "ip_pairs_trigrams.head()"
   ]
  },
  {
   "cell_type": "markdown",
   "metadata": {},
   "source": [
    "### 5b. Analysis and answers to the questions. Also provide relevant plots."
   ]
  },
  {
   "cell_type": "markdown",
   "metadata": {},
   "source": [
    "We first load and process the dataset of scenario 10. As in the tasks before we use the discretized Protocol feature from the first task. We group the unique ip-pairs of the dataset, to be able to count the 3-gram occurences of this discretized feature to create a profile. We set the bin size to 4 (2 bits) since choosing more (next number of bins is 2^3=8) result in unused bins. We also choose to project (apply a set of random hyperplanes) the 3-gram occurence counts three times to get a more reliable result than only using one projection. For one projection the probability of a pair being hashed to a wrong bin is higher, and the combined result of multiple projections decreases this probability significantly. \n",
    "\n",
    "In the Table 5a we see the combined bins of the three projections in the last column. We use this result to check the frequencies for the infected, normal and unknown hosts. We see that for the infected hosts about 64% results in a combined_bins that only occurs in about 16% of the cases for the normal hosts. We also see the opposite in which the 82% of the combined_bins for the normal host occurs in only 3% of the infected hosts. This indicates that, based on the combined_bin profile of the distinct projections we can make a good prediction on whether a host is infected or normal. For the unknown hosts we see that about 91% will result in being indentified as infected and the other 9% as normal.\n",
    "\n",
    "Applying LSH has an advantage in run-time, in which the result of binning offers a significant speed-up. If we do a pair-wise (Euclidean) distance computation between all pairs (on the 3-gram profiles) for this dataset, we approximately need 1.9 seconds. If we only compute the distance between the pairs that are assigned to the same bin, we only need less than 1.2 seconds. This is an increase of more than 50%, which is important if dealing with a continuous stream of data. These numbers are however based on the calculation of all pair-wise combinations and all bins, which is not the case in a stream. In that case we only need to calculate the distance of that item to all other items or the bin the item is assigned to."
   ]
  },
  {
   "cell_type": "markdown",
   "metadata": {},
   "source": [
    "## 6.Botnet profiling task – 1/2 A4"
   ]
  },
  {
   "cell_type": "markdown",
   "metadata": {},
   "source": [
    "### 6a. Learn a sequential model"
   ]
  },
  {
   "cell_type": "code",
   "execution_count": null,
   "metadata": {},
   "outputs": [],
   "source": []
  },
  {
   "cell_type": "markdown",
   "metadata": {},
   "source": [
    "### 6b. Analysis and answers to the questions."
   ]
  },
  {
   "cell_type": "code",
   "execution_count": null,
   "metadata": {},
   "outputs": [],
   "source": []
  },
  {
   "cell_type": "markdown",
   "metadata": {},
   "source": [
    "## 7.Botnet fingerprinting task – 1/2 A4"
   ]
  },
  {
   "cell_type": "markdown",
   "metadata": {},
   "source": [
    "### 7a. Fingerprinting\n"
   ]
  },
  {
   "cell_type": "code",
   "execution_count": null,
   "metadata": {},
   "outputs": [],
   "source": []
  },
  {
   "cell_type": "markdown",
   "metadata": {},
   "source": [
    "### 7b. Analysis and answers to the questions."
   ]
  },
  {
   "cell_type": "code",
   "execution_count": null,
   "metadata": {},
   "outputs": [],
   "source": []
  },
  {
   "cell_type": "markdown",
   "metadata": {},
   "source": [
    "## 8. Bonus Task 1/2 A4"
   ]
  },
  {
   "cell_type": "markdown",
   "metadata": {},
   "source": [
    "### 8a. Provide implementation and analysis."
   ]
  },
  {
   "cell_type": "code",
   "execution_count": null,
   "metadata": {},
   "outputs": [],
   "source": []
  }
 ],
 "metadata": {
  "kernelspec": {
   "display_name": "Python 3",
   "language": "python",
   "name": "python3"
  },
  "language_info": {
   "codemirror_mode": {
    "name": "ipython",
    "version": 3
   },
   "file_extension": ".py",
   "mimetype": "text/x-python",
   "name": "python",
   "nbconvert_exporter": "python",
   "pygments_lexer": "ipython3",
   "version": "3.7.7"
  }
 },
 "nbformat": 4,
 "nbformat_minor": 2
}
