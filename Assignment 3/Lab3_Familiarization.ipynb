{
 "cells": [
  {
   "cell_type": "code",
   "execution_count": 488,
   "metadata": {},
   "outputs": [],
   "source": [
    "%reset -f\n",
    "%load_ext autoreload\n",
    "%autoreload 2\n",
    "\n",
    "import pandas as pd\n",
    "import seaborn as sns\n",
    "import matplotlib.pyplot as plt\n",
    "import matplotlib\n",
    "import numpy as np\n",
    "import familiarization as fam\n",
    "\n",
    "from sklearn.cluster import KMeans\n",
    "from yellowbrick.cluster import KElbowVisualizer\n",
    "from sklearn.preprocessing import KBinsDiscretizer\n",
    "\n",
    "# data_9 = fam.load_data(\"data/capture20110817.binetflow.txt\")\n",
    "data = fam.load_data(\"data/capture20110818.binetflow.txt\")\n",
    "# data_11 = fam.load_data(\"data/capture20110818-2.binetflow.txt\")\n",
    "# data_12 = fam.load_data(\"data/capture20110819.binetflow.txt\")"
   ]
  },
  {
   "cell_type": "code",
   "execution_count": 491,
   "metadata": {},
   "outputs": [
    {
     "data": {
      "text/html": [
       "<div>\n",
       "<style scoped>\n",
       "    .dataframe tbody tr th:only-of-type {\n",
       "        vertical-align: middle;\n",
       "    }\n",
       "\n",
       "    .dataframe tbody tr th {\n",
       "        vertical-align: top;\n",
       "    }\n",
       "\n",
       "    .dataframe thead th {\n",
       "        text-align: right;\n",
       "    }\n",
       "</style>\n",
       "<table border=\"1\" class=\"dataframe\">\n",
       "  <thead>\n",
       "    <tr style=\"text-align: right;\">\n",
       "      <th></th>\n",
       "      <th>StartTime</th>\n",
       "      <th>Duration</th>\n",
       "      <th>Protocol</th>\n",
       "      <th>SourceAddress</th>\n",
       "      <th>SourcePort</th>\n",
       "      <th>Direction</th>\n",
       "      <th>DestinationAddress</th>\n",
       "      <th>DestinationPort</th>\n",
       "      <th>TotalPackets</th>\n",
       "      <th>TotalBytes</th>\n",
       "      <th>SourceBytes</th>\n",
       "      <th>Label</th>\n",
       "      <th>Infected</th>\n",
       "    </tr>\n",
       "  </thead>\n",
       "  <tbody>\n",
       "    <tr>\n",
       "      <th>407</th>\n",
       "      <td>2011/08/18 10:19:15.693956</td>\n",
       "      <td>3587.569824</td>\n",
       "      <td>TCP</td>\n",
       "      <td>147.32.84.164</td>\n",
       "      <td>54784</td>\n",
       "      <td>&lt;?&gt;</td>\n",
       "      <td>74.125.232.215</td>\n",
       "      <td>443</td>\n",
       "      <td>3049</td>\n",
       "      <td>978731</td>\n",
       "      <td>245317</td>\n",
       "      <td>flow=From-Normal-V51-Grill</td>\n",
       "      <td>0</td>\n",
       "    </tr>\n",
       "    <tr>\n",
       "      <th>697</th>\n",
       "      <td>2011/08/18 10:19:18.143576</td>\n",
       "      <td>198.072739</td>\n",
       "      <td>TCP</td>\n",
       "      <td>147.32.84.164</td>\n",
       "      <td>56165</td>\n",
       "      <td>&lt;?&gt;</td>\n",
       "      <td>74.125.232.197</td>\n",
       "      <td>80</td>\n",
       "      <td>14</td>\n",
       "      <td>924</td>\n",
       "      <td>462</td>\n",
       "      <td>flow=From-Normal-V51-Grill</td>\n",
       "      <td>0</td>\n",
       "    </tr>\n",
       "    <tr>\n",
       "      <th>717</th>\n",
       "      <td>2011/08/18 10:19:18.303590</td>\n",
       "      <td>197.928329</td>\n",
       "      <td>TCP</td>\n",
       "      <td>147.32.84.164</td>\n",
       "      <td>57965</td>\n",
       "      <td>&lt;?&gt;</td>\n",
       "      <td>209.85.149.138</td>\n",
       "      <td>80</td>\n",
       "      <td>14</td>\n",
       "      <td>924</td>\n",
       "      <td>462</td>\n",
       "      <td>flow=From-Normal-V51-Grill</td>\n",
       "      <td>0</td>\n",
       "    </tr>\n",
       "    <tr>\n",
       "      <th>896</th>\n",
       "      <td>2011/08/18 10:19:19.838272</td>\n",
       "      <td>0.000399</td>\n",
       "      <td>UDP</td>\n",
       "      <td>147.32.84.170</td>\n",
       "      <td>45807</td>\n",
       "      <td>&lt;-&gt;</td>\n",
       "      <td>147.32.80.9</td>\n",
       "      <td>53</td>\n",
       "      <td>2</td>\n",
       "      <td>400</td>\n",
       "      <td>74</td>\n",
       "      <td>flow=From-Normal-V51-Stribrek</td>\n",
       "      <td>0</td>\n",
       "    </tr>\n",
       "    <tr>\n",
       "      <th>897</th>\n",
       "      <td>2011/08/18 10:19:19.839123</td>\n",
       "      <td>0.000400</td>\n",
       "      <td>UDP</td>\n",
       "      <td>147.32.84.170</td>\n",
       "      <td>35380</td>\n",
       "      <td>&lt;-&gt;</td>\n",
       "      <td>147.32.80.9</td>\n",
       "      <td>53</td>\n",
       "      <td>2</td>\n",
       "      <td>400</td>\n",
       "      <td>74</td>\n",
       "      <td>flow=From-Normal-V51-Stribrek</td>\n",
       "      <td>0</td>\n",
       "    </tr>\n",
       "  </tbody>\n",
       "</table>\n",
       "</div>"
      ],
      "text/plain": [
       "                      StartTime     Duration Protocol  SourceAddress  \\\n",
       "407  2011/08/18 10:19:15.693956  3587.569824      TCP  147.32.84.164   \n",
       "697  2011/08/18 10:19:18.143576   198.072739      TCP  147.32.84.164   \n",
       "717  2011/08/18 10:19:18.303590   197.928329      TCP  147.32.84.164   \n",
       "896  2011/08/18 10:19:19.838272     0.000399      UDP  147.32.84.170   \n",
       "897  2011/08/18 10:19:19.839123     0.000400      UDP  147.32.84.170   \n",
       "\n",
       "    SourcePort Direction DestinationAddress DestinationPort  TotalPackets  \\\n",
       "407      54784       <?>     74.125.232.215             443          3049   \n",
       "697      56165       <?>     74.125.232.197              80            14   \n",
       "717      57965       <?>     209.85.149.138              80            14   \n",
       "896      45807       <->        147.32.80.9              53             2   \n",
       "897      35380       <->        147.32.80.9              53             2   \n",
       "\n",
       "     TotalBytes  SourceBytes                          Label  Infected  \n",
       "407      978731       245317     flow=From-Normal-V51-Grill         0  \n",
       "697         924          462     flow=From-Normal-V51-Grill         0  \n",
       "717         924          462     flow=From-Normal-V51-Grill         0  \n",
       "896         400           74  flow=From-Normal-V51-Stribrek         0  \n",
       "897         400           74  flow=From-Normal-V51-Stribrek         0  "
      ]
     },
     "execution_count": 491,
     "metadata": {},
     "output_type": "execute_result"
    }
   ],
   "source": [
    "pdata = fam.pre_process(data)\n",
    "pdata.head()"
   ]
  },
  {
   "cell_type": "code",
   "execution_count": 492,
   "metadata": {},
   "outputs": [
    {
     "name": "stdout",
     "output_type": "stream",
     "text": [
      "122199 106352 15847\n"
     ]
    },
    {
     "data": {
      "text/html": [
       "<div>\n",
       "<style scoped>\n",
       "    .dataframe tbody tr th:only-of-type {\n",
       "        vertical-align: middle;\n",
       "    }\n",
       "\n",
       "    .dataframe tbody tr th {\n",
       "        vertical-align: top;\n",
       "    }\n",
       "\n",
       "    .dataframe thead th {\n",
       "        text-align: right;\n",
       "    }\n",
       "</style>\n",
       "<table border=\"1\" class=\"dataframe\">\n",
       "  <thead>\n",
       "    <tr style=\"text-align: right;\">\n",
       "      <th></th>\n",
       "      <th>StartTime</th>\n",
       "      <th>Duration</th>\n",
       "      <th>Protocol</th>\n",
       "      <th>SourceAddress</th>\n",
       "      <th>SourcePort</th>\n",
       "      <th>Direction</th>\n",
       "      <th>DestinationAddress</th>\n",
       "      <th>DestinationPort</th>\n",
       "      <th>TotalPackets</th>\n",
       "      <th>TotalBytes</th>\n",
       "      <th>SourceBytes</th>\n",
       "      <th>Label</th>\n",
       "      <th>Infected</th>\n",
       "    </tr>\n",
       "  </thead>\n",
       "  <tbody>\n",
       "    <tr>\n",
       "      <th>90529</th>\n",
       "      <td>2011/08/18 10:37:58.448307</td>\n",
       "      <td>0.000342</td>\n",
       "      <td>UDP</td>\n",
       "      <td>147.32.84.165</td>\n",
       "      <td>1025</td>\n",
       "      <td>&lt;-&gt;</td>\n",
       "      <td>147.32.80.9</td>\n",
       "      <td>53</td>\n",
       "      <td>2</td>\n",
       "      <td>203</td>\n",
       "      <td>64</td>\n",
       "      <td>flow=From-Botnet-V51-1-UDP-DNS</td>\n",
       "      <td>1</td>\n",
       "    </tr>\n",
       "    <tr>\n",
       "      <th>90715</th>\n",
       "      <td>2011/08/18 10:38:00.695278</td>\n",
       "      <td>0.010278</td>\n",
       "      <td>UDP</td>\n",
       "      <td>147.32.84.165</td>\n",
       "      <td>1025</td>\n",
       "      <td>&lt;-&gt;</td>\n",
       "      <td>147.32.80.9</td>\n",
       "      <td>53</td>\n",
       "      <td>2</td>\n",
       "      <td>590</td>\n",
       "      <td>87</td>\n",
       "      <td>flow=From-Botnet-V51-1-UDP-DNS</td>\n",
       "      <td>1</td>\n",
       "    </tr>\n",
       "    <tr>\n",
       "      <th>90716</th>\n",
       "      <td>2011/08/18 10:38:00.706560</td>\n",
       "      <td>0.043726</td>\n",
       "      <td>TCP</td>\n",
       "      <td>147.32.84.165</td>\n",
       "      <td>1027</td>\n",
       "      <td>-&gt;</td>\n",
       "      <td>74.125.232.206</td>\n",
       "      <td>80</td>\n",
       "      <td>7</td>\n",
       "      <td>882</td>\n",
       "      <td>629</td>\n",
       "      <td>flow=From-Botnet-V51-1-TCP-HTTP-Google-Net-Est...</td>\n",
       "      <td>1</td>\n",
       "    </tr>\n",
       "    <tr>\n",
       "      <th>90872</th>\n",
       "      <td>2011/08/18 10:38:03.255934</td>\n",
       "      <td>0.010256</td>\n",
       "      <td>UDP</td>\n",
       "      <td>147.32.84.165</td>\n",
       "      <td>1025</td>\n",
       "      <td>&lt;-&gt;</td>\n",
       "      <td>147.32.80.9</td>\n",
       "      <td>53</td>\n",
       "      <td>2</td>\n",
       "      <td>479</td>\n",
       "      <td>76</td>\n",
       "      <td>flow=From-Botnet-V51-1-UDP-DNS</td>\n",
       "      <td>1</td>\n",
       "    </tr>\n",
       "    <tr>\n",
       "      <th>90875</th>\n",
       "      <td>2011/08/18 10:38:03.267222</td>\n",
       "      <td>581.516663</td>\n",
       "      <td>UDP</td>\n",
       "      <td>147.32.84.165</td>\n",
       "      <td>123</td>\n",
       "      <td>-&gt;</td>\n",
       "      <td>65.55.56.40</td>\n",
       "      <td>123</td>\n",
       "      <td>4</td>\n",
       "      <td>360</td>\n",
       "      <td>360</td>\n",
       "      <td>flow=From-Botnet-V51-1-UDP-Attempt</td>\n",
       "      <td>1</td>\n",
       "    </tr>\n",
       "  </tbody>\n",
       "</table>\n",
       "</div>"
      ],
      "text/plain": [
       "                        StartTime    Duration Protocol  SourceAddress  \\\n",
       "90529  2011/08/18 10:37:58.448307    0.000342      UDP  147.32.84.165   \n",
       "90715  2011/08/18 10:38:00.695278    0.010278      UDP  147.32.84.165   \n",
       "90716  2011/08/18 10:38:00.706560    0.043726      TCP  147.32.84.165   \n",
       "90872  2011/08/18 10:38:03.255934    0.010256      UDP  147.32.84.165   \n",
       "90875  2011/08/18 10:38:03.267222  581.516663      UDP  147.32.84.165   \n",
       "\n",
       "      SourcePort Direction DestinationAddress DestinationPort  TotalPackets  \\\n",
       "90529       1025       <->        147.32.80.9              53             2   \n",
       "90715       1025       <->        147.32.80.9              53             2   \n",
       "90716       1027        ->     74.125.232.206              80             7   \n",
       "90872       1025       <->        147.32.80.9              53             2   \n",
       "90875        123        ->        65.55.56.40             123             4   \n",
       "\n",
       "       TotalBytes  SourceBytes  \\\n",
       "90529         203           64   \n",
       "90715         590           87   \n",
       "90716         882          629   \n",
       "90872         479           76   \n",
       "90875         360          360   \n",
       "\n",
       "                                                   Label  Infected  \n",
       "90529                     flow=From-Botnet-V51-1-UDP-DNS         1  \n",
       "90715                     flow=From-Botnet-V51-1-UDP-DNS         1  \n",
       "90716  flow=From-Botnet-V51-1-TCP-HTTP-Google-Net-Est...         1  \n",
       "90872                     flow=From-Botnet-V51-1-UDP-DNS         1  \n",
       "90875                 flow=From-Botnet-V51-1-UDP-Attempt         1  "
      ]
     },
     "execution_count": 492,
     "metadata": {},
     "output_type": "execute_result"
    }
   ],
   "source": [
    "infected_hosts = pdata.loc[pdata[\"Infected\"] == 1]\n",
    "non_infected_hosts = pdata.loc[pdata[\"Infected\"] == 0]\n",
    "print(len(pdata),len(infected_hosts), len(non_infected_hosts))\n",
    "infected_hosts.head()"
   ]
  },
  {
   "cell_type": "code",
   "execution_count": 4,
   "metadata": {
    "scrolled": false
   },
   "outputs": [
    {
     "data": {
      "text/html": [
       "<div>\n",
       "<style scoped>\n",
       "    .dataframe tbody tr th:only-of-type {\n",
       "        vertical-align: middle;\n",
       "    }\n",
       "\n",
       "    .dataframe tbody tr th {\n",
       "        vertical-align: top;\n",
       "    }\n",
       "\n",
       "    .dataframe thead th {\n",
       "        text-align: right;\n",
       "    }\n",
       "</style>\n",
       "<table border=\"1\" class=\"dataframe\">\n",
       "  <thead>\n",
       "    <tr style=\"text-align: right;\">\n",
       "      <th></th>\n",
       "      <th>Duration</th>\n",
       "      <th>TotalPackets</th>\n",
       "      <th>TotalBytes</th>\n",
       "      <th>SourceBytes</th>\n",
       "      <th>Infected</th>\n",
       "    </tr>\n",
       "  </thead>\n",
       "  <tbody>\n",
       "    <tr>\n",
       "      <th>count</th>\n",
       "      <td>106352.000000</td>\n",
       "      <td>106352.000000</td>\n",
       "      <td>1.063520e+05</td>\n",
       "      <td>1.063520e+05</td>\n",
       "      <td>106352.0</td>\n",
       "    </tr>\n",
       "    <tr>\n",
       "      <th>mean</th>\n",
       "      <td>90.825592</td>\n",
       "      <td>30.315330</td>\n",
       "      <td>2.712966e+04</td>\n",
       "      <td>2.712120e+04</td>\n",
       "      <td>1.0</td>\n",
       "    </tr>\n",
       "    <tr>\n",
       "      <th>std</th>\n",
       "      <td>292.015024</td>\n",
       "      <td>1741.181013</td>\n",
       "      <td>1.388200e+06</td>\n",
       "      <td>1.388200e+06</td>\n",
       "      <td>0.0</td>\n",
       "    </tr>\n",
       "    <tr>\n",
       "      <th>min</th>\n",
       "      <td>0.000000</td>\n",
       "      <td>1.000000</td>\n",
       "      <td>6.000000e+01</td>\n",
       "      <td>6.000000e+01</td>\n",
       "      <td>1.0</td>\n",
       "    </tr>\n",
       "    <tr>\n",
       "      <th>25%</th>\n",
       "      <td>0.000000</td>\n",
       "      <td>1.000000</td>\n",
       "      <td>1.066000e+03</td>\n",
       "      <td>1.066000e+03</td>\n",
       "      <td>1.0</td>\n",
       "    </tr>\n",
       "    <tr>\n",
       "      <th>50%</th>\n",
       "      <td>0.000000</td>\n",
       "      <td>1.000000</td>\n",
       "      <td>1.066000e+03</td>\n",
       "      <td>1.066000e+03</td>\n",
       "      <td>1.0</td>\n",
       "    </tr>\n",
       "    <tr>\n",
       "      <th>75%</th>\n",
       "      <td>0.000000</td>\n",
       "      <td>1.000000</td>\n",
       "      <td>1.066000e+03</td>\n",
       "      <td>1.066000e+03</td>\n",
       "      <td>1.0</td>\n",
       "    </tr>\n",
       "    <tr>\n",
       "      <th>max</th>\n",
       "      <td>3594.721436</td>\n",
       "      <td>176254.000000</td>\n",
       "      <td>1.387386e+08</td>\n",
       "      <td>1.387386e+08</td>\n",
       "      <td>1.0</td>\n",
       "    </tr>\n",
       "  </tbody>\n",
       "</table>\n",
       "</div>"
      ],
      "text/plain": [
       "            Duration   TotalPackets    TotalBytes   SourceBytes  Infected\n",
       "count  106352.000000  106352.000000  1.063520e+05  1.063520e+05  106352.0\n",
       "mean       90.825592      30.315330  2.712966e+04  2.712120e+04       1.0\n",
       "std       292.015024    1741.181013  1.388200e+06  1.388200e+06       0.0\n",
       "min         0.000000       1.000000  6.000000e+01  6.000000e+01       1.0\n",
       "25%         0.000000       1.000000  1.066000e+03  1.066000e+03       1.0\n",
       "50%         0.000000       1.000000  1.066000e+03  1.066000e+03       1.0\n",
       "75%         0.000000       1.000000  1.066000e+03  1.066000e+03       1.0\n",
       "max      3594.721436  176254.000000  1.387386e+08  1.387386e+08       1.0"
      ]
     },
     "execution_count": 4,
     "metadata": {},
     "output_type": "execute_result"
    }
   ],
   "source": [
    "infected_hosts.describe()"
   ]
  },
  {
   "cell_type": "code",
   "execution_count": 5,
   "metadata": {},
   "outputs": [
    {
     "data": {
      "text/html": [
       "<div>\n",
       "<style scoped>\n",
       "    .dataframe tbody tr th:only-of-type {\n",
       "        vertical-align: middle;\n",
       "    }\n",
       "\n",
       "    .dataframe tbody tr th {\n",
       "        vertical-align: top;\n",
       "    }\n",
       "\n",
       "    .dataframe thead th {\n",
       "        text-align: right;\n",
       "    }\n",
       "</style>\n",
       "<table border=\"1\" class=\"dataframe\">\n",
       "  <thead>\n",
       "    <tr style=\"text-align: right;\">\n",
       "      <th></th>\n",
       "      <th>Duration</th>\n",
       "      <th>TotalPackets</th>\n",
       "      <th>TotalBytes</th>\n",
       "      <th>SourceBytes</th>\n",
       "      <th>Infected</th>\n",
       "    </tr>\n",
       "  </thead>\n",
       "  <tbody>\n",
       "    <tr>\n",
       "      <th>count</th>\n",
       "      <td>15847.000000</td>\n",
       "      <td>15847.000000</td>\n",
       "      <td>1.584700e+04</td>\n",
       "      <td>1.584700e+04</td>\n",
       "      <td>15847.0</td>\n",
       "    </tr>\n",
       "    <tr>\n",
       "      <th>mean</th>\n",
       "      <td>46.585670</td>\n",
       "      <td>35.749164</td>\n",
       "      <td>2.719936e+04</td>\n",
       "      <td>1.660341e+03</td>\n",
       "      <td>0.0</td>\n",
       "    </tr>\n",
       "    <tr>\n",
       "      <th>std</th>\n",
       "      <td>301.233657</td>\n",
       "      <td>506.146679</td>\n",
       "      <td>4.707149e+05</td>\n",
       "      <td>1.838861e+04</td>\n",
       "      <td>0.0</td>\n",
       "    </tr>\n",
       "    <tr>\n",
       "      <th>min</th>\n",
       "      <td>0.000000</td>\n",
       "      <td>1.000000</td>\n",
       "      <td>6.600000e+01</td>\n",
       "      <td>0.000000e+00</td>\n",
       "      <td>0.0</td>\n",
       "    </tr>\n",
       "    <tr>\n",
       "      <th>25%</th>\n",
       "      <td>0.000318</td>\n",
       "      <td>2.000000</td>\n",
       "      <td>2.440000e+02</td>\n",
       "      <td>7.400000e+01</td>\n",
       "      <td>0.0</td>\n",
       "    </tr>\n",
       "    <tr>\n",
       "      <th>50%</th>\n",
       "      <td>0.000480</td>\n",
       "      <td>2.000000</td>\n",
       "      <td>4.000000e+02</td>\n",
       "      <td>8.100000e+01</td>\n",
       "      <td>0.0</td>\n",
       "    </tr>\n",
       "    <tr>\n",
       "      <th>75%</th>\n",
       "      <td>0.112268</td>\n",
       "      <td>6.000000</td>\n",
       "      <td>4.780000e+02</td>\n",
       "      <td>2.720000e+02</td>\n",
       "      <td>0.0</td>\n",
       "    </tr>\n",
       "    <tr>\n",
       "      <th>max</th>\n",
       "      <td>3599.957031</td>\n",
       "      <td>32630.000000</td>\n",
       "      <td>3.048162e+07</td>\n",
       "      <td>1.136051e+06</td>\n",
       "      <td>0.0</td>\n",
       "    </tr>\n",
       "  </tbody>\n",
       "</table>\n",
       "</div>"
      ],
      "text/plain": [
       "           Duration  TotalPackets    TotalBytes   SourceBytes  Infected\n",
       "count  15847.000000  15847.000000  1.584700e+04  1.584700e+04   15847.0\n",
       "mean      46.585670     35.749164  2.719936e+04  1.660341e+03       0.0\n",
       "std      301.233657    506.146679  4.707149e+05  1.838861e+04       0.0\n",
       "min        0.000000      1.000000  6.600000e+01  0.000000e+00       0.0\n",
       "25%        0.000318      2.000000  2.440000e+02  7.400000e+01       0.0\n",
       "50%        0.000480      2.000000  4.000000e+02  8.100000e+01       0.0\n",
       "75%        0.112268      6.000000  4.780000e+02  2.720000e+02       0.0\n",
       "max     3599.957031  32630.000000  3.048162e+07  1.136051e+06       0.0"
      ]
     },
     "execution_count": 5,
     "metadata": {},
     "output_type": "execute_result"
    }
   ],
   "source": [
    "non_infected_hosts.describe()"
   ]
  },
  {
   "cell_type": "code",
   "execution_count": 6,
   "metadata": {},
   "outputs": [
    {
     "name": "stdout",
     "output_type": "stream",
     "text": [
      "Infected hosts\n",
      " Duration: 90.82559153096324\n",
      " Protocols: \n",
      " ICMP    0.996474\n",
      "UDP     0.002755\n",
      "TCP     0.000771\n",
      "Name: Protocol, dtype: float64\n",
      " Average Packets 30.315330224161276\n",
      " Average Bytes 27129.65718557244\n",
      " Source Bytes 27121.20417105461\n",
      "\n",
      "\n",
      "Non-Infected hosts\n",
      " Duration: 46.58566988862245\n",
      " Protocols: \n",
      " UDP     0.617152\n",
      "TCP     0.337162\n",
      "ICMP    0.044993\n",
      "ARP     0.000694\n",
      "Name: Protocol, dtype: float64\n",
      " Average Packets 35.74916387959866\n",
      " Average Bytes 27199.363854357292\n",
      " Source Bytes 1660.3409478134663\n"
     ]
    }
   ],
   "source": [
    "# Compare statistics for infected and non-infected hosts\n",
    "## Average Duration\n",
    "duration_infected = np.mean(infected_hosts[\"Duration\"])\n",
    "duration_non_infected = np.mean(non_infected_hosts[\"Duration\"])\n",
    "\n",
    "## Protocol\n",
    "protocols_infected = infected_hosts.Protocol.value_counts(normalize=True)\n",
    "protocols_non_infected = non_infected_hosts.Protocol.value_counts(normalize=True)\n",
    "\n",
    "## Average TotalPackets\n",
    "packets_infected = np.mean(infected_hosts.TotalPackets)\n",
    "packets_non_infected = np.mean(non_infected_hosts.TotalPackets)\n",
    "\n",
    "## Average TotalBytes\n",
    "bytes_infected = np.mean(infected_hosts.TotalBytes)\n",
    "bytes_non_infected = np.mean(non_infected_hosts.TotalBytes)\n",
    "\n",
    "## Average SourceBytes\n",
    "source_bytes_infected = np.mean(infected_hosts.SourceBytes)\n",
    "source_bytes_non_infected = np.mean(non_infected_hosts.SourceBytes)\n",
    "\n",
    "print(\"Infected hosts\")\n",
    "print(\" Duration:\", duration_infected)\n",
    "print(\" Protocols: \\n\",protocols_infected)\n",
    "print(\" Average Packets\",packets_infected)\n",
    "print(\" Average Bytes\",bytes_infected)\n",
    "print(\" Source Bytes\",source_bytes_infected)\n",
    "\n",
    "print(\"\\n\")\n",
    "print(\"Non-Infected hosts\")\n",
    "print(\" Duration:\", duration_non_infected)\n",
    "print(\" Protocols: \\n\",protocols_non_infected)\n",
    "print(\" Average Packets\",packets_non_infected)\n",
    "print(\" Average Bytes\",bytes_non_infected)\n",
    "print(\" Source Bytes\",source_bytes_non_infected)"
   ]
  },
  {
   "cell_type": "markdown",
   "metadata": {},
   "source": [
    "The statistics are clear in the differences between the infected and non-infected hosts:\n",
    "- The duration for flows from infected hosts is about twice the time as for non-infected hosts\n",
    "- Almost all flow from the infected hosts use the ICMP protocol, while UDP and TCP are most popular for non-infected hosts\n",
    "- The total number of packets and bytes do not differ much between both hosts\n",
    "- The bytes sent by infected hosts are a lot higher for infected hosts\n",
    "\n",
    "The two features that stand out most are the ICMP protocol and Duration/SourceBytes"
   ]
  },
  {
   "cell_type": "code",
   "execution_count": 29,
   "metadata": {},
   "outputs": [
    {
     "data": {
      "image/png": "[encoded data removed]",
      "text/plain": [
       "<Figure size 720x432 with 1 Axes>"
      ]
     },
     "metadata": {
      "needs_background": "light"
     },
     "output_type": "display_data"
    }
   ],
   "source": [
    "# Visualize protocols used\n",
    "protocol_grouped = pdata.groupby('Infected')['Protocol'].value_counts(normalize=True)\n",
    "protocol_grouped = protocol_grouped.mul(100)\n",
    "protocol_grouped = protocol_grouped.rename('percent').reset_index()\n",
    "\n",
    "fig, ax = plt.subplots(figsize=(10,6))\n",
    "ax = sns.barplot(x='Protocol',y='percent',hue='Infected',data=protocol_grouped)\n",
    "ax.set_title(\"Protocols used for infected and non-infected hosts\",size=16)\n",
    "ax.set_ylabel(\"Percentage\",size=14)\n",
    "ax.set_xlabel(\"Protocols\",size=14)\n",
    "plt.show()"
   ]
  },
  {
   "cell_type": "code",
   "execution_count": 371,
   "metadata": {},
   "outputs": [
    {
     "data": {
      "text/plain": [
       "   ->    112302\n",
       "  <->      9708\n",
       "  <?>       153\n",
       "   ?>        19\n",
       "  who        11\n",
       "  <-          6\n",
       "Name: Direction, dtype: int64"
      ]
     },
     "execution_count": 371,
     "metadata": {},
     "output_type": "execute_result"
    }
   ],
   "source": [
    "pdata.Direction.value_counts()"
   ]
  },
  {
   "cell_type": "code",
   "execution_count": 372,
   "metadata": {},
   "outputs": [
    {
     "data": {
      "text/plain": [
       "   ->    106198\n",
       "  <->       154\n",
       "Name: Direction, dtype: int64"
      ]
     },
     "execution_count": 372,
     "metadata": {},
     "output_type": "execute_result"
    }
   ],
   "source": [
    "infected_hosts.Direction.value_counts()"
   ]
  },
  {
   "cell_type": "code",
   "execution_count": 373,
   "metadata": {},
   "outputs": [
    {
     "data": {
      "text/plain": [
       "  <->    9554\n",
       "   ->    6104\n",
       "  <?>     153\n",
       "   ?>      19\n",
       "  who      11\n",
       "  <-        6\n",
       "Name: Direction, dtype: int64"
      ]
     },
     "execution_count": 373,
     "metadata": {},
     "output_type": "execute_result"
    }
   ],
   "source": [
    "non_infected_hosts.Direction.value_counts()"
   ]
  },
  {
   "cell_type": "markdown",
   "metadata": {},
   "source": [
    "Continious data may have a big range, and therefore has a lot of degrees of freedom. Discretization is a method that breaks down these numbers into groups/categories such that it easier to understand. Also, some models aren't compatible with continuous variables. By discretizing a model, the data is fitted into 'bins'. The discretization error is the difference between the continous variables compared to the discretized variables.\n",
    "\n",
    "Separating all possible values into 'N' number of bins, each having the same width. Formula for interval width:\n",
    "width = (maximum value - minimum value) / N, where N is the number of bins or intervals.\n",
    "\n",
    "There exists equal-width discretization and equal-frequency dicretization. "
   ]
  },
  {
   "cell_type": "code",
   "execution_count": null,
   "metadata": {
    "scrolled": true
   },
   "outputs": [],
   "source": []
  },
  {
   "cell_type": "code",
   "execution_count": null,
   "metadata": {},
   "outputs": [],
   "source": []
  },
  {
   "cell_type": "code",
   "execution_count": null,
   "metadata": {},
   "outputs": [],
   "source": []
  },
  {
   "cell_type": "code",
   "execution_count": null,
   "metadata": {},
   "outputs": [],
   "source": []
  },
  {
   "cell_type": "markdown",
   "metadata": {},
   "source": [
    "As described in [1] Elbow methods can be used to select the optimal number of bins to use for descretization. Before we can apply this to non-numerical features, we must encode them. For the protocol feature we simply assign integers to each category by assigning them manually or by use of a LabelEncoder. We select the infected host with the most entries in the dataset to first apply the discretization on. For the protocols, duration and sourcebytes features we use the kMeans clustering in combination with the Elbow function to determine the number of bins. The protocol is optimal for three bins (while there were four categories in total) and the duration and sourcebytes are optimal for four bins.\n",
    "\n",
    "Now we are able to discretize and combine the features.\n",
    "\n",
    "[1] Learning Behavorial Fingerprints From Netflows Using Timed Automata"
   ]
  },
  {
   "cell_type": "code",
   "execution_count": 493,
   "metadata": {},
   "outputs": [
    {
     "name": "stderr",
     "output_type": "stream",
     "text": [
      "/usr/local/lib/python3.7/site-packages/yellowbrick/cluster/elbow.py:312: ConvergenceWarning: Number of distinct clusters (3) found smaller than n_clusters (4). Possibly due to duplicate points in X.\n",
      "  self.estimator.fit(X)\n",
      "/usr/local/lib/python3.7/site-packages/yellowbrick/cluster/elbow.py:312: ConvergenceWarning: Number of distinct clusters (3) found smaller than n_clusters (5). Possibly due to duplicate points in X.\n",
      "  self.estimator.fit(X)\n",
      "/usr/local/lib/python3.7/site-packages/yellowbrick/cluster/elbow.py:312: ConvergenceWarning: Number of distinct clusters (3) found smaller than n_clusters (6). Possibly due to duplicate points in X.\n",
      "  self.estimator.fit(X)\n",
      "/usr/local/lib/python3.7/site-packages/yellowbrick/cluster/elbow.py:312: ConvergenceWarning: Number of distinct clusters (3) found smaller than n_clusters (7). Possibly due to duplicate points in X.\n",
      "  self.estimator.fit(X)\n",
      "/usr/local/lib/python3.7/site-packages/yellowbrick/cluster/elbow.py:312: ConvergenceWarning: Number of distinct clusters (3) found smaller than n_clusters (8). Possibly due to duplicate points in X.\n",
      "  self.estimator.fit(X)\n",
      "/usr/local/lib/python3.7/site-packages/yellowbrick/cluster/elbow.py:312: ConvergenceWarning: Number of distinct clusters (3) found smaller than n_clusters (9). Possibly due to duplicate points in X.\n",
      "  self.estimator.fit(X)\n",
      "/usr/local/lib/python3.7/site-packages/yellowbrick/cluster/elbow.py:312: ConvergenceWarning: Number of distinct clusters (3) found smaller than n_clusters (10). Possibly due to duplicate points in X.\n",
      "  self.estimator.fit(X)\n"
     ]
    },
    {
     "data": {
      "image/png": "[encoded data removed]",
      "text/plain": [
       "<Figure size 576x396 with 2 Axes>"
      ]
     },
     "metadata": {},
     "output_type": "display_data"
    },
    {
     "data": {
      "image/png": "[encoded data removed]",
      "text/plain": [
       "<Figure size 576x396 with 2 Axes>"
      ]
     },
     "metadata": {},
     "output_type": "display_data"
    },
    {
     "data": {
      "image/png": "[encoded data removed]",
      "text/plain": [
       "<Figure size 576x396 with 2 Axes>"
      ]
     },
     "metadata": {},
     "output_type": "display_data"
    }
   ],
   "source": [
    "# Encode protocol names\n",
    "pdata[\"Protocol\"] = fam.encode_feature(pdata[\"Protocol\"])\n",
    "\n",
    "# Select infected host with most entries in dataset\n",
    "infected_host = pdata.loc[pdata[\"SourceAddress\"] == fam.select_infected_host(pdata)]\n",
    "\n",
    "# Apply Elbow method to find optimal number of bins\n",
    "for feature in [\"Protocol\",\"Duration\",\"SourceBytes\"]:\n",
    "    fam.elbow(infected_host,feature)"
   ]
  },
  {
   "cell_type": "code",
   "execution_count": 577,
   "metadata": {},
   "outputs": [
    {
     "data": {
      "image/png": "[encoded data removed]",
      "text/plain": [
       "<Figure size 288x144 with 1 Axes>"
      ]
     },
     "metadata": {},
     "output_type": "display_data"
    },
    {
     "data": {
      "image/png": "[encoded data removed]",
      "text/plain": [
       "<Figure size 288x144 with 1 Axes>"
      ]
     },
     "metadata": {},
     "output_type": "display_data"
    },
    {
     "data": {
      "image/png": "[encoded data removed]",
      "text/plain": [
       "<Figure size 288x144 with 1 Axes>"
      ]
     },
     "metadata": {},
     "output_type": "display_data"
    }
   ],
   "source": [
    "features = [\"Protocol\",\"Duration\",\"SourceBytes\"]\n",
    "nbins = [3,4,4]\n",
    "\n",
    "for feature, nbin in zip(features,nbins):\n",
    "    X = np.array(infected_host[feature]).reshape(-1,1)\n",
    "    enc = KBinsDiscretizer(n_bins=nbin, strategy=\"kmeans\")\n",
    "    X_binned = enc.fit_transform(X)\n",
    "    binsedges = enc.bin_edges_[0]\n",
    "    counts = pd.cut(np.array(infected_host[feature]), bins=binsedges).value_counts()\n",
    "\n",
    "    fig, ax = plt.subplots(figsize=(4,2))\n",
    "    plt.hist(counts)\n",
    "    ax.set_xlabel(\"Bins\")\n",
    "    ax.set_title(\"Histogram for feature \"+feature)\n",
    "    plt.show()\n",
    "\n",
    "\n"
   ]
  },
  {
   "cell_type": "code",
   "execution_count": null,
   "metadata": {},
   "outputs": [],
   "source": []
  },
  {
   "cell_type": "code",
   "execution_count": null,
   "metadata": {},
   "outputs": [],
   "source": []
  },
  {
   "cell_type": "code",
   "execution_count": null,
   "metadata": {},
   "outputs": [],
   "source": []
  }
 ],
 "metadata": {
  "celltoolbar": "Raw Cell Format",
  "kernelspec": {
   "display_name": "Python 3",
   "language": "python",
   "name": "python3"
  },
  "language_info": {
   "codemirror_mode": {
    "name": "ipython",
    "version": 3
   },
   "file_extension": ".py",
   "mimetype": "text/x-python",
   "name": "python",
   "nbconvert_exporter": "python",
   "pygments_lexer": "ipython3",
   "version": "3.7.3"
  }
 },
 "nbformat": 4,
 "nbformat_minor": 4
}
