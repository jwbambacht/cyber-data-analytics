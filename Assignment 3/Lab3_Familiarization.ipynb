{
 "cells": [
  {
   "cell_type": "code",
   "execution_count": 1,
   "metadata": {},
   "outputs": [
    {
     "name": "stderr",
     "output_type": "stream",
     "text": [
      "/Users/lennartoverdevest/miniconda3/lib/python3.7/site-packages/sklearn/utils/deprecation.py:144: FutureWarning: The sklearn.metrics.classification module is  deprecated in version 0.22 and will be removed in version 0.24. The corresponding classes / functions should instead be imported from sklearn.metrics. Anything that cannot be imported from sklearn.metrics is now part of the private API.\n",
      "  warnings.warn(message, FutureWarning)\n"
     ]
    }
   ],
   "source": [
    "%reset -f\n",
    "%load_ext autoreload\n",
    "%autoreload 2\n",
    "\n",
    "import pandas as pd\n",
    "import seaborn as sns\n",
    "import matplotlib.pyplot as plt\n",
    "import matplotlib\n",
    "import numpy as np\n",
    "import familiarization as fam\n",
    "\n",
    "from sklearn.cluster import KMeans\n",
    "from yellowbrick.cluster import KElbowVisualizer\n",
    "from sklearn.preprocessing import KBinsDiscretizer\n",
    "\n",
    "# data_9 = fam.load_data(\"data/capture20110817.binetflow.txt\")\n",
    "data = fam.load_data(\"data/capture20110818.binetflow.txt\")\n",
    "# data_11 = fam.load_data(\"data/capture20110818-2.binetflow.txt\")\n",
    "# data_12 = fam.load_data(\"data/capture20110819.binetflow.txt\")"
   ]
  },
  {
   "cell_type": "code",
   "execution_count": 2,
   "metadata": {},
   "outputs": [
    {
     "data": {
      "text/html": [
       "<div>\n",
       "<style scoped>\n",
       "    .dataframe tbody tr th:only-of-type {\n",
       "        vertical-align: middle;\n",
       "    }\n",
       "\n",
       "    .dataframe tbody tr th {\n",
       "        vertical-align: top;\n",
       "    }\n",
       "\n",
       "    .dataframe thead th {\n",
       "        text-align: right;\n",
       "    }\n",
       "</style>\n",
       "<table border=\"1\" class=\"dataframe\">\n",
       "  <thead>\n",
       "    <tr style=\"text-align: right;\">\n",
       "      <th></th>\n",
       "      <th>StartTime</th>\n",
       "      <th>Duration</th>\n",
       "      <th>Protocol</th>\n",
       "      <th>SourceAddress</th>\n",
       "      <th>SourcePort</th>\n",
       "      <th>Direction</th>\n",
       "      <th>DestinationAddress</th>\n",
       "      <th>DestinationPort</th>\n",
       "      <th>TotalPackets</th>\n",
       "      <th>TotalBytes</th>\n",
       "      <th>SourceBytes</th>\n",
       "      <th>Label</th>\n",
       "      <th>Infected</th>\n",
       "    </tr>\n",
       "  </thead>\n",
       "  <tbody>\n",
       "    <tr>\n",
       "      <th>532</th>\n",
       "      <td>2011/08/18 10:19:15.693956</td>\n",
       "      <td>3587.569824</td>\n",
       "      <td>TCP</td>\n",
       "      <td>147.32.84.164</td>\n",
       "      <td>54784</td>\n",
       "      <td>&lt;?&gt;</td>\n",
       "      <td>74.125.232.215</td>\n",
       "      <td>443</td>\n",
       "      <td>3049</td>\n",
       "      <td>978731</td>\n",
       "      <td>245317</td>\n",
       "      <td>flow=From-Normal-V51-Grill</td>\n",
       "      <td>0</td>\n",
       "    </tr>\n",
       "    <tr>\n",
       "      <th>822</th>\n",
       "      <td>2011/08/18 10:19:18.143576</td>\n",
       "      <td>198.072739</td>\n",
       "      <td>TCP</td>\n",
       "      <td>147.32.84.164</td>\n",
       "      <td>56165</td>\n",
       "      <td>&lt;?&gt;</td>\n",
       "      <td>74.125.232.197</td>\n",
       "      <td>80</td>\n",
       "      <td>14</td>\n",
       "      <td>924</td>\n",
       "      <td>462</td>\n",
       "      <td>flow=From-Normal-V51-Grill</td>\n",
       "      <td>0</td>\n",
       "    </tr>\n",
       "    <tr>\n",
       "      <th>842</th>\n",
       "      <td>2011/08/18 10:19:18.303590</td>\n",
       "      <td>197.928329</td>\n",
       "      <td>TCP</td>\n",
       "      <td>147.32.84.164</td>\n",
       "      <td>57965</td>\n",
       "      <td>&lt;?&gt;</td>\n",
       "      <td>209.85.149.138</td>\n",
       "      <td>80</td>\n",
       "      <td>14</td>\n",
       "      <td>924</td>\n",
       "      <td>462</td>\n",
       "      <td>flow=From-Normal-V51-Grill</td>\n",
       "      <td>0</td>\n",
       "    </tr>\n",
       "    <tr>\n",
       "      <th>1021</th>\n",
       "      <td>2011/08/18 10:19:19.838272</td>\n",
       "      <td>0.000399</td>\n",
       "      <td>UDP</td>\n",
       "      <td>147.32.84.170</td>\n",
       "      <td>45807</td>\n",
       "      <td>&lt;-&gt;</td>\n",
       "      <td>147.32.80.9</td>\n",
       "      <td>53</td>\n",
       "      <td>2</td>\n",
       "      <td>400</td>\n",
       "      <td>74</td>\n",
       "      <td>flow=From-Normal-V51-Stribrek</td>\n",
       "      <td>0</td>\n",
       "    </tr>\n",
       "    <tr>\n",
       "      <th>1022</th>\n",
       "      <td>2011/08/18 10:19:19.839123</td>\n",
       "      <td>0.000400</td>\n",
       "      <td>UDP</td>\n",
       "      <td>147.32.84.170</td>\n",
       "      <td>35380</td>\n",
       "      <td>&lt;-&gt;</td>\n",
       "      <td>147.32.80.9</td>\n",
       "      <td>53</td>\n",
       "      <td>2</td>\n",
       "      <td>400</td>\n",
       "      <td>74</td>\n",
       "      <td>flow=From-Normal-V51-Stribrek</td>\n",
       "      <td>0</td>\n",
       "    </tr>\n",
       "  </tbody>\n",
       "</table>\n",
       "</div>"
      ],
      "text/plain": [
       "                       StartTime     Duration Protocol  SourceAddress  \\\n",
       "532   2011/08/18 10:19:15.693956  3587.569824      TCP  147.32.84.164   \n",
       "822   2011/08/18 10:19:18.143576   198.072739      TCP  147.32.84.164   \n",
       "842   2011/08/18 10:19:18.303590   197.928329      TCP  147.32.84.164   \n",
       "1021  2011/08/18 10:19:19.838272     0.000399      UDP  147.32.84.170   \n",
       "1022  2011/08/18 10:19:19.839123     0.000400      UDP  147.32.84.170   \n",
       "\n",
       "     SourcePort Direction DestinationAddress DestinationPort  TotalPackets  \\\n",
       "532       54784       <?>     74.125.232.215             443          3049   \n",
       "822       56165       <?>     74.125.232.197              80            14   \n",
       "842       57965       <?>     209.85.149.138              80            14   \n",
       "1021      45807       <->        147.32.80.9              53             2   \n",
       "1022      35380       <->        147.32.80.9              53             2   \n",
       "\n",
       "      TotalBytes  SourceBytes                          Label  Infected  \n",
       "532       978731       245317     flow=From-Normal-V51-Grill         0  \n",
       "822          924          462     flow=From-Normal-V51-Grill         0  \n",
       "842          924          462     flow=From-Normal-V51-Grill         0  \n",
       "1021         400           74  flow=From-Normal-V51-Stribrek         0  \n",
       "1022         400           74  flow=From-Normal-V51-Stribrek         0  "
      ]
     },
     "execution_count": 2,
     "metadata": {},
     "output_type": "execute_result"
    }
   ],
   "source": [
    "pdata = fam.pre_process(data)\n",
    "pdata.head()"
   ]
  },
  {
   "cell_type": "code",
   "execution_count": 3,
   "metadata": {},
   "outputs": [
    {
     "name": "stdout",
     "output_type": "stream",
     "text": [
      "122199 106352 15847\n"
     ]
    },
    {
     "data": {
      "text/html": [
       "<div>\n",
       "<style scoped>\n",
       "    .dataframe tbody tr th:only-of-type {\n",
       "        vertical-align: middle;\n",
       "    }\n",
       "\n",
       "    .dataframe tbody tr th {\n",
       "        vertical-align: top;\n",
       "    }\n",
       "\n",
       "    .dataframe thead th {\n",
       "        text-align: right;\n",
       "    }\n",
       "</style>\n",
       "<table border=\"1\" class=\"dataframe\">\n",
       "  <thead>\n",
       "    <tr style=\"text-align: right;\">\n",
       "      <th></th>\n",
       "      <th>StartTime</th>\n",
       "      <th>Duration</th>\n",
       "      <th>Protocol</th>\n",
       "      <th>SourceAddress</th>\n",
       "      <th>SourcePort</th>\n",
       "      <th>Direction</th>\n",
       "      <th>DestinationAddress</th>\n",
       "      <th>DestinationPort</th>\n",
       "      <th>TotalPackets</th>\n",
       "      <th>TotalBytes</th>\n",
       "      <th>SourceBytes</th>\n",
       "      <th>Label</th>\n",
       "      <th>Infected</th>\n",
       "    </tr>\n",
       "  </thead>\n",
       "  <tbody>\n",
       "    <tr>\n",
       "      <th>90622</th>\n",
       "      <td>2011/08/18 10:37:58.448307</td>\n",
       "      <td>0.000342</td>\n",
       "      <td>UDP</td>\n",
       "      <td>147.32.84.165</td>\n",
       "      <td>1025</td>\n",
       "      <td>&lt;-&gt;</td>\n",
       "      <td>147.32.80.9</td>\n",
       "      <td>53</td>\n",
       "      <td>2</td>\n",
       "      <td>203</td>\n",
       "      <td>64</td>\n",
       "      <td>flow=From-Botnet-V51-1-UDP-DNS</td>\n",
       "      <td>1</td>\n",
       "    </tr>\n",
       "    <tr>\n",
       "      <th>90808</th>\n",
       "      <td>2011/08/18 10:38:00.695278</td>\n",
       "      <td>0.010278</td>\n",
       "      <td>UDP</td>\n",
       "      <td>147.32.84.165</td>\n",
       "      <td>1025</td>\n",
       "      <td>&lt;-&gt;</td>\n",
       "      <td>147.32.80.9</td>\n",
       "      <td>53</td>\n",
       "      <td>2</td>\n",
       "      <td>590</td>\n",
       "      <td>87</td>\n",
       "      <td>flow=From-Botnet-V51-1-UDP-DNS</td>\n",
       "      <td>1</td>\n",
       "    </tr>\n",
       "    <tr>\n",
       "      <th>90809</th>\n",
       "      <td>2011/08/18 10:38:00.706560</td>\n",
       "      <td>0.043726</td>\n",
       "      <td>TCP</td>\n",
       "      <td>147.32.84.165</td>\n",
       "      <td>1027</td>\n",
       "      <td>-&gt;</td>\n",
       "      <td>74.125.232.206</td>\n",
       "      <td>80</td>\n",
       "      <td>7</td>\n",
       "      <td>882</td>\n",
       "      <td>629</td>\n",
       "      <td>flow=From-Botnet-V51-1-TCP-HTTP-Google-Net-Est...</td>\n",
       "      <td>1</td>\n",
       "    </tr>\n",
       "    <tr>\n",
       "      <th>90965</th>\n",
       "      <td>2011/08/18 10:38:03.255934</td>\n",
       "      <td>0.010256</td>\n",
       "      <td>UDP</td>\n",
       "      <td>147.32.84.165</td>\n",
       "      <td>1025</td>\n",
       "      <td>&lt;-&gt;</td>\n",
       "      <td>147.32.80.9</td>\n",
       "      <td>53</td>\n",
       "      <td>2</td>\n",
       "      <td>479</td>\n",
       "      <td>76</td>\n",
       "      <td>flow=From-Botnet-V51-1-UDP-DNS</td>\n",
       "      <td>1</td>\n",
       "    </tr>\n",
       "    <tr>\n",
       "      <th>90968</th>\n",
       "      <td>2011/08/18 10:38:03.267222</td>\n",
       "      <td>581.516663</td>\n",
       "      <td>UDP</td>\n",
       "      <td>147.32.84.165</td>\n",
       "      <td>123</td>\n",
       "      <td>-&gt;</td>\n",
       "      <td>65.55.56.40</td>\n",
       "      <td>123</td>\n",
       "      <td>4</td>\n",
       "      <td>360</td>\n",
       "      <td>360</td>\n",
       "      <td>flow=From-Botnet-V51-1-UDP-Attempt</td>\n",
       "      <td>1</td>\n",
       "    </tr>\n",
       "  </tbody>\n",
       "</table>\n",
       "</div>"
      ],
      "text/plain": [
       "                        StartTime    Duration Protocol  SourceAddress  \\\n",
       "90622  2011/08/18 10:37:58.448307    0.000342      UDP  147.32.84.165   \n",
       "90808  2011/08/18 10:38:00.695278    0.010278      UDP  147.32.84.165   \n",
       "90809  2011/08/18 10:38:00.706560    0.043726      TCP  147.32.84.165   \n",
       "90965  2011/08/18 10:38:03.255934    0.010256      UDP  147.32.84.165   \n",
       "90968  2011/08/18 10:38:03.267222  581.516663      UDP  147.32.84.165   \n",
       "\n",
       "      SourcePort Direction DestinationAddress DestinationPort  TotalPackets  \\\n",
       "90622       1025       <->        147.32.80.9              53             2   \n",
       "90808       1025       <->        147.32.80.9              53             2   \n",
       "90809       1027        ->     74.125.232.206              80             7   \n",
       "90965       1025       <->        147.32.80.9              53             2   \n",
       "90968        123        ->        65.55.56.40             123             4   \n",
       "\n",
       "       TotalBytes  SourceBytes  \\\n",
       "90622         203           64   \n",
       "90808         590           87   \n",
       "90809         882          629   \n",
       "90965         479           76   \n",
       "90968         360          360   \n",
       "\n",
       "                                                   Label  Infected  \n",
       "90622                     flow=From-Botnet-V51-1-UDP-DNS         1  \n",
       "90808                     flow=From-Botnet-V51-1-UDP-DNS         1  \n",
       "90809  flow=From-Botnet-V51-1-TCP-HTTP-Google-Net-Est...         1  \n",
       "90965                     flow=From-Botnet-V51-1-UDP-DNS         1  \n",
       "90968                 flow=From-Botnet-V51-1-UDP-Attempt         1  "
      ]
     },
     "execution_count": 3,
     "metadata": {},
     "output_type": "execute_result"
    }
   ],
   "source": [
    "infected_hosts = pdata.loc[pdata[\"Infected\"] == 1]\n",
    "non_infected_hosts = pdata.loc[pdata[\"Infected\"] == 0]\n",
    "print(len(pdata),len(infected_hosts), len(non_infected_hosts))\n",
    "infected_hosts.head()"
   ]
  },
  {
   "cell_type": "code",
   "execution_count": 4,
   "metadata": {
    "scrolled": false
   },
   "outputs": [
    {
     "data": {
      "text/html": [
       "<div>\n",
       "<style scoped>\n",
       "    .dataframe tbody tr th:only-of-type {\n",
       "        vertical-align: middle;\n",
       "    }\n",
       "\n",
       "    .dataframe tbody tr th {\n",
       "        vertical-align: top;\n",
       "    }\n",
       "\n",
       "    .dataframe thead th {\n",
       "        text-align: right;\n",
       "    }\n",
       "</style>\n",
       "<table border=\"1\" class=\"dataframe\">\n",
       "  <thead>\n",
       "    <tr style=\"text-align: right;\">\n",
       "      <th></th>\n",
       "      <th>Duration</th>\n",
       "      <th>TotalPackets</th>\n",
       "      <th>TotalBytes</th>\n",
       "      <th>SourceBytes</th>\n",
       "      <th>Infected</th>\n",
       "    </tr>\n",
       "  </thead>\n",
       "  <tbody>\n",
       "    <tr>\n",
       "      <th>count</th>\n",
       "      <td>106352.000000</td>\n",
       "      <td>106352.000000</td>\n",
       "      <td>1.063520e+05</td>\n",
       "      <td>1.063520e+05</td>\n",
       "      <td>106352.0</td>\n",
       "    </tr>\n",
       "    <tr>\n",
       "      <th>mean</th>\n",
       "      <td>90.825592</td>\n",
       "      <td>30.315330</td>\n",
       "      <td>2.712966e+04</td>\n",
       "      <td>2.712120e+04</td>\n",
       "      <td>1.0</td>\n",
       "    </tr>\n",
       "    <tr>\n",
       "      <th>std</th>\n",
       "      <td>292.015024</td>\n",
       "      <td>1741.181013</td>\n",
       "      <td>1.388200e+06</td>\n",
       "      <td>1.388200e+06</td>\n",
       "      <td>0.0</td>\n",
       "    </tr>\n",
       "    <tr>\n",
       "      <th>min</th>\n",
       "      <td>0.000000</td>\n",
       "      <td>1.000000</td>\n",
       "      <td>6.000000e+01</td>\n",
       "      <td>6.000000e+01</td>\n",
       "      <td>1.0</td>\n",
       "    </tr>\n",
       "    <tr>\n",
       "      <th>25%</th>\n",
       "      <td>0.000000</td>\n",
       "      <td>1.000000</td>\n",
       "      <td>1.066000e+03</td>\n",
       "      <td>1.066000e+03</td>\n",
       "      <td>1.0</td>\n",
       "    </tr>\n",
       "    <tr>\n",
       "      <th>50%</th>\n",
       "      <td>0.000000</td>\n",
       "      <td>1.000000</td>\n",
       "      <td>1.066000e+03</td>\n",
       "      <td>1.066000e+03</td>\n",
       "      <td>1.0</td>\n",
       "    </tr>\n",
       "    <tr>\n",
       "      <th>75%</th>\n",
       "      <td>0.000000</td>\n",
       "      <td>1.000000</td>\n",
       "      <td>1.066000e+03</td>\n",
       "      <td>1.066000e+03</td>\n",
       "      <td>1.0</td>\n",
       "    </tr>\n",
       "    <tr>\n",
       "      <th>max</th>\n",
       "      <td>3594.721436</td>\n",
       "      <td>176254.000000</td>\n",
       "      <td>1.387386e+08</td>\n",
       "      <td>1.387386e+08</td>\n",
       "      <td>1.0</td>\n",
       "    </tr>\n",
       "  </tbody>\n",
       "</table>\n",
       "</div>"
      ],
      "text/plain": [
       "            Duration   TotalPackets    TotalBytes   SourceBytes  Infected\n",
       "count  106352.000000  106352.000000  1.063520e+05  1.063520e+05  106352.0\n",
       "mean       90.825592      30.315330  2.712966e+04  2.712120e+04       1.0\n",
       "std       292.015024    1741.181013  1.388200e+06  1.388200e+06       0.0\n",
       "min         0.000000       1.000000  6.000000e+01  6.000000e+01       1.0\n",
       "25%         0.000000       1.000000  1.066000e+03  1.066000e+03       1.0\n",
       "50%         0.000000       1.000000  1.066000e+03  1.066000e+03       1.0\n",
       "75%         0.000000       1.000000  1.066000e+03  1.066000e+03       1.0\n",
       "max      3594.721436  176254.000000  1.387386e+08  1.387386e+08       1.0"
      ]
     },
     "execution_count": 4,
     "metadata": {},
     "output_type": "execute_result"
    }
   ],
   "source": [
    "infected_hosts.describe()"
   ]
  },
  {
   "cell_type": "code",
   "execution_count": 5,
   "metadata": {},
   "outputs": [
    {
     "data": {
      "text/html": [
       "<div>\n",
       "<style scoped>\n",
       "    .dataframe tbody tr th:only-of-type {\n",
       "        vertical-align: middle;\n",
       "    }\n",
       "\n",
       "    .dataframe tbody tr th {\n",
       "        vertical-align: top;\n",
       "    }\n",
       "\n",
       "    .dataframe thead th {\n",
       "        text-align: right;\n",
       "    }\n",
       "</style>\n",
       "<table border=\"1\" class=\"dataframe\">\n",
       "  <thead>\n",
       "    <tr style=\"text-align: right;\">\n",
       "      <th></th>\n",
       "      <th>Duration</th>\n",
       "      <th>TotalPackets</th>\n",
       "      <th>TotalBytes</th>\n",
       "      <th>SourceBytes</th>\n",
       "      <th>Infected</th>\n",
       "    </tr>\n",
       "  </thead>\n",
       "  <tbody>\n",
       "    <tr>\n",
       "      <th>count</th>\n",
       "      <td>15847.000000</td>\n",
       "      <td>15847.000000</td>\n",
       "      <td>1.584700e+04</td>\n",
       "      <td>1.584700e+04</td>\n",
       "      <td>15847.0</td>\n",
       "    </tr>\n",
       "    <tr>\n",
       "      <th>mean</th>\n",
       "      <td>46.585670</td>\n",
       "      <td>35.749164</td>\n",
       "      <td>2.719936e+04</td>\n",
       "      <td>1.660341e+03</td>\n",
       "      <td>0.0</td>\n",
       "    </tr>\n",
       "    <tr>\n",
       "      <th>std</th>\n",
       "      <td>301.233657</td>\n",
       "      <td>506.146679</td>\n",
       "      <td>4.707149e+05</td>\n",
       "      <td>1.838861e+04</td>\n",
       "      <td>0.0</td>\n",
       "    </tr>\n",
       "    <tr>\n",
       "      <th>min</th>\n",
       "      <td>0.000000</td>\n",
       "      <td>1.000000</td>\n",
       "      <td>6.600000e+01</td>\n",
       "      <td>0.000000e+00</td>\n",
       "      <td>0.0</td>\n",
       "    </tr>\n",
       "    <tr>\n",
       "      <th>25%</th>\n",
       "      <td>0.000318</td>\n",
       "      <td>2.000000</td>\n",
       "      <td>2.440000e+02</td>\n",
       "      <td>7.400000e+01</td>\n",
       "      <td>0.0</td>\n",
       "    </tr>\n",
       "    <tr>\n",
       "      <th>50%</th>\n",
       "      <td>0.000480</td>\n",
       "      <td>2.000000</td>\n",
       "      <td>4.000000e+02</td>\n",
       "      <td>8.100000e+01</td>\n",
       "      <td>0.0</td>\n",
       "    </tr>\n",
       "    <tr>\n",
       "      <th>75%</th>\n",
       "      <td>0.112268</td>\n",
       "      <td>6.000000</td>\n",
       "      <td>4.780000e+02</td>\n",
       "      <td>2.720000e+02</td>\n",
       "      <td>0.0</td>\n",
       "    </tr>\n",
       "    <tr>\n",
       "      <th>max</th>\n",
       "      <td>3599.957031</td>\n",
       "      <td>32630.000000</td>\n",
       "      <td>3.048162e+07</td>\n",
       "      <td>1.136051e+06</td>\n",
       "      <td>0.0</td>\n",
       "    </tr>\n",
       "  </tbody>\n",
       "</table>\n",
       "</div>"
      ],
      "text/plain": [
       "           Duration  TotalPackets    TotalBytes   SourceBytes  Infected\n",
       "count  15847.000000  15847.000000  1.584700e+04  1.584700e+04   15847.0\n",
       "mean      46.585670     35.749164  2.719936e+04  1.660341e+03       0.0\n",
       "std      301.233657    506.146679  4.707149e+05  1.838861e+04       0.0\n",
       "min        0.000000      1.000000  6.600000e+01  0.000000e+00       0.0\n",
       "25%        0.000318      2.000000  2.440000e+02  7.400000e+01       0.0\n",
       "50%        0.000480      2.000000  4.000000e+02  8.100000e+01       0.0\n",
       "75%        0.112268      6.000000  4.780000e+02  2.720000e+02       0.0\n",
       "max     3599.957031  32630.000000  3.048162e+07  1.136051e+06       0.0"
      ]
     },
     "execution_count": 5,
     "metadata": {},
     "output_type": "execute_result"
    }
   ],
   "source": [
    "non_infected_hosts.describe()"
   ]
  },
  {
   "cell_type": "code",
   "execution_count": 6,
   "metadata": {},
   "outputs": [
    {
     "name": "stdout",
     "output_type": "stream",
     "text": [
      "Infected hosts\n",
      " Duration: 90.82559153096321\n",
      " Protocols: \n",
      " ICMP    0.996474\n",
      "UDP     0.002755\n",
      "TCP     0.000771\n",
      "Name: Protocol, dtype: float64\n",
      " Average Packets 30.315330224161276\n",
      " Average Bytes 27129.65718557244\n",
      " Source Bytes 27121.20417105461\n",
      "\n",
      "\n",
      "Non-Infected hosts\n",
      " Duration: 46.585669888622455\n",
      " Protocols: \n",
      " UDP     0.617152\n",
      "TCP     0.337162\n",
      "ICMP    0.044993\n",
      "ARP     0.000694\n",
      "Name: Protocol, dtype: float64\n",
      " Average Packets 35.74916387959866\n",
      " Average Bytes 27199.363854357292\n",
      " Source Bytes 1660.3409478134663\n"
     ]
    }
   ],
   "source": [
    "# Compare statistics for infected and non-infected hosts\n",
    "## Average Duration\n",
    "duration_infected = np.mean(infected_hosts[\"Duration\"])\n",
    "duration_non_infected = np.mean(non_infected_hosts[\"Duration\"])\n",
    "\n",
    "## Protocol\n",
    "protocols_infected = infected_hosts.Protocol.value_counts(normalize=True)\n",
    "protocols_non_infected = non_infected_hosts.Protocol.value_counts(normalize=True)\n",
    "\n",
    "## Average TotalPackets\n",
    "packets_infected = np.mean(infected_hosts.TotalPackets)\n",
    "packets_non_infected = np.mean(non_infected_hosts.TotalPackets)\n",
    "\n",
    "## Average TotalBytes\n",
    "bytes_infected = np.mean(infected_hosts.TotalBytes)\n",
    "bytes_non_infected = np.mean(non_infected_hosts.TotalBytes)\n",
    "\n",
    "## Average SourceBytes\n",
    "source_bytes_infected = np.mean(infected_hosts.SourceBytes)\n",
    "source_bytes_non_infected = np.mean(non_infected_hosts.SourceBytes)\n",
    "\n",
    "print(\"Infected hosts\")\n",
    "print(\" Duration:\", duration_infected)\n",
    "print(\" Protocols: \\n\",protocols_infected)\n",
    "print(\" Average Packets\",packets_infected)\n",
    "print(\" Average Bytes\",bytes_infected)\n",
    "print(\" Source Bytes\",source_bytes_infected)\n",
    "\n",
    "print(\"\\n\")\n",
    "print(\"Non-Infected hosts\")\n",
    "print(\" Duration:\", duration_non_infected)\n",
    "print(\" Protocols: \\n\",protocols_non_infected)\n",
    "print(\" Average Packets\",packets_non_infected)\n",
    "print(\" Average Bytes\",bytes_non_infected)\n",
    "print(\" Source Bytes\",source_bytes_non_infected)"
   ]
  },
  {
   "cell_type": "markdown",
   "metadata": {},
   "source": [
    "The statistics are clear in the differences between the infected and non-infected hosts:\n",
    "- The duration for flows from infected hosts is about twice the time as for non-infected hosts\n",
    "- Almost all flow from the infected hosts use the ICMP protocol, while UDP and TCP are most popular for non-infected hosts\n",
    "- The total number of packets and bytes do not differ much between both hosts\n",
    "- The bytes sent by infected hosts are a lot higher for infected hosts\n",
    "\n",
    "The two features that stand out most are the ICMP protocol and Duration/SourceBytes"
   ]
  },
  {
   "cell_type": "code",
   "execution_count": 7,
   "metadata": {},
   "outputs": [
    {
     "data": {
      "image/png": "[encoded data removed]",
      "text/plain": [
       "<Figure size 720x432 with 1 Axes>"
      ]
     },
     "metadata": {
      "needs_background": "light"
     },
     "output_type": "display_data"
    }
   ],
   "source": [
    "# Visualize protocols used\n",
    "protocol_grouped = pdata.groupby('Infected')['Protocol'].value_counts(normalize=True)\n",
    "protocol_grouped = protocol_grouped.mul(100)\n",
    "protocol_grouped = protocol_grouped.rename('percent').reset_index()\n",
    "\n",
    "fig, ax = plt.subplots(figsize=(10,6))\n",
    "ax = sns.barplot(x='Protocol',y='percent',hue='Infected',data=protocol_grouped)\n",
    "ax.set_title(\"Protocols used for infected and non-infected hosts\",size=16)\n",
    "ax.set_ylabel(\"Percentage\",size=14)\n",
    "ax.set_xlabel(\"Protocols\",size=14)\n",
    "plt.show()"
   ]
  },
  {
   "cell_type": "code",
   "execution_count": 8,
   "metadata": {},
   "outputs": [
    {
     "data": {
      "text/plain": [
       "   ->    112302\n",
       "  <->      9708\n",
       "  <?>       153\n",
       "   ?>        19\n",
       "  who        11\n",
       "  <-          6\n",
       "Name: Direction, dtype: int64"
      ]
     },
     "execution_count": 8,
     "metadata": {},
     "output_type": "execute_result"
    }
   ],
   "source": [
    "pdata.Direction.value_counts()"
   ]
  },
  {
   "cell_type": "code",
   "execution_count": 9,
   "metadata": {},
   "outputs": [
    {
     "data": {
      "text/plain": [
       "   ->    106198\n",
       "  <->       154\n",
       "Name: Direction, dtype: int64"
      ]
     },
     "execution_count": 9,
     "metadata": {},
     "output_type": "execute_result"
    }
   ],
   "source": [
    "infected_hosts.Direction.value_counts()"
   ]
  },
  {
   "cell_type": "code",
   "execution_count": 10,
   "metadata": {},
   "outputs": [
    {
     "data": {
      "text/plain": [
       "  <->    9554\n",
       "   ->    6104\n",
       "  <?>     153\n",
       "   ?>      19\n",
       "  who      11\n",
       "  <-        6\n",
       "Name: Direction, dtype: int64"
      ]
     },
     "execution_count": 10,
     "metadata": {},
     "output_type": "execute_result"
    }
   ],
   "source": [
    "non_infected_hosts.Direction.value_counts()"
   ]
  },
  {
   "cell_type": "markdown",
   "metadata": {},
   "source": [
    "Continious data may have a big range, and therefore has a lot of degrees of freedom. Discretization is a method that breaks down these numbers into groups/categories such that it easier to understand. Also, some models aren't compatible with continuous variables. By discretizing a model, the data is fitted into 'bins'. The discretization error is the difference between the continous variables compared to the discretized variables.\n",
    "\n",
    "Separating all possible values into 'N' number of bins, each having the same width. Formula for interval width:\n",
    "width = (maximum value - minimum value) / N, where N is the number of bins or intervals.\n",
    "\n",
    "There exists equal-width discretization and equal-frequency dicretization. "
   ]
  },
  {
   "cell_type": "code",
   "execution_count": null,
   "metadata": {
    "scrolled": true
   },
   "outputs": [],
   "source": []
  },
  {
   "cell_type": "code",
   "execution_count": null,
   "metadata": {},
   "outputs": [],
   "source": []
  },
  {
   "cell_type": "code",
   "execution_count": null,
   "metadata": {},
   "outputs": [],
   "source": []
  },
  {
   "cell_type": "code",
   "execution_count": null,
   "metadata": {},
   "outputs": [],
   "source": []
  },
  {
   "cell_type": "markdown",
   "metadata": {},
   "source": [
    "As described in [1] Elbow methods can be used to select the optimal number of bins to use for descretization. Before we can apply this to non-numerical features, we must encode them. For the protocol feature we simply assign integers to each category by assigning them manually or by use of a LabelEncoder. We select the infected host with the most entries in the dataset to first apply the discretization on. For the protocols, duration and sourcebytes features we use the kMeans clustering in combination with the Elbow function to determine the number of bins. The protocol is optimal for three bins (while there were four categories in total) and the duration and sourcebytes are optimal for four bins.\n",
    "\n",
    "Now we are able to discretize and combine the features.\n",
    "\n",
    "[1] Learning Behavorial Fingerprints From Netflows Using Timed Automata"
   ]
  },
  {
   "cell_type": "code",
   "execution_count": 11,
   "metadata": {},
   "outputs": [
    {
     "name": "stderr",
     "output_type": "stream",
     "text": [
      "/Users/lennartoverdevest/miniconda3/lib/python3.7/site-packages/yellowbrick/cluster/elbow.py:312: ConvergenceWarning: Number of distinct clusters (3) found smaller than n_clusters (4). Possibly due to duplicate points in X.\n",
      "  self.estimator.fit(X)\n",
      "/Users/lennartoverdevest/miniconda3/lib/python3.7/site-packages/yellowbrick/cluster/elbow.py:93: RuntimeWarning: Mean of empty slice.\n",
      "  center = instances.mean(axis=0)\n",
      "/Users/lennartoverdevest/miniconda3/lib/python3.7/site-packages/numpy/core/_methods.py:78: RuntimeWarning: invalid value encountered in true_divide\n",
      "  ret, rcount, out=ret, casting='unsafe', subok=False)\n"
     ]
    },
    {
     "ename": "ValueError",
     "evalue": "Found array with 0 sample(s) (shape=(0, 1)) while a minimum of 1 is required by check_pairwise_arrays.",
     "output_type": "error",
     "traceback": [
      "\u001b[0;31m---------------------------------------------------------------------------\u001b[0m",
      "\u001b[0;31mValueError\u001b[0m                                Traceback (most recent call last)",
      "\u001b[0;32m<ipython-input-11-833ec7246820>\u001b[0m in \u001b[0;36m<module>\u001b[0;34m\u001b[0m\n\u001b[1;32m      9\u001b[0m \u001b[0;31m# Apply Elbow method to find optimal number of bins\u001b[0m\u001b[0;34m\u001b[0m\u001b[0;34m\u001b[0m\u001b[0;34m\u001b[0m\u001b[0m\n\u001b[1;32m     10\u001b[0m \u001b[0;32mfor\u001b[0m \u001b[0mfeature\u001b[0m \u001b[0;32min\u001b[0m \u001b[0;34m[\u001b[0m\u001b[0;34m\"Protocol\"\u001b[0m\u001b[0;34m,\u001b[0m\u001b[0;34m\"Duration\"\u001b[0m\u001b[0;34m,\u001b[0m\u001b[0;34m\"SourceBytes\"\u001b[0m\u001b[0;34m]\u001b[0m\u001b[0;34m:\u001b[0m\u001b[0;34m\u001b[0m\u001b[0;34m\u001b[0m\u001b[0m\n\u001b[0;32m---> 11\u001b[0;31m     \u001b[0mfam\u001b[0m\u001b[0;34m.\u001b[0m\u001b[0melbow\u001b[0m\u001b[0;34m(\u001b[0m\u001b[0minfected_host\u001b[0m\u001b[0;34m,\u001b[0m\u001b[0mfeature\u001b[0m\u001b[0;34m)\u001b[0m\u001b[0;34m\u001b[0m\u001b[0;34m\u001b[0m\u001b[0m\n\u001b[0m",
      "\u001b[0;32m~/cyberdataanalytics/Assignment 3/familiarization.py\u001b[0m in \u001b[0;36melbow\u001b[0;34m(data, col)\u001b[0m\n\u001b[1;32m     70\u001b[0m         \u001b[0mmodel\u001b[0m \u001b[0;34m=\u001b[0m \u001b[0mKMeans\u001b[0m\u001b[0;34m(\u001b[0m\u001b[0;34m)\u001b[0m\u001b[0;34m\u001b[0m\u001b[0;34m\u001b[0m\u001b[0m\n\u001b[1;32m     71\u001b[0m         \u001b[0mvisualizer\u001b[0m \u001b[0;34m=\u001b[0m \u001b[0mKElbowVisualizer\u001b[0m\u001b[0;34m(\u001b[0m\u001b[0mmodel\u001b[0m\u001b[0;34m)\u001b[0m\u001b[0;34m\u001b[0m\u001b[0;34m\u001b[0m\u001b[0m\n\u001b[0;32m---> 72\u001b[0;31m         \u001b[0mvisualizer\u001b[0m\u001b[0;34m.\u001b[0m\u001b[0mfit\u001b[0m\u001b[0;34m(\u001b[0m\u001b[0mreshaped_data\u001b[0m\u001b[0;34m)\u001b[0m\u001b[0;34m\u001b[0m\u001b[0;34m\u001b[0m\u001b[0m\n\u001b[0m\u001b[1;32m     73\u001b[0m         \u001b[0mvisualizer\u001b[0m\u001b[0;34m.\u001b[0m\u001b[0mshow\u001b[0m\u001b[0;34m(\u001b[0m\u001b[0;34m)\u001b[0m\u001b[0;34m\u001b[0m\u001b[0;34m\u001b[0m\u001b[0m\n",
      "\u001b[0;32m~/miniconda3/lib/python3.7/site-packages/yellowbrick/cluster/elbow.py\u001b[0m in \u001b[0;36mfit\u001b[0;34m(self, X, y, **kwargs)\u001b[0m\n\u001b[1;32m    314\u001b[0m             \u001b[0;31m# Append the time and score to our plottable metrics\u001b[0m\u001b[0;34m\u001b[0m\u001b[0;34m\u001b[0m\u001b[0;34m\u001b[0m\u001b[0m\n\u001b[1;32m    315\u001b[0m             \u001b[0mself\u001b[0m\u001b[0;34m.\u001b[0m\u001b[0mk_timers_\u001b[0m\u001b[0;34m.\u001b[0m\u001b[0mappend\u001b[0m\u001b[0;34m(\u001b[0m\u001b[0mtime\u001b[0m\u001b[0;34m.\u001b[0m\u001b[0mtime\u001b[0m\u001b[0;34m(\u001b[0m\u001b[0;34m)\u001b[0m \u001b[0;34m-\u001b[0m \u001b[0mstart\u001b[0m\u001b[0;34m)\u001b[0m\u001b[0;34m\u001b[0m\u001b[0;34m\u001b[0m\u001b[0m\n\u001b[0;32m--> 316\u001b[0;31m             \u001b[0mself\u001b[0m\u001b[0;34m.\u001b[0m\u001b[0mk_scores_\u001b[0m\u001b[0;34m.\u001b[0m\u001b[0mappend\u001b[0m\u001b[0;34m(\u001b[0m\u001b[0mself\u001b[0m\u001b[0;34m.\u001b[0m\u001b[0mscoring_metric\u001b[0m\u001b[0;34m(\u001b[0m\u001b[0mX\u001b[0m\u001b[0;34m,\u001b[0m \u001b[0mself\u001b[0m\u001b[0;34m.\u001b[0m\u001b[0mestimator\u001b[0m\u001b[0;34m.\u001b[0m\u001b[0mlabels_\u001b[0m\u001b[0;34m)\u001b[0m\u001b[0;34m)\u001b[0m\u001b[0;34m\u001b[0m\u001b[0;34m\u001b[0m\u001b[0m\n\u001b[0m\u001b[1;32m    317\u001b[0m \u001b[0;34m\u001b[0m\u001b[0m\n\u001b[1;32m    318\u001b[0m         \u001b[0;32mif\u001b[0m \u001b[0mself\u001b[0m\u001b[0;34m.\u001b[0m\u001b[0mlocate_elbow\u001b[0m\u001b[0;34m:\u001b[0m\u001b[0;34m\u001b[0m\u001b[0;34m\u001b[0m\u001b[0m\n",
      "\u001b[0;32m~/miniconda3/lib/python3.7/site-packages/yellowbrick/cluster/elbow.py\u001b[0m in \u001b[0;36mdistortion_score\u001b[0;34m(X, labels, metric)\u001b[0m\n\u001b[1;32m    102\u001b[0m \u001b[0;34m\u001b[0m\u001b[0m\n\u001b[1;32m    103\u001b[0m         \u001b[0;31m# Compute the square distances from the instances to the center\u001b[0m\u001b[0;34m\u001b[0m\u001b[0;34m\u001b[0m\u001b[0;34m\u001b[0m\u001b[0m\n\u001b[0;32m--> 104\u001b[0;31m         \u001b[0mdistances\u001b[0m \u001b[0;34m=\u001b[0m \u001b[0mpairwise_distances\u001b[0m\u001b[0;34m(\u001b[0m\u001b[0minstances\u001b[0m\u001b[0;34m,\u001b[0m \u001b[0mcenter\u001b[0m\u001b[0;34m,\u001b[0m \u001b[0mmetric\u001b[0m\u001b[0;34m=\u001b[0m\u001b[0mmetric\u001b[0m\u001b[0;34m)\u001b[0m\u001b[0;34m\u001b[0m\u001b[0;34m\u001b[0m\u001b[0m\n\u001b[0m\u001b[1;32m    105\u001b[0m         \u001b[0mdistances\u001b[0m \u001b[0;34m=\u001b[0m \u001b[0mdistances\u001b[0m \u001b[0;34m**\u001b[0m \u001b[0;36m2\u001b[0m\u001b[0;34m\u001b[0m\u001b[0;34m\u001b[0m\u001b[0m\n\u001b[1;32m    106\u001b[0m \u001b[0;34m\u001b[0m\u001b[0m\n",
      "\u001b[0;32m~/miniconda3/lib/python3.7/site-packages/sklearn/metrics/pairwise.py\u001b[0m in \u001b[0;36mpairwise_distances\u001b[0;34m(X, Y, metric, n_jobs, force_all_finite, **kwds)\u001b[0m\n\u001b[1;32m   1747\u001b[0m         \u001b[0mfunc\u001b[0m \u001b[0;34m=\u001b[0m \u001b[0mpartial\u001b[0m\u001b[0;34m(\u001b[0m\u001b[0mdistance\u001b[0m\u001b[0;34m.\u001b[0m\u001b[0mcdist\u001b[0m\u001b[0;34m,\u001b[0m \u001b[0mmetric\u001b[0m\u001b[0;34m=\u001b[0m\u001b[0mmetric\u001b[0m\u001b[0;34m,\u001b[0m \u001b[0;34m**\u001b[0m\u001b[0mkwds\u001b[0m\u001b[0;34m)\u001b[0m\u001b[0;34m\u001b[0m\u001b[0;34m\u001b[0m\u001b[0m\n\u001b[1;32m   1748\u001b[0m \u001b[0;34m\u001b[0m\u001b[0m\n\u001b[0;32m-> 1749\u001b[0;31m     \u001b[0;32mreturn\u001b[0m \u001b[0m_parallel_pairwise\u001b[0m\u001b[0;34m(\u001b[0m\u001b[0mX\u001b[0m\u001b[0;34m,\u001b[0m \u001b[0mY\u001b[0m\u001b[0;34m,\u001b[0m \u001b[0mfunc\u001b[0m\u001b[0;34m,\u001b[0m \u001b[0mn_jobs\u001b[0m\u001b[0;34m,\u001b[0m \u001b[0;34m**\u001b[0m\u001b[0mkwds\u001b[0m\u001b[0;34m)\u001b[0m\u001b[0;34m\u001b[0m\u001b[0;34m\u001b[0m\u001b[0m\n\u001b[0m\u001b[1;32m   1750\u001b[0m \u001b[0;34m\u001b[0m\u001b[0m\n\u001b[1;32m   1751\u001b[0m \u001b[0;34m\u001b[0m\u001b[0m\n",
      "\u001b[0;32m~/miniconda3/lib/python3.7/site-packages/sklearn/metrics/pairwise.py\u001b[0m in \u001b[0;36m_parallel_pairwise\u001b[0;34m(X, Y, func, n_jobs, **kwds)\u001b[0m\n\u001b[1;32m   1346\u001b[0m \u001b[0;34m\u001b[0m\u001b[0m\n\u001b[1;32m   1347\u001b[0m     \u001b[0;32mif\u001b[0m \u001b[0meffective_n_jobs\u001b[0m\u001b[0;34m(\u001b[0m\u001b[0mn_jobs\u001b[0m\u001b[0;34m)\u001b[0m \u001b[0;34m==\u001b[0m \u001b[0;36m1\u001b[0m\u001b[0;34m:\u001b[0m\u001b[0;34m\u001b[0m\u001b[0;34m\u001b[0m\u001b[0m\n\u001b[0;32m-> 1348\u001b[0;31m         \u001b[0;32mreturn\u001b[0m \u001b[0mfunc\u001b[0m\u001b[0;34m(\u001b[0m\u001b[0mX\u001b[0m\u001b[0;34m,\u001b[0m \u001b[0mY\u001b[0m\u001b[0;34m,\u001b[0m \u001b[0;34m**\u001b[0m\u001b[0mkwds\u001b[0m\u001b[0;34m)\u001b[0m\u001b[0;34m\u001b[0m\u001b[0;34m\u001b[0m\u001b[0m\n\u001b[0m\u001b[1;32m   1349\u001b[0m \u001b[0;34m\u001b[0m\u001b[0m\n\u001b[1;32m   1350\u001b[0m     \u001b[0;31m# enforce a threading backend to prevent data communication overhead\u001b[0m\u001b[0;34m\u001b[0m\u001b[0;34m\u001b[0m\u001b[0;34m\u001b[0m\u001b[0m\n",
      "\u001b[0;32m~/miniconda3/lib/python3.7/site-packages/sklearn/metrics/pairwise.py\u001b[0m in \u001b[0;36meuclidean_distances\u001b[0;34m(X, Y, Y_norm_squared, squared, X_norm_squared)\u001b[0m\n\u001b[1;32m    260\u001b[0m     \u001b[0mpaired_distances\u001b[0m \u001b[0;34m:\u001b[0m \u001b[0mdistances\u001b[0m \u001b[0mbetweens\u001b[0m \u001b[0mpairs\u001b[0m \u001b[0mof\u001b[0m \u001b[0melements\u001b[0m \u001b[0mof\u001b[0m \u001b[0mX\u001b[0m \u001b[0;32mand\u001b[0m \u001b[0mY\u001b[0m\u001b[0;34m.\u001b[0m\u001b[0;34m\u001b[0m\u001b[0;34m\u001b[0m\u001b[0m\n\u001b[1;32m    261\u001b[0m     \"\"\"\n\u001b[0;32m--> 262\u001b[0;31m     \u001b[0mX\u001b[0m\u001b[0;34m,\u001b[0m \u001b[0mY\u001b[0m \u001b[0;34m=\u001b[0m \u001b[0mcheck_pairwise_arrays\u001b[0m\u001b[0;34m(\u001b[0m\u001b[0mX\u001b[0m\u001b[0;34m,\u001b[0m \u001b[0mY\u001b[0m\u001b[0;34m)\u001b[0m\u001b[0;34m\u001b[0m\u001b[0;34m\u001b[0m\u001b[0m\n\u001b[0m\u001b[1;32m    263\u001b[0m \u001b[0;34m\u001b[0m\u001b[0m\n\u001b[1;32m    264\u001b[0m     \u001b[0;31m# If norms are passed as float32, they are unused. If arrays are passed as\u001b[0m\u001b[0;34m\u001b[0m\u001b[0;34m\u001b[0m\u001b[0;34m\u001b[0m\u001b[0m\n",
      "\u001b[0;32m~/miniconda3/lib/python3.7/site-packages/sklearn/metrics/pairwise.py\u001b[0m in \u001b[0;36mcheck_pairwise_arrays\u001b[0;34m(X, Y, precomputed, dtype, accept_sparse, force_all_finite, copy)\u001b[0m\n\u001b[1;32m    139\u001b[0m         X = check_array(X, accept_sparse=accept_sparse, dtype=dtype,\n\u001b[1;32m    140\u001b[0m                         \u001b[0mcopy\u001b[0m\u001b[0;34m=\u001b[0m\u001b[0mcopy\u001b[0m\u001b[0;34m,\u001b[0m \u001b[0mforce_all_finite\u001b[0m\u001b[0;34m=\u001b[0m\u001b[0mforce_all_finite\u001b[0m\u001b[0;34m,\u001b[0m\u001b[0;34m\u001b[0m\u001b[0;34m\u001b[0m\u001b[0m\n\u001b[0;32m--> 141\u001b[0;31m                         estimator=estimator)\n\u001b[0m\u001b[1;32m    142\u001b[0m         Y = check_array(Y, accept_sparse=accept_sparse, dtype=dtype,\n\u001b[1;32m    143\u001b[0m                         \u001b[0mcopy\u001b[0m\u001b[0;34m=\u001b[0m\u001b[0mcopy\u001b[0m\u001b[0;34m,\u001b[0m \u001b[0mforce_all_finite\u001b[0m\u001b[0;34m=\u001b[0m\u001b[0mforce_all_finite\u001b[0m\u001b[0;34m,\u001b[0m\u001b[0;34m\u001b[0m\u001b[0;34m\u001b[0m\u001b[0m\n",
      "\u001b[0;32m~/miniconda3/lib/python3.7/site-packages/sklearn/utils/validation.py\u001b[0m in \u001b[0;36mcheck_array\u001b[0;34m(array, accept_sparse, accept_large_sparse, dtype, order, copy, force_all_finite, ensure_2d, allow_nd, ensure_min_samples, ensure_min_features, warn_on_dtype, estimator)\u001b[0m\n\u001b[1;32m    584\u001b[0m                              \u001b[0;34m\" minimum of %d is required%s.\"\u001b[0m\u001b[0;34m\u001b[0m\u001b[0;34m\u001b[0m\u001b[0m\n\u001b[1;32m    585\u001b[0m                              % (n_samples, array.shape, ensure_min_samples,\n\u001b[0;32m--> 586\u001b[0;31m                                 context))\n\u001b[0m\u001b[1;32m    587\u001b[0m \u001b[0;34m\u001b[0m\u001b[0m\n\u001b[1;32m    588\u001b[0m     \u001b[0;32mif\u001b[0m \u001b[0mensure_min_features\u001b[0m \u001b[0;34m>\u001b[0m \u001b[0;36m0\u001b[0m \u001b[0;32mand\u001b[0m \u001b[0marray\u001b[0m\u001b[0;34m.\u001b[0m\u001b[0mndim\u001b[0m \u001b[0;34m==\u001b[0m \u001b[0;36m2\u001b[0m\u001b[0;34m:\u001b[0m\u001b[0;34m\u001b[0m\u001b[0;34m\u001b[0m\u001b[0m\n",
      "\u001b[0;31mValueError\u001b[0m: Found array with 0 sample(s) (shape=(0, 1)) while a minimum of 1 is required by check_pairwise_arrays."
     ]
    }
   ],
   "source": [
    "# Encode protocol names\n",
    "pdata[\"Protocol\"] = fam.encode_feature(pdata[\"Protocol\"])\n",
    "\n",
    "# Select infected host with most entries in dataset\n",
    "infected_host = pdata.loc[pdata[\"SourceAddress\"] == fam.select_infected_host(pdata)]\n",
    "non_infected_host = pdata.loc[pdata[\"SourceAddress\"] == fam.select_non_infected_host(pdata)]\n",
    "\n",
    "\n",
    "# Apply Elbow method to find optimal number of bins\n",
    "for feature in [\"Protocol\",\"Duration\",\"SourceBytes\"]:\n",
    "    fam.elbow(infected_host,feature)"
   ]
  },
  {
   "cell_type": "code",
   "execution_count": 12,
   "metadata": {},
   "outputs": [
    {
     "name": "stderr",
     "output_type": "stream",
     "text": [
      "/Users/lennartoverdevest/miniconda3/lib/python3.7/site-packages/ipykernel_launcher.py:12: SettingWithCopyWarning: \n",
      "A value is trying to be set on a copy of a slice from a DataFrame.\n",
      "Try using .loc[row_indexer,col_indexer] = value instead\n",
      "\n",
      "See the caveats in the documentation: https://pandas.pydata.org/pandas-docs/stable/user_guide/indexing.html#returning-a-view-versus-a-copy\n",
      "  if sys.path[0] == '':\n",
      "/Users/lennartoverdevest/miniconda3/lib/python3.7/site-packages/ipykernel_launcher.py:13: SettingWithCopyWarning: \n",
      "A value is trying to be set on a copy of a slice from a DataFrame.\n",
      "Try using .loc[row_indexer,col_indexer] = value instead\n",
      "\n",
      "See the caveats in the documentation: https://pandas.pydata.org/pandas-docs/stable/user_guide/indexing.html#returning-a-view-versus-a-copy\n",
      "  del sys.path[0]\n"
     ]
    },
    {
     "data": {
      "image/png": "[encoded data removed]",
      "text/plain": [
       "<Figure size 288x144 with 1 Axes>"
      ]
     },
     "metadata": {
      "needs_background": "light"
     },
     "output_type": "display_data"
    },
    {
     "name": "stderr",
     "output_type": "stream",
     "text": [
      "/Users/lennartoverdevest/miniconda3/lib/python3.7/site-packages/ipykernel_launcher.py:12: SettingWithCopyWarning: \n",
      "A value is trying to be set on a copy of a slice from a DataFrame.\n",
      "Try using .loc[row_indexer,col_indexer] = value instead\n",
      "\n",
      "See the caveats in the documentation: https://pandas.pydata.org/pandas-docs/stable/user_guide/indexing.html#returning-a-view-versus-a-copy\n",
      "  if sys.path[0] == '':\n",
      "/Users/lennartoverdevest/miniconda3/lib/python3.7/site-packages/ipykernel_launcher.py:13: SettingWithCopyWarning: \n",
      "A value is trying to be set on a copy of a slice from a DataFrame.\n",
      "Try using .loc[row_indexer,col_indexer] = value instead\n",
      "\n",
      "See the caveats in the documentation: https://pandas.pydata.org/pandas-docs/stable/user_guide/indexing.html#returning-a-view-versus-a-copy\n",
      "  del sys.path[0]\n"
     ]
    },
    {
     "data": {
      "image/png": "[encoded data removed]",
      "text/plain": [
       "<Figure size 288x144 with 1 Axes>"
      ]
     },
     "metadata": {
      "needs_background": "light"
     },
     "output_type": "display_data"
    },
    {
     "name": "stderr",
     "output_type": "stream",
     "text": [
      "/Users/lennartoverdevest/miniconda3/lib/python3.7/site-packages/sklearn/preprocessing/_discretization.py:184: ConvergenceWarning: Number of distinct clusters (3) found smaller than n_clusters (4). Possibly due to duplicate points in X.\n",
      "  centers = km.fit(column[:, None]).cluster_centers_[:, 0]\n",
      "/Users/lennartoverdevest/miniconda3/lib/python3.7/site-packages/sklearn/preprocessing/_discretization.py:197: UserWarning: Bins whose width are too small (i.e., <= 1e-8) in feature 0 are removed. Consider decreasing the number of bins.\n",
      "  'decreasing the number of bins.' % jj)\n",
      "/Users/lennartoverdevest/miniconda3/lib/python3.7/site-packages/ipykernel_launcher.py:12: SettingWithCopyWarning: \n",
      "A value is trying to be set on a copy of a slice from a DataFrame.\n",
      "Try using .loc[row_indexer,col_indexer] = value instead\n",
      "\n",
      "See the caveats in the documentation: https://pandas.pydata.org/pandas-docs/stable/user_guide/indexing.html#returning-a-view-versus-a-copy\n",
      "  if sys.path[0] == '':\n",
      "/Users/lennartoverdevest/miniconda3/lib/python3.7/site-packages/ipykernel_launcher.py:13: SettingWithCopyWarning: \n",
      "A value is trying to be set on a copy of a slice from a DataFrame.\n",
      "Try using .loc[row_indexer,col_indexer] = value instead\n",
      "\n",
      "See the caveats in the documentation: https://pandas.pydata.org/pandas-docs/stable/user_guide/indexing.html#returning-a-view-versus-a-copy\n",
      "  del sys.path[0]\n"
     ]
    },
    {
     "data": {
      "image/png": "[encoded data removed]",
      "text/plain": [
       "<Figure size 288x144 with 1 Axes>"
      ]
     },
     "metadata": {
      "needs_background": "light"
     },
     "output_type": "display_data"
    }
   ],
   "source": [
    "features = [\"Protocol\",\"Duration\",\"SourceBytes\"]\n",
    "nbins = [3,4,4]\n",
    "\n",
    "for feature, nbin in zip(features,nbins):\n",
    "    X = np.array(infected_host[feature]).reshape(-1,1)\n",
    "    enc = KBinsDiscretizer(n_bins=nbin, strategy=\"kmeans\")\n",
    "    X_binned = enc.fit_transform(X)\n",
    "    binsedges = enc.bin_edges_[0]\n",
    "    # needs to be done otherwise the first bucket doesnt contain any data     \n",
    "    binsedges[0] = binsedges[0] - 0.0000001\n",
    "    new_labels = range(0, len(binsedges)-1)\n",
    "    infected_host[feature] = pd.cut(np.array(infected_host[feature]), bins=binsedges, labels=new_labels)\n",
    "    non_infected_host[feature] = pd.cut(np.array(non_infected_host[feature]), bins=binsedges, labels=new_labels)\n",
    "    \n",
    "    counts = pd.cut(np.array(infected_host[feature]), bins=binsedges).value_counts()\n",
    "    fig, ax = plt.subplots(figsize=(4,2))\n",
    "    plt.hist(counts)\n",
    "    ax.set_xlabel(\"Bins\")\n",
    "    ax.set_title(\"Histogram for feature \"+feature)\n",
    "    plt.show()\n",
    "\n",
    "\n"
   ]
  },
  {
   "cell_type": "code",
   "execution_count": 35,
   "metadata": {},
   "outputs": [
    {
     "name": "stdout",
     "output_type": "stream",
     "text": [
      "00    10818\n",
      "20     1036\n",
      "21       10\n",
      "01        3\n",
      "10        2\n",
      "30        2\n",
      "11        2\n",
      "22        1\n",
      "Name: discretization_1, dtype: int64\n",
      "00      8648\n",
      "20       912\n",
      "10         6\n",
      "21         5\n",
      "01         3\n",
      "11         2\n",
      "30         2\n",
      "2nan       1\n",
      "Name: discretization_1_non, dtype: int64\n"
     ]
    },
    {
     "data": {
      "text/plain": [
       "Text(0.5, 1.0, 'Duration & SourceBytes')"
      ]
     },
     "execution_count": 35,
     "metadata": {},
     "output_type": "execute_result"
    },
    {
     "data": {
      "image/png": "[encoded data removed]",
      "text/plain": [
       "<Figure size 432x288 with 1 Axes>"
      ]
     },
     "metadata": {},
     "output_type": "display_data"
    }
   ],
   "source": [
    "infected_host.loc[:, 'discretization_1'] = ['' .join([str(x), str(y)]) for x, y in zip(infected_host['Duration'], infected_host['SourceBytes'])]\n",
    "non_infected_host.loc[:,'discretization_1_non'] = ['' .join([str(x), str(y)]) for x, y in zip(non_infected_host['Duration'], non_infected_host['SourceBytes'])]\n",
    "print(infected_host['discretization_1'].value_counts())\n",
    "print(non_infected_host['discretization_1_non'].value_counts())\n",
    "sns.set(style=\"darkgrid\")\n",
    "ax = sns.countplot(x=\"discretization_1\", data=infected_host, color=\"b\")\n",
    "ax = sns.countplot(x=\"discretization_1_non\", data=non_infected_host, color=\"r\")\n",
    "ax.set_title('Duration & SourceBytes')"
   ]
  },
  {
   "cell_type": "code",
   "execution_count": 38,
   "metadata": {},
   "outputs": [
    {
     "name": "stdout",
     "output_type": "stream",
     "text": [
      "00    10790\n",
      "20     1045\n",
      "02       27\n",
      "01        4\n",
      "12        2\n",
      "31        2\n",
      "10        1\n",
      "21        1\n",
      "22        1\n",
      "11        1\n",
      "Name: discretization_2, dtype: int64\n",
      "00    8617\n",
      "20     916\n",
      "02      28\n",
      "01       6\n",
      "10       4\n",
      "12       3\n",
      "31       2\n",
      "22       1\n",
      "11       1\n",
      "21       1\n",
      "Name: discretization_2_non, dtype: int64\n"
     ]
    },
    {
     "data": {
      "text/plain": [
       "Text(0.5, 1.0, 'Duration & Protocol')"
      ]
     },
     "execution_count": 38,
     "metadata": {},
     "output_type": "execute_result"
    },
    {
     "data": {
      "image/png": "[encoded data removed]",
      "text/plain": [
       "<Figure size 432x288 with 1 Axes>"
      ]
     },
     "metadata": {},
     "output_type": "display_data"
    }
   ],
   "source": [
    "infected_host.loc[:,'discretization_2'] = ['' .join([str(x), str(y)]) for x, y in zip(infected_host['Duration'], infected_host['Protocol'])]\n",
    "non_infected_host.loc[:, 'discretization_2_non'] = ['' .join([str(x), str(y)]) for x, y in zip(non_infected_host['Duration'], non_infected_host['Protocol'])]\n",
    "print(infected_host['discretization_2'].value_counts())\n",
    "print(non_infected_host['discretization_2_non'].value_counts())\n",
    "sns.set(style=\"darkgrid\")\n",
    "ax = sns.countplot(x=\"discretization_2\", data=infected_host, color=\"b\")\n",
    "ax = sns.countplot(x=\"discretization_2_non\", data=non_infected_host, color=\"r\")\n",
    "ax.set_title('Duration & Protocol')\n"
   ]
  },
  {
   "cell_type": "code",
   "execution_count": 37,
   "metadata": {},
   "outputs": [
    {
     "name": "stdout",
     "output_type": "stream",
     "text": [
      "00    11826\n",
      "20       24\n",
      "01       10\n",
      "10        8\n",
      "21        5\n",
      "22        1\n",
      "Name: discretization_3, dtype: int64\n",
      "00      9532\n",
      "20        26\n",
      "10        10\n",
      "01         5\n",
      "21         5\n",
      "2nan       1\n",
      "Name: discretization_3_non, dtype: int64\n"
     ]
    },
    {
     "data": {
      "text/plain": [
       "Text(0.5, 1.0, 'SourceBytes & Protocol')"
      ]
     },
     "execution_count": 37,
     "metadata": {},
     "output_type": "execute_result"
    },
    {
     "data": {
      "image/png": "[encoded data removed]",
      "text/plain": [
       "<Figure size 432x288 with 1 Axes>"
      ]
     },
     "metadata": {},
     "output_type": "display_data"
    }
   ],
   "source": [
    "infected_host.loc[:,'discretization_3'] = ['' .join([str(x), str(y)]) for x, y in zip(infected_host['Protocol'], infected_host['SourceBytes'])]\n",
    "non_infected_host.loc[:,'discretization_3_non'] = ['' .join([str(x), str(y)]) for x, y in zip(non_infected_host['Protocol'], non_infected_host['SourceBytes'])]\n",
    "print(infected_host['discretization_3'].value_counts())\n",
    "print(non_infected_host['discretization_3_non'].value_counts())\n",
    "sns.set(style=\"darkgrid\")\n",
    "ax = sns.countplot(x=\"discretization_2\", data=infected_host, color=\"b\")\n",
    "ax = sns.countplot(x=\"discretization_2_non\", data=non_infected_host, color=\"r\")\n",
    "ax.set_title('SourceBytes & Protocol')"
   ]
  },
  {
   "cell_type": "code",
   "execution_count": 36,
   "metadata": {},
   "outputs": [
    {
     "name": "stdout",
     "output_type": "stream",
     "text": [
      "000    10790\n",
      "020     1035\n",
      "200       24\n",
      "021       10\n",
      "100        4\n",
      "201        3\n",
      "211        2\n",
      "130        2\n",
      "120        1\n",
      "010        1\n",
      "110        1\n",
      "222        1\n",
      "Name: discretization_4, dtype: int64\n",
      "000      8617\n",
      "020       911\n",
      "200        25\n",
      "100         6\n",
      "021         5\n",
      "010         4\n",
      "201         3\n",
      "130         2\n",
      "211         2\n",
      "210         1\n",
      "120         1\n",
      "22nan       1\n",
      "110         1\n",
      "Name: discretization_4_non, dtype: int64\n"
     ]
    },
    {
     "data": {
      "text/plain": [
       "Text(0.5, 1.0, 'Duration & Protocol & SourceBytes')"
      ]
     },
     "execution_count": 36,
     "metadata": {},
     "output_type": "execute_result"
    },
    {
     "data": {
      "image/png": "[encoded data removed]",
      "text/plain": [
       "<Figure size 432x288 with 1 Axes>"
      ]
     },
     "metadata": {},
     "output_type": "display_data"
    }
   ],
   "source": [
    "infected_host.loc[:,'discretization_4'] = ['' .join([str(x), str(y), str(z)]) for x, y, z in zip(infected_host['Protocol'], infected_host['Duration'], infected_host['SourceBytes'])]\n",
    "non_infected_host.loc[:,'discretization_4_non'] = ['' .join([str(x), str(y), str(z)]) for x, y, z  in zip(non_infected_host['Protocol'], non_infected_host['Duration'], non_infected_host['SourceBytes'])]\n",
    "\n",
    "print(infected_host['discretization_4'].value_counts())\n",
    "print(non_infected_host['discretization_4_non'].value_counts())\n",
    "sns.set(style=\"darkgrid\")\n",
    "ax = sns.countplot(x=\"discretization_4\", data=infected_host, color=\"b\")\n",
    "ax = sns.countplot(x=\"discretization_4_non\", data=non_infected_host, color=\"r\")\n",
    "ax.set_title('Duration & Protocol & SourceBytes')"
   ]
  },
  {
   "cell_type": "code",
   "execution_count": null,
   "metadata": {},
   "outputs": [],
   "source": []
  }
 ],
 "metadata": {
  "celltoolbar": "Raw Cell Format",
  "kernelspec": {
   "display_name": "Python 3",
   "language": "python",
   "name": "python3"
  },
  "language_info": {
   "codemirror_mode": {
    "name": "ipython",
    "version": 3
   },
   "file_extension": ".py",
   "mimetype": "text/x-python",
   "name": "python",
   "nbconvert_exporter": "python",
   "pygments_lexer": "ipython3",
   "version": "3.7.3"
  }
 },
 "nbformat": 4,
 "nbformat_minor": 4
}
