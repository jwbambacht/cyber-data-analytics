{
 "cells": [
  {
   "cell_type": "code",
   "execution_count": 233,
   "metadata": {},
   "outputs": [
    {
     "name": "stdout",
     "output_type": "stream",
     "text": [
      "The autoreload extension is already loaded. To reload it, use:\n",
      "  %reload_ext autoreload\n"
     ]
    }
   ],
   "source": [
    "%reset -f\n",
    "%load_ext autoreload\n",
    "%autoreload 2\n",
    "\n",
    "import pandas as pd\n",
    "import seaborn as sns\n",
    "import matplotlib.pyplot as plt\n",
    "import matplotlib\n",
    "import numpy as np\n",
    "import profiling as prof\n",
    "from nltk.util import ngrams\n",
    "from collections import Counter\n",
    "import itertools\n",
    "from numpy import dot\n",
    "from numpy.linalg import norm\n",
    "from math import sqrt\n",
    "\n",
    "data9 = prof.load_data(\"data/capture20110817.binetflow\")\n",
    "data10 = prof.load_data(\"data/capture20110818-2.binetflow\")\n",
    "data11 = prof.load_data(\"data/capture20110818.binetflow\")\n",
    "data12 = prof.load_data(\"data/capture20110819.binetflow\")\n",
    "pdata9 = prof.pre_process(data9,9)\n",
    "pdata10 = prof.pre_process(data10,10)\n",
    "pdata11 = prof.pre_process(data11,11)\n",
    "pdata12 = prof.pre_process(data12,12)"
   ]
  },
  {
   "cell_type": "code",
   "execution_count": 323,
   "metadata": {},
   "outputs": [
    {
     "data": {
      "text/html": [
       "<div>\n",
       "<style scoped>\n",
       "    .dataframe tbody tr th:only-of-type {\n",
       "        vertical-align: middle;\n",
       "    }\n",
       "\n",
       "    .dataframe tbody tr th {\n",
       "        vertical-align: top;\n",
       "    }\n",
       "\n",
       "    .dataframe thead th {\n",
       "        text-align: right;\n",
       "    }\n",
       "</style>\n",
       "<table border=\"1\" class=\"dataframe\">\n",
       "  <thead>\n",
       "    <tr style=\"text-align: right;\">\n",
       "      <th></th>\n",
       "      <th>Scenario</th>\n",
       "      <th>Threshold</th>\n",
       "      <th>Unknown</th>\n",
       "      <th>TP</th>\n",
       "      <th>FP</th>\n",
       "      <th>FN</th>\n",
       "      <th>TN</th>\n",
       "      <th>NEW_INFECTIONS</th>\n",
       "    </tr>\n",
       "  </thead>\n",
       "  <tbody>\n",
       "    <tr>\n",
       "      <th>18</th>\n",
       "      <td>9.0</td>\n",
       "      <td>0.18</td>\n",
       "      <td>19.0</td>\n",
       "      <td>9.0</td>\n",
       "      <td>5.0</td>\n",
       "      <td>1.0</td>\n",
       "      <td>1.0</td>\n",
       "      <td>12.0</td>\n",
       "    </tr>\n",
       "    <tr>\n",
       "      <th>43</th>\n",
       "      <td>10.0</td>\n",
       "      <td>0.18</td>\n",
       "      <td>9.0</td>\n",
       "      <td>2.0</td>\n",
       "      <td>1.0</td>\n",
       "      <td>1.0</td>\n",
       "      <td>5.0</td>\n",
       "      <td>0.0</td>\n",
       "    </tr>\n",
       "    <tr>\n",
       "      <th>68</th>\n",
       "      <td>11.0</td>\n",
       "      <td>0.18</td>\n",
       "      <td>19.0</td>\n",
       "      <td>3.0</td>\n",
       "      <td>1.0</td>\n",
       "      <td>0.0</td>\n",
       "      <td>5.0</td>\n",
       "      <td>7.0</td>\n",
       "    </tr>\n",
       "    <tr>\n",
       "      <th>93</th>\n",
       "      <td>12.0</td>\n",
       "      <td>0.18</td>\n",
       "      <td>14.0</td>\n",
       "      <td>3.0</td>\n",
       "      <td>5.0</td>\n",
       "      <td>0.0</td>\n",
       "      <td>1.0</td>\n",
       "      <td>6.0</td>\n",
       "    </tr>\n",
       "  </tbody>\n",
       "</table>\n",
       "</div>"
      ],
      "text/plain": [
       "    Scenario  Threshold  Unknown   TP   FP   FN   TN  NEW_INFECTIONS\n",
       "18       9.0       0.18     19.0  9.0  5.0  1.0  1.0            12.0\n",
       "43      10.0       0.18      9.0  2.0  1.0  1.0  5.0             0.0\n",
       "68      11.0       0.18     19.0  3.0  1.0  0.0  5.0             7.0\n",
       "93      12.0       0.18     14.0  3.0  5.0  0.0  1.0             6.0"
      ]
     },
     "execution_count": 323,
     "metadata": {},
     "output_type": "execute_result"
    }
   ],
   "source": [
    "scenarios = [9, 10, 11, 12]\n",
    "grid_search = pd.DataFrame(columns=[\"Scenario\", \"Threshold\",\"Unknown\",\"TP\",\"FP\",\"FN\",\"TN\",\"NEW_INFECTIONS\"])\n",
    "\n",
    "for scenario in scenarios:\n",
    "    if scenario == 9:\n",
    "        pdata = pdata9.copy()\n",
    "    elif scenario == 10:\n",
    "        pdata = pdata10.copy()\n",
    "    elif scenario == 11:\n",
    "        pdata = pdata11.copy()\n",
    "    elif scenario == 12:\n",
    "        pdata = pdata12.copy() \n",
    "\n",
    "    # Feature to use, including its optimal binsize, and discretized to be used for n-grams\n",
    "    feature = \"Protocol\"\n",
    "    nbins = 3\n",
    "\n",
    "    discretized_data = pd.DataFrame()\n",
    "    discretized_data[\"StartTime\"] = pdata[\"StartTime\"].copy()\n",
    "    discretized_data[\"SourceAddress\"] = pdata[\"SourceAddress\"].copy()\n",
    "    discretized_data[\"DestinationAddress\"] = pdata[\"DestinationAddress\"].copy()\n",
    "    pdata[\"Protocol\"] = prof.encode_feature(pdata[\"Protocol\"])\n",
    "    discretized_data[feature], binsedges_infected = prof.discretize_feature(pdata, feature, nbins, \"kmeans\")\n",
    "\n",
    "    # Select source with most entries in given dataset to deliver most reliable n-gram profile\n",
    "    # Determine list of all possible n-grams for selected host\n",
    "    # This is the 3-gram profile of this host\n",
    "    selected_source = prof.select_infected_host(pdata,scenario)\n",
    "    filtered_source = discretized_data.loc[discretized_data.SourceAddress == selected_source]\n",
    "\n",
    "    ngram = 3\n",
    "    top_k = 10\n",
    "    all_n_grams = list(itertools.product(*[['0','1','2'],['0','1','2'],['0','1','2']]))\n",
    "\n",
    "    n_grams = pd.Index(list(ngrams(filtered_source[feature].astype(str),ngram)))\n",
    "    n_grams_counts = [0]*len(all_n_grams)\n",
    "\n",
    "    for i in range(len(n_grams.value_counts())):\n",
    "        n_gram = n_grams.value_counts()\n",
    "        index_all_n_grams = all_n_grams.index(n_gram.index[i])\n",
    "        n_grams_counts[index_all_n_grams] = n_gram[i]\n",
    "\n",
    "    # Group netflows by source address (host) because we are interested in modeling per-host behavior\n",
    "    unique_sources = pdata.groupby([\"SourceAddress\"]).size().reset_index()\n",
    "\n",
    "    # Calculate the distance for every other source compared to the selected source/host\n",
    "    distances = [100]*len(unique_sources)\n",
    "    n_gram_count_list = list()\n",
    "\n",
    "    for i in range(len(unique_sources)):\n",
    "        source = unique_sources.iloc[i]\n",
    "        n_gram_counts = [0]*top_k\n",
    "\n",
    "        filtered = discretized_data.loc[discretized_data.SourceAddress == source.SourceAddress]\n",
    "        n_grams_source = pd.Index(list(ngrams(filtered[feature].astype(str),ngram)))\n",
    "        n_grams_source_counts = [0]*len(all_n_grams)\n",
    "\n",
    "        for j in range(len(n_grams_source.value_counts())):\n",
    "            n_gram = n_grams_source.value_counts()\n",
    "            index_all_n_grams = all_n_grams.index(n_gram.index[j])\n",
    "            n_grams_source_counts[index_all_n_grams] = n_gram[j]\n",
    "\n",
    "\n",
    "        # Cosine distance between selected host and other hosts\n",
    "        if np.sum(n_grams_source_counts) == 0:\n",
    "            distances[i] = 1\n",
    "        else:\n",
    "            distances[i] = 1-dot(n_grams_counts, n_grams_source_counts)/(norm(n_grams_counts)*norm(n_grams_source_counts))\n",
    "\n",
    "\n",
    "    # Create an overview of the results including the original label and predicted label\n",
    "    results = pd.DataFrame(columns=[\"SourceAddress\",\"Cosine_Distance\",\"Label\",\"Prediction\"])\n",
    "\n",
    "    for i in range(len(distances)):\n",
    "        distance = distances[i]\n",
    "        source = unique_sources.SourceAddress.iloc[i]\n",
    "        infected = prof.is_infected(source, scenario)\n",
    "        normal = prof.is_normal(source)\n",
    "        label = -1\n",
    "\n",
    "        if infected == True:\n",
    "            label = 1\n",
    "        elif normal == True:\n",
    "            label = 0\n",
    "\n",
    "        results = results.append({\"SourceAddress\": source, \"Cosine_Distance\": distance, \"Label\": label, \"Prediction\": ''}, ignore_index=True)\n",
    "    \n",
    "    thresholds = np.arange(0,0.25,0.01)\n",
    "    \n",
    "    # For each threshold ranging from 0 to 0.25, in steps of 0.01 we check the results to be able to choose\n",
    "    # good threshold. This is only based on 'training' scenario 9, the other sets will use the threshold \n",
    "    # that has been chosen optimal in scenario 9\n",
    "    for threshold in thresholds:\n",
    "        results.Prediction = results.Cosine_Distance.apply(lambda x: 1 if x <= threshold else 0)\n",
    "\n",
    "        TP = 0\n",
    "        FP = 0\n",
    "        FN = 0\n",
    "        TN = 0\n",
    "        new_infections = 0\n",
    "        unknown = 0\n",
    "\n",
    "        for i in range(len(results)):\n",
    "            row = results.iloc[i]\n",
    "            if row.Label == row.Prediction and row.Label == 1:\n",
    "                TP += 1\n",
    "            elif row.Label == 0 and row.Prediction == 1:\n",
    "                FP += 1\n",
    "            elif row.Label == 0 and row.Prediction == 0:\n",
    "                TN += 1\n",
    "            elif row.Label == 1 and row.Prediction == 0:\n",
    "                FN += 1\n",
    "\n",
    "            if row.Label == -1 and row.Prediction == 1:\n",
    "                new_infections += 1\n",
    "                \n",
    "            if row.Label == -1:\n",
    "                unknown += 1\n",
    "                \n",
    "        grid_search = grid_search.append({\"Scenario\": scenario, \"Threshold\": threshold, \"Unknown\": unknown, \"TP\": TP, \"FP\": FP, \"FN\": FN, \"TN\": TN, \"NEW_INFECTIONS\": new_infections}, ignore_index=True)\n",
    "\n",
    "# Uncheck print statement to see all results of results\n",
    "pd.set_option('display.max_rows', None)\n",
    "# print(grid_search)\n",
    "        \n",
    "# Manual evaluation of results of grid search delivered an optimal threshold of 0.18\n",
    "# For scenario 9 this threshold delivers 12 new infections at the cost of a couple false positives\n",
    "# For the other scenarios it didn't really matter which threshold to choose\n",
    "filter_threshold = grid_search.loc[grid_search.Threshold == 0.18]\n",
    "filter_threshold.head()"
   ]
  },
  {
   "cell_type": "code",
   "execution_count": null,
   "metadata": {
    "scrolled": false
   },
   "outputs": [],
   "source": []
  },
  {
   "cell_type": "code",
   "execution_count": null,
   "metadata": {},
   "outputs": [],
   "source": []
  },
  {
   "cell_type": "code",
   "execution_count": null,
   "metadata": {},
   "outputs": [],
   "source": []
  },
  {
   "cell_type": "code",
   "execution_count": null,
   "metadata": {},
   "outputs": [],
   "source": []
  },
  {
   "cell_type": "code",
   "execution_count": null,
   "metadata": {},
   "outputs": [],
   "source": []
  },
  {
   "cell_type": "code",
   "execution_count": null,
   "metadata": {},
   "outputs": [],
   "source": []
  },
  {
   "cell_type": "code",
   "execution_count": null,
   "metadata": {},
   "outputs": [],
   "source": []
  },
  {
   "cell_type": "code",
   "execution_count": null,
   "metadata": {},
   "outputs": [],
   "source": []
  },
  {
   "cell_type": "code",
   "execution_count": null,
   "metadata": {},
   "outputs": [],
   "source": []
  },
  {
   "cell_type": "code",
   "execution_count": null,
   "metadata": {},
   "outputs": [],
   "source": []
  },
  {
   "cell_type": "code",
   "execution_count": null,
   "metadata": {},
   "outputs": [],
   "source": []
  },
  {
   "cell_type": "code",
   "execution_count": null,
   "metadata": {},
   "outputs": [],
   "source": []
  },
  {
   "cell_type": "code",
   "execution_count": null,
   "metadata": {},
   "outputs": [],
   "source": []
  },
  {
   "cell_type": "code",
   "execution_count": null,
   "metadata": {},
   "outputs": [],
   "source": []
  },
  {
   "cell_type": "code",
   "execution_count": null,
   "metadata": {},
   "outputs": [],
   "source": []
  },
  {
   "cell_type": "code",
   "execution_count": null,
   "metadata": {},
   "outputs": [],
   "source": []
  },
  {
   "cell_type": "code",
   "execution_count": null,
   "metadata": {
    "scrolled": false
   },
   "outputs": [],
   "source": []
  },
  {
   "cell_type": "code",
   "execution_count": null,
   "metadata": {},
   "outputs": [],
   "source": []
  },
  {
   "cell_type": "code",
   "execution_count": null,
   "metadata": {
    "scrolled": false
   },
   "outputs": [],
   "source": []
  },
  {
   "cell_type": "code",
   "execution_count": null,
   "metadata": {},
   "outputs": [],
   "source": []
  },
  {
   "cell_type": "code",
   "execution_count": null,
   "metadata": {},
   "outputs": [],
   "source": []
  },
  {
   "cell_type": "code",
   "execution_count": null,
   "metadata": {},
   "outputs": [],
   "source": []
  },
  {
   "cell_type": "code",
   "execution_count": null,
   "metadata": {},
   "outputs": [],
   "source": []
  },
  {
   "cell_type": "code",
   "execution_count": null,
   "metadata": {},
   "outputs": [],
   "source": []
  },
  {
   "cell_type": "code",
   "execution_count": null,
   "metadata": {},
   "outputs": [],
   "source": []
  },
  {
   "cell_type": "code",
   "execution_count": 234,
   "metadata": {},
   "outputs": [],
   "source": []
  },
  {
   "cell_type": "code",
   "execution_count": null,
   "metadata": {},
   "outputs": [],
   "source": []
  },
  {
   "cell_type": "code",
   "execution_count": null,
   "metadata": {},
   "outputs": [],
   "source": []
  },
  {
   "cell_type": "code",
   "execution_count": null,
   "metadata": {},
   "outputs": [],
   "source": [
    "\n"
   ]
  },
  {
   "cell_type": "code",
   "execution_count": null,
   "metadata": {},
   "outputs": [],
   "source": []
  },
  {
   "cell_type": "code",
   "execution_count": null,
   "metadata": {},
   "outputs": [],
   "source": []
  },
  {
   "cell_type": "code",
   "execution_count": null,
   "metadata": {},
   "outputs": [],
   "source": []
  },
  {
   "cell_type": "code",
   "execution_count": null,
   "metadata": {},
   "outputs": [],
   "source": []
  },
  {
   "cell_type": "code",
   "execution_count": null,
   "metadata": {},
   "outputs": [],
   "source": []
  },
  {
   "cell_type": "code",
   "execution_count": null,
   "metadata": {},
   "outputs": [],
   "source": []
  },
  {
   "cell_type": "code",
   "execution_count": null,
   "metadata": {},
   "outputs": [],
   "source": []
  },
  {
   "cell_type": "code",
   "execution_count": null,
   "metadata": {},
   "outputs": [],
   "source": []
  },
  {
   "cell_type": "code",
   "execution_count": null,
   "metadata": {},
   "outputs": [],
   "source": []
  },
  {
   "cell_type": "code",
   "execution_count": null,
   "metadata": {},
   "outputs": [],
   "source": []
  },
  {
   "cell_type": "code",
   "execution_count": null,
   "metadata": {},
   "outputs": [],
   "source": []
  },
  {
   "cell_type": "code",
   "execution_count": null,
   "metadata": {},
   "outputs": [],
   "source": []
  },
  {
   "cell_type": "code",
   "execution_count": null,
   "metadata": {},
   "outputs": [],
   "source": []
  },
  {
   "cell_type": "code",
   "execution_count": null,
   "metadata": {},
   "outputs": [],
   "source": []
  },
  {
   "cell_type": "code",
   "execution_count": null,
   "metadata": {},
   "outputs": [],
   "source": []
  },
  {
   "cell_type": "code",
   "execution_count": null,
   "metadata": {},
   "outputs": [],
   "source": []
  },
  {
   "cell_type": "code",
   "execution_count": null,
   "metadata": {},
   "outputs": [],
   "source": []
  },
  {
   "cell_type": "code",
   "execution_count": null,
   "metadata": {},
   "outputs": [],
   "source": []
  },
  {
   "cell_type": "code",
   "execution_count": null,
   "metadata": {},
   "outputs": [],
   "source": []
  }
 ],
 "metadata": {
  "kernelspec": {
   "display_name": "Python 3",
   "language": "python",
   "name": "python3"
  },
  "language_info": {
   "codemirror_mode": {
    "name": "ipython",
    "version": 3
   },
   "file_extension": ".py",
   "mimetype": "text/x-python",
   "name": "python",
   "nbconvert_exporter": "python",
   "pygments_lexer": "ipython3",
   "version": "3.7.7"
  }
 },
 "nbformat": 4,
 "nbformat_minor": 4
}
